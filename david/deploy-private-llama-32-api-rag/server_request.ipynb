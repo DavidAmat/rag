{
 "cells": [
  {
   "cell_type": "code",
   "execution_count": 1,
   "metadata": {},
   "outputs": [],
   "source": [
    "import requests\n"
   ]
  },
  {
   "cell_type": "code",
   "execution_count": 4,
   "metadata": {},
   "outputs": [
    {
     "name": "stdout",
     "output_type": "stream",
     "text": [
      "Answer from RAG server: \n"
     ]
    }
   ],
   "source": [
    "# Define the API endpoint URL\n",
    "url = \"http://127.0.0.1:8080/predict\"\n",
    "\n",
    "# Define the question you want to ask\n",
    "question = \"What is DSPy?\"\n",
    "\n",
    "# Prepare the request payload\n",
    "payload = {\"query\": question}\n",
    "\n",
    "# Send the POST request to the RAG server\n",
    "response = requests.post(url, json=payload)\n",
    "\n",
    "# Get the response text\n",
    "answer = response.json()[\"output\"]\n",
    "print(\"Answer from RAG server:\", answer)"
   ]
  },
  {
   "cell_type": "code",
   "execution_count": 3,
   "metadata": {},
   "outputs": [
    {
     "data": {
      "text/plain": [
       "''"
      ]
     },
     "execution_count": 3,
     "metadata": {},
     "output_type": "execute_result"
    }
   ],
   "source": [
    "answer"
   ]
  },
  {
   "cell_type": "code",
   "execution_count": null,
   "metadata": {},
   "outputs": [],
   "source": []
  }
 ],
 "metadata": {
  "kernelspec": {
   "display_name": "kr_apirag",
   "language": "python",
   "name": "kr_apirag"
  },
  "language_info": {
   "codemirror_mode": {
    "name": "ipython",
    "version": 3
   },
   "file_extension": ".py",
   "mimetype": "text/x-python",
   "name": "python",
   "nbconvert_exporter": "python",
   "pygments_lexer": "ipython3",
   "version": "3.10.14"
  }
 },
 "nbformat": 4,
 "nbformat_minor": 2
}
