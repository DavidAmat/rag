{
 "cells": [
  {
   "cell_type": "code",
   "execution_count": 2,
   "metadata": {},
   "outputs": [],
   "source": [
    "import requests"
   ]
  },
  {
   "cell_type": "code",
   "execution_count": 3,
   "metadata": {},
   "outputs": [
    {
     "name": "stdout",
     "output_type": "stream",
     "text": [
      "Answer from RAG server: Based on the provided context information, here's a summary of the CV:\n",
      "\n",
      "**Name:** David Amat\n",
      "\n",
      "**Title:** Senior Data Scientist (Glovo)\n",
      "\n",
      "**Location:** Barcelona, Spain\n",
      "\n",
      "**Contact Information:**\n",
      "\n",
      "* Phone Number: +(34)-608526629\n",
      "* Email: daolondrizdaolondriz@gmai.com\n",
      "* GitHub: DavidAmat\n",
      "* LinkedIn: david-amat-olondriz/\n",
      "\n",
      "**Summary:**\n",
      "David Amat is a Full Stack Data Scientist with 6+ years of experience in end-to-end ML development, specializing in recommender systems, deep learning, NLP, computer vision, and AI/LLM technologies.\n",
      "\n",
      "**Work Experience:**\n",
      "\n",
      "* **Senior Data Scientist (Glovo)** (07.2020 - Current)\n",
      "\t+ Led the development and optimization of a Stock Prediction Model (SPM) for Groceries, resulting in ~€2M annual savings.\n",
      "\t+ Engineered a new restaurant recommender system, leading to a 1% absolute increase in CVR.\n",
      "\t+ Ideated and productized a Multi-Armed Bandit framework to tailor recommender widgets for each user.\n",
      "* **Data Scientist (Banc Sabadell)** (11.2018 - 07\n"
     ]
    }
   ],
   "source": [
    "# Define the API endpoint URL\n",
    "url = \"http://127.0.0.1:8080/predict\"\n",
    "\n",
    "# Define the question you want to ask\n",
    "question = \"Summarize the CV?\"\n",
    "\n",
    "# Prepare the request payload\n",
    "payload = {\"query\": question}\n",
    "\n",
    "# Send the POST request to the RAG server\n",
    "response = requests.post(url, json=payload)\n",
    "\n",
    "# Get the response text\n",
    "answer = response.json()[\"output\"]\n",
    "print(\"Answer from RAG server:\", answer)"
   ]
  },
  {
   "cell_type": "code",
   "execution_count": 6,
   "metadata": {},
   "outputs": [
    {
     "data": {
      "text/plain": [
       "''"
      ]
     },
     "execution_count": 6,
     "metadata": {},
     "output_type": "execute_result"
    }
   ],
   "source": [
    "answer"
   ]
  },
  {
   "cell_type": "code",
   "execution_count": null,
   "metadata": {},
   "outputs": [],
   "source": []
  }
 ],
 "metadata": {
  "kernelspec": {
   "display_name": "kr_apirag",
   "language": "python",
   "name": "kr_apirag"
  },
  "language_info": {
   "codemirror_mode": {
    "name": "ipython",
    "version": 3
   },
   "file_extension": ".py",
   "mimetype": "text/x-python",
   "name": "python",
   "nbconvert_exporter": "python",
   "pygments_lexer": "ipython3",
   "version": "3.10.14"
  }
 },
 "nbformat": 4,
 "nbformat_minor": 2
}
