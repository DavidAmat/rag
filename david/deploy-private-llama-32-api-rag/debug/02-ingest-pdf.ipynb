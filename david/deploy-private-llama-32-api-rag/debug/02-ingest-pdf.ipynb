{
 "cells": [
  {
   "cell_type": "code",
   "execution_count": 1,
   "metadata": {},
   "outputs": [],
   "source": [
    "from fastembed import TextEmbedding\n",
    "import os \n",
    "os.chdir(\"/home/david/Documents/data_science/rag/david/deploy-private-llama-32-api-rag\")"
   ]
  },
  {
   "cell_type": "code",
   "execution_count": 2,
   "metadata": {},
   "outputs": [
    {
     "data": {
      "application/vnd.jupyter.widget-view+json": {
       "model_id": "5027ea876e5a4207969eaddd3b6edc59",
       "version_major": 2,
       "version_minor": 0
      },
      "text/plain": [
       "Fetching 5 files:   0%|          | 0/5 [00:00<?, ?it/s]"
      ]
     },
     "metadata": {},
     "output_type": "display_data"
    },
    {
     "data": {
      "application/vnd.jupyter.widget-view+json": {
       "model_id": "16fcb4dcf3a5437181a5d8a237ccdeb7",
       "version_major": 2,
       "version_minor": 0
      },
      "text/plain": [
       "model.onnx:   0%|          | 0.00/548M [00:00<?, ?B/s]"
      ]
     },
     "metadata": {},
     "output_type": "display_data"
    },
    {
     "data": {
      "application/vnd.jupyter.widget-view+json": {
       "model_id": "cd64d28258b041d4b1c9342f495712b5",
       "version_major": 2,
       "version_minor": 0
      },
      "text/plain": [
       "special_tokens_map.json:   0%|          | 0.00/695 [00:00<?, ?B/s]"
      ]
     },
     "metadata": {},
     "output_type": "display_data"
    },
    {
     "data": {
      "application/vnd.jupyter.widget-view+json": {
       "model_id": "cb9c9db67c19416cbf622d1187e4e703",
       "version_major": 2,
       "version_minor": 0
      },
      "text/plain": [
       "tokenizer_config.json:   0%|          | 0.00/1.19k [00:00<?, ?B/s]"
      ]
     },
     "metadata": {},
     "output_type": "display_data"
    },
    {
     "data": {
      "application/vnd.jupyter.widget-view+json": {
       "model_id": "87e2b0d4fa0b4579bcac7dd15fd9a938",
       "version_major": 2,
       "version_minor": 0
      },
      "text/plain": [
       "config.json:   0%|          | 0.00/2.06k [00:00<?, ?B/s]"
      ]
     },
     "metadata": {},
     "output_type": "display_data"
    },
    {
     "data": {
      "application/vnd.jupyter.widget-view+json": {
       "model_id": "12cced02228a48e1b1b07afe49ddedc3",
       "version_major": 2,
       "version_minor": 0
      },
      "text/plain": [
       "tokenizer.json:   0%|          | 0.00/711k [00:00<?, ?B/s]"
      ]
     },
     "metadata": {},
     "output_type": "display_data"
    }
   ],
   "source": [
    "embed_model = TextEmbedding(model_name=\"nomic-ai/nomic-embed-text-v1.5\")"
   ]
  },
  {
   "cell_type": "code",
   "execution_count": 3,
   "metadata": {},
   "outputs": [],
   "source": [
    "directory = \"./data\""
   ]
  },
  {
   "cell_type": "code",
   "execution_count": 4,
   "metadata": {},
   "outputs": [
    {
     "data": {
      "text/plain": [
       "['curriculum_v10.pdf']"
      ]
     },
     "execution_count": 4,
     "metadata": {},
     "output_type": "execute_result"
    }
   ],
   "source": [
    "os.listdir(directory)"
   ]
  },
  {
   "cell_type": "markdown",
   "metadata": {},
   "source": [
    "# Ingest PDFs"
   ]
  },
  {
   "cell_type": "code",
   "execution_count": 5,
   "metadata": {},
   "outputs": [],
   "source": [
    "pdf_directory = \"./data\""
   ]
  },
  {
   "cell_type": "markdown",
   "metadata": {},
   "source": [
    "### Qdrant Client"
   ]
  },
  {
   "cell_type": "code",
   "execution_count": 6,
   "metadata": {},
   "outputs": [],
   "source": [
    "from ingestion import setup_qdrant_client"
   ]
  },
  {
   "cell_type": "code",
   "execution_count": 7,
   "metadata": {},
   "outputs": [],
   "source": [
    "from qdrant_client import QdrantClient\n",
    "from qdrant_client.models import Distance, OptimizersConfigDiff, VectorParams"
   ]
  },
  {
   "cell_type": "code",
   "execution_count": 8,
   "metadata": {},
   "outputs": [],
   "source": [
    "qdrant_url: str = \"http://localhost:6333\"\n",
    "collection_name: str = \"qdrant_collection\""
   ]
  },
  {
   "cell_type": "code",
   "execution_count": 9,
   "metadata": {},
   "outputs": [],
   "source": [
    "client = QdrantClient(url=qdrant_url, prefer_grpc=False)"
   ]
  },
  {
   "cell_type": "code",
   "execution_count": 10,
   "metadata": {},
   "outputs": [
    {
     "data": {
      "text/plain": [
       "True"
      ]
     },
     "execution_count": 10,
     "metadata": {},
     "output_type": "execute_result"
    }
   ],
   "source": [
    "client.collection_exists(collection_name=collection_name)"
   ]
  },
  {
   "cell_type": "code",
   "execution_count": 22,
   "metadata": {},
   "outputs": [],
   "source": [
    "vector_config = VectorParams(\n",
    "    size=768,\n",
    "    distance=Distance.DOT,\n",
    "    on_disk=True,\n",
    ")"
   ]
  },
  {
   "cell_type": "code",
   "execution_count": 23,
   "metadata": {},
   "outputs": [
    {
     "data": {
      "text/plain": [
       "VectorParams(size=768, distance=<Distance.DOT: 'Dot'>, hnsw_config=None, quantization_config=None, on_disk=True, datatype=None, multivector_config=None)"
      ]
     },
     "execution_count": 23,
     "metadata": {},
     "output_type": "execute_result"
    }
   ],
   "source": [
    "vector_config"
   ]
  },
  {
   "cell_type": "code",
   "execution_count": 24,
   "metadata": {},
   "outputs": [
    {
     "data": {
      "text/plain": [
       "<Distance.DOT: 'Dot'>"
      ]
     },
     "execution_count": 24,
     "metadata": {},
     "output_type": "execute_result"
    }
   ],
   "source": [
    "Distance.DOT."
   ]
  },
  {
   "cell_type": "markdown",
   "metadata": {},
   "source": [
    "## Client"
   ]
  },
  {
   "cell_type": "code",
   "execution_count": 10,
   "metadata": {},
   "outputs": [],
   "source": [
    "client = setup_qdrant_client(qdrant_url, collection_name)"
   ]
  },
  {
   "cell_type": "markdown",
   "metadata": {},
   "source": [
    "## Process PDFS"
   ]
  },
  {
   "cell_type": "code",
   "execution_count": 26,
   "metadata": {},
   "outputs": [],
   "source": [
    "directory = pdf_directory\n",
    "collection_name = collection_name\n",
    "embedding_model = embed_model"
   ]
  },
  {
   "cell_type": "code",
   "execution_count": 43,
   "metadata": {},
   "outputs": [],
   "source": [
    "from typing import Iterator, Tuple, Dict, List\n",
    "from PyPDF2 import PdfReader\n",
    "\n",
    "class PDFDataLoader:\n",
    "    def __init__(self, directory: str):\n",
    "        self.directory = directory\n",
    "        self.pdf_files = [f for f in os.listdir(directory) if f.endswith('.pdf')]\n",
    "\n",
    "    def __iter__(self) -> Iterator[Tuple[str, Dict[str, str]]]:\n",
    "        for pdf_file in self.pdf_files:\n",
    "            file_path = os.path.join(self.directory, pdf_file)\n",
    "            reader = PdfReader(file_path)\n",
    "            for page_num, page in enumerate(reader.pages):\n",
    "                text = page.extract_text()\n",
    "                metadata = {\n",
    "                    'file_name': pdf_file,\n",
    "                    'page_number': str(page_num + 1),\n",
    "                    'text': text\n",
    "                }\n",
    "                yield text, metadata\n",
    "\n",
    "    def __len__(self) -> int:\n",
    "        return len(self.pdf_files)\n"
   ]
  },
  {
   "cell_type": "code",
   "execution_count": 44,
   "metadata": {},
   "outputs": [],
   "source": [
    "# Create the data loader\n",
    "data_loader = PDFDataLoader(directory)"
   ]
  },
  {
   "cell_type": "code",
   "execution_count": 31,
   "metadata": {},
   "outputs": [
    {
     "data": {
      "text/plain": [
       "['curriculum_v10.pdf']"
      ]
     },
     "execution_count": 31,
     "metadata": {},
     "output_type": "execute_result"
    }
   ],
   "source": [
    "data_loader.pdf_files"
   ]
  },
  {
   "cell_type": "code",
   "execution_count": 32,
   "metadata": {},
   "outputs": [],
   "source": [
    "pdf_file = data_loader.pdf_files[0]\n",
    "reader = PdfReader(os.path.join(directory, pdf_file))"
   ]
  },
  {
   "cell_type": "code",
   "execution_count": 35,
   "metadata": {},
   "outputs": [],
   "source": [
    "content = []\n",
    "metadata = {}\n",
    "for page_num, page in enumerate(reader.pages):\n",
    "    text = page.extract_text()\n",
    "    content.append(text)\n",
    "    metadata = {\n",
    "        'file_name': pdf_file,\n",
    "        'page_number': str(page_num + 1),\n",
    "        'text': text\n",
    "    }"
   ]
  },
  {
   "cell_type": "code",
   "execution_count": 38,
   "metadata": {},
   "outputs": [],
   "source": [
    "# print(content[1])"
   ]
  },
  {
   "cell_type": "markdown",
   "metadata": {},
   "source": [
    "### Processing in batches"
   ]
  },
  {
   "cell_type": "code",
   "execution_count": 40,
   "metadata": {},
   "outputs": [],
   "source": [
    "from tqdm import tqdm"
   ]
  },
  {
   "cell_type": "code",
   "execution_count": 39,
   "metadata": {},
   "outputs": [],
   "source": [
    "def ingest_data(client: QdrantClient, collection_name: str, embeddings: List[List[float]], batch_metadata: List[Dict[str, str]]) -> None:\n",
    "    client.upload_collection(\n",
    "        collection_name=collection_name,\n",
    "        vectors=embeddings,\n",
    "        payload=batch_metadata,\n",
    "    )"
   ]
  },
  {
   "cell_type": "code",
   "execution_count": 46,
   "metadata": {},
   "outputs": [
    {
     "name": "stderr",
     "output_type": "stream",
     "text": [
      "Processing PDFs: 2it [00:00, 49.95it/s]               \n"
     ]
    }
   ],
   "source": [
    "# Create the data loader\n",
    "data_loader = PDFDataLoader(directory)\n",
    "batch_size = 32\n",
    "\n",
    "# Process the PDFs in batches\n",
    "batch_texts: List[str] = []\n",
    "batch_metadata: List[Dict[str, str]] = []\n",
    "\n",
    "for text, metadata in tqdm(data_loader, desc=\"Processing PDFs\"):\n",
    "    batch_texts.append(text)\n",
    "    batch_metadata.append(metadata)\n",
    "    \n",
    "    if len(batch_texts) == batch_size:\n",
    "        # Generate embeddings for the batch\n",
    "        embeddings = embedding_model.embed(batch_texts)\n",
    "        \n",
    "        try:\n",
    "            ingest_data(client, collection_name, embeddings, batch_metadata)\n",
    "        except Exception as e:\n",
    "            print(f\"Error ingesting data: {e}\")\n",
    "        \n",
    "        # Clear the batch\n",
    "        batch_texts = []\n",
    "        batch_metadata = []"
   ]
  },
  {
   "cell_type": "code",
   "execution_count": 49,
   "metadata": {},
   "outputs": [],
   "source": [
    "embeddings = embedding_model.embed(batch_texts)"
   ]
  },
  {
   "cell_type": "code",
   "execution_count": 50,
   "metadata": {},
   "outputs": [
    {
     "data": {
      "text/plain": [
       "['David\\nAmat\\nSenior\\nData\\nScientist \\n(Glovo)\\nCAT\\n|\\xa0ENG\\n|\\nSPA\\nLocation:\\nBarcelona,\\nSpain\\nDate\\nof\\nbirth:\\n20-04-1994\\nNumber:\\n+(34)-608526629\\ndaolondrizdaolondriz@gmai.com\\nin:\\ndavid-amat-olondriz/\\ngithub:\\nDavidAmat\\nFull\\nStack\\nData\\nScientist\\nwith\\n6+\\nyears\\nof\\nexperience\\nin\\nend-to-end\\nML\\ndevelopment,\\nspecializing\\nin\\nrecommender \\nsystems ,\\ndeep\\nlearning,\\nNLP,\\ncomputer\\nvision,\\nand\\nAI/LLM\\ntechnologies .\\nCurrently\\nleading\\nprojects\\nat\\nGlovo, \\ndriving\\nimpro vements\\nin\\nML\\nplatfor m\\nlifecycle ,\\nfeature\\nengineering,\\nand\\nreal-time\\nAPI\\nserving\\nwith\\na\\nfocus\\non \\nscalable ,\\nproduct-dri ven\\nsolutions .\\nProven\\ntrack\\nrecord\\nof\\ncollaborating\\ncross-functionally\\nwith\\nProduct\\nand \\nBackend\\nteams ,\\ndelivering\\nimpactful\\ndata-dri ven\\nproducts .\\nConstantly\\nadvancing\\nskills\\nin\\nAI/ML\\nsystem\\ndesign\\nand \\nstaying\\nupdated\\nwith\\nstate-of-the-ar t\\ntechnologies .\\nWork\\nexperience\\nGlo vo\\n|\\nSenior\\nData\\nScientist\\nBarcelona,\\nSpain\\n|\\n07.2020\\n-\\nCurrent \\n●\\nLed\\nthe\\ndevelopment\\nand\\noptimization\\nof\\na\\nStock\\nPrediction\\nModel\\n(SPM)\\nfor\\nGroceries ,\\nsignificantly\\nreducing \\nProduct\\nNot\\nAvailable\\n(PNA)\\nmetrics\\nby\\n10-14%,\\nresulting\\nin\\n~€2M\\nannual\\nsavings . \\n●\\nEngineered\\na\\nnew\\nrestaurant\\nrecommender\\nsystem,\\ntransitioning\\nfrom\\ncollaborati ve\\nfiltering\\n(SVD)\\nto\\nan \\nadvanced\\nembedding-based\\nmodel\\nusing\\nWord2V ec,\\nleading\\nto\\na\\n1%\\nabsolute\\nincrease\\nin\\nCVR.\\nInteg rated\\nthe \\nsystem\\nwith\\na\\nlow-latency\\nAPI\\nutilizing\\na\\nFeature\\nStore ,\\nenabling\\nreal-time\\nrecommendations .\\nA/B\\ntest \\nexperiments\\nshowed\\n+0.8M\\nincremental\\norders\\n/\\nyear. \\n●\\nIdeation\\nand\\nproductization\\nof\\nMulti-Ar med\\nBandit\\nframew ork\\nto\\ntailor\\nrecommender\\nwidgets\\nfor\\neach\\nuser \\nuser,\\nusing\\na\\ncustom-made\\napproac h\\niterated\\nfrom\\ntypical\\nThompson\\nSampling\\napproac h\\n(in\\ntest). \\n●\\nFirst\\nprize\\nin\\nan\\ninternal\\nHackathon\\nfine-tuning\\na\\nStable\\nDiffusion\\nmodel\\nto\\ngenerate\\ndish\\nimages\\nfrom\\ntext. \\n●\\nBenc hmarking\\nCLIP\\nmodel\\non\\nour\\nreleased\\nFoodi-ML\\nmulti-modal\\ndataset \\n●\\nGained\\nML\\nEngineering\\nskills\\nmastering\\nour\\nin-house\\nML\\nPlatfor m\\narchitecture ,\\nincluding\\nproject\\nsetup\\nwith \\nPoetry,\\nscalable\\ntrainings\\nin\\nArgo\\nWorkflows\\nunder\\nK8s,\\nAPI\\ninferences\\nserving\\nwith\\nFlask,\\nDockerization\\nand \\nECR\\nmanag ement,\\nfull\\nCI/CD\\nlifecycle\\nwith\\nArgo\\nCD,\\nGitOps ,\\nJenkins ,\\nArgo\\nRollouts ,\\netc.\\nBesides ,\\nI\\nalso\\nbuild \\ndeclarati ve\\nData\\nProducts\\nrunning\\nin\\nAirflow,\\nlinking\\nthem\\nto\\nFeature\\nStore\\nfor\\nproduction\\nlow-latency\\nretriev al. \\n●\\nExperience\\nin\\nA/B\\ntest\\nanalysis ,\\nincluding\\ndesign\\non\\nour\\nExperimentation\\nPlatfor m,\\nmetric\\nselection,\\nMDE \\nanalysis ,\\nand\\nresult\\nevaluation\\nusing\\nchi-squared\\ntests,\\nz-tests ,\\nand\\np-value\\ncorrections\\nwith\\nPython\\nlibraries\\nBanc\\nSa badell\\n|\\nData\\nScientist\\nSant\\nCugat\\ndel\\nVallès,\\nSpain\\n|\\n11.2018\\n-\\n07-2020 \\n●\\nYoung\\nTalent\\nprogram\\nfocused\\non\\nData\\nScience\\nwithin\\nthe\\nBank\\n(6\\nmonths\\nrotation\\nto\\ndifferent\\nareas). \\n●\\nDeveloped\\na\\npredicti ve\\nmodel\\noptimizing\\nchannel\\nselection\\nfor\\ndebt\\nrecovery,\\nleveraging\\ndecision\\ntrees\\nto \\nidentify\\noptimal\\ncomm unication\\nstrategies ,\\nwhich\\nimpro ved\\nrecovery\\nrates\\nby\\n5% \\n●\\nCollaborated\\non\\na\\nspending\\ncateg orization\\nmodel\\nthat\\nautomatically\\nclassifies\\ntransactions\\ninto\\nbroad\\ncateg ories \\n●\\nDeveloped\\na\\ntree-based\\nfraud\\ndetection\\nmodel\\nto\\nflag\\nsuspicious\\ntransactions\\nand\\nreduce\\nFalse\\nalarms,\\nreducing \\non\\naverage\\n~60-70%\\nof\\nFalse\\npositi ve\\nalarms,\\nreducing\\nanalysts\\nworkload\\non\\nanalyzing\\nand\\nreporting\\nthem.\\nEY\\n|\\nJunior\\nConsultant\\nat\\nLife-Science\\nteam\\nBarcelona,\\nSpain\\n|\\n07.2018\\n-\\n11.2018\\nIRB/IBEC\\n|\\nMSc\\nInter nships\\nBarcelona,\\nSpain\\n|\\n06.2017\\n-\\n07.2018 \\n●\\n[IRB]\\nDeveloped\\na\\ntarget\\nprediction\\ntool\\nusing\\nSimilarity\\nEnsemble\\nApproac h\\n(SEA)\\nand\\nSiamese\\nNN, \\ninteg rating\\nbioacti vity\\ndata\\nand\\ngene\\nexpression\\nprofiles\\nto\\nenhance\\ndrug-targ et\\ninteraction\\npredictions . \\n●\\n[IBEC]\\nUsed\\nfinite-element\\nmethods\\nto\\ncompute\\nvisco-elastic\\nforces\\nfor\\nbiological\\ntissues\\n.\\nEducation\\nIMF\\nSchool\\n|\\nMaster’ s\\nDegree\\nin\\nBusiness\\nAnalytics\\n&\\nBig\\nData\\nGrade:\\n9.8\\nMadrid,\\nSpain\\n|\\n05.2019\\n-\\n10.2020 \\nUPF/UB\\n|\\nMaster’ s\\nDegree\\nin\\nBioinfor matics\\nfor\\nHealth\\nSciences\\nGrade:\\n9.1\\nBarcelona,\\nSpain\\n|\\n09.2016\\n-\\n06.2018 \\nUPC\\n|\\nBachelor’ s\\nDegree\\nin\\nEngineering\\nPhysics\\nGrade:\\n7.6\\nBarcelona,\\nSpain\\n|\\n09.2012\\n-\\n06.2016',\n",
       " 'Pr ofessional\\nDev elopment\\nContin uously\\ndeveloping\\nexper tise\\nin\\nAI/ML\\nthrough\\ncourses\\non\\nLLMOps ,\\nNLP,\\nand\\nBig\\nData\\ntechnologies , \\nincluding\\nhands-on\\nexperience\\nwith\\ncloud\\nplatfor ms\\nlike\\nAWS.\\nMOOCs:\\nLLMOps\\n&\\nML\\nDeployment:\\nUdemy\\n|\\nCurrent \\nNLP\\nSpecialization\\nCoursera\\n|\\n01-2022 \\nDeployment\\nof\\nML\\nmodels\\nUdemy\\n|\\n12-2020 \\nNeo4J\\nIntr oduction\\nNeo4j\\n|\\n06-2020 \\nPlotl y/Dash\\ndashboards\\nUdemy\\n|\\n02-2020 \\nBig\\nData\\nSpecialization\\nCoursera\\n|\\n03-2019 \\nMathematical\\nBiostatistics\\nCoursera\\n|\\n05-2021\\nBooks:\\nHands-On\\nGenerati ve\\nAI\\nO’Reilly\\n|\\nCurrent \\nHands-On\\nGraph\\nNN\\nO’Reilly\\n|\\n01-2023 \\nNLP\\nwith\\nTransf ormer s\\nO’Reilly\\n|\\n07-2022 \\nApplied\\nrecsys\\nwith\\nPython\\nO’Reilly\\n|\\n01-2022 \\nDeep\\nRL\\nHands-On\\nO’Reilly\\n|\\n12-2021 \\nHands-On\\nExplaina ble\\nAI\\n(XAI)\\nO’Reilly\\n|\\n07-2021 \\nBay esian\\nAnal ysis\\nwith\\nPython\\nO’Reilly\\n|\\n03-2021\\nPublications\\no\\nFooDI-ML:\\na\\nlarge\\nmulti-languag e\\ndataset\\nof\\nfood,\\ndrinks\\nand\\ngroceries\\nimages\\nand\\ndescriptions\\n|\\narXiv\\n-\\n2021\\no\\nExtending\\nthe\\nsmall-molecule\\nsimilarity\\nprinciple\\nto\\nall\\nlevels\\nof\\nbiolog y\\n|\\nNat\\nBiotechnol\\n-\\n2020\\no\\nComputation\\nof\\nforces\\nfrom\\ndefor med\\nvisco-elastic\\nbiological\\ntissues\\n|\\nInverse\\nProblems\\n-\\n2018\\no\\nPendulum\\ndynamics\\nin\\nan\\namusement\\npark\\n|\\nEuropean\\nJounral\\nof\\nPhysics\\n-\\n2017\\nPr ojects\\no\\n2048\\n:\\ndeveloped\\nin\\nPython\\na\\nclone\\nof\\nthe\\n2048\\ngame\\nand\\nused\\nREINFOR CE\\nto\\nplay\\nthe\\ngame\\noptimally\\no\\nFoodi-ml\\n:\\ntraining\\nimage-text\\nalignment\\nmodel\\n(ADAPT)\\nfor\\nFooDI-ML\\ndataset\\no\\nSoccer -Star s\\nDjango\\nWebapp:\\nclone\\nthe\\nmobile\\ngame\\nSoccer\\nStars\\nwith\\na\\nReact\\napp\\nusing\\nDjang o\\nas\\nBackend\\nto\\ncompute\\ncollisions\\nand\\ntrajectories \\no\\nFitcheck\\nAI:\\nbuild\\na\\nDjang o\\nBackend\\nconnecting\\nto\\nOpenAI\\nAPI\\nto\\nask\\nGPT -4o\\nfor\\nratings\\non\\nyour\\noutfit\\nimage\\no\\nPortfolio:\\nbuilding\\nmy\\nown\\nweb\\napp\\nportfolio\\nin\\nNext.js\\n/\\nReact\\n/\\nTailwind\\nCSS,\\netc.\\n(In\\nProgress)\\no\\nPDF\\nSearch\\nLLM\\nRAG:\\nbuilding\\na\\nlocal\\nPDF\\nsummarizer\\nwith\\nSentence\\nTransfor mers,\\nOpenSearc h\\nas\\nVector\\nDatabase ,\\nMistral\\nfine-tuning\\nwith\\nLoRA\\non\\nquestion/answ ers\\ndataset\\ngenerated\\nby\\nGPT -4o,\\nand\\nserving\\nit\\nas\\na \\nStreamlit\\napp\\nthat\\nuses\\nRAG\\nfrom\\nthe\\nembedded\\nPDFs .\\n(In\\nProgress) \\no\\nBuild\\nyour\\nown\\nMLP:\\nbuilding\\na\\nMedium\\npost\\nto\\nguide\\non\\nthe\\nset\\nup\\nof\\na\\nlocal\\nK8s\\ncluster\\nwith\\nK3d,\\nwith\\nArgo\\ninstalled\\nto\\nleverage\\nyour\\ncomputer\\nas\\na\\ncompute\\nserver\\nusing\\nArgo\\nWorkflows\\nand\\nRollouts\\nfor\\nthe\\nAPI\\n(In\\nProgress)\\nSkills\\nPr ogramming\\nLangua ges\\n:\\nPython\\n|\\nR\\n|\\nSQL \\nWeb/Back end\\nDev elopment:\\nDjang o\\n|\\nFlask\\n|\\nReact \\nMachine\\nLear ning\\n&\\nAI:\\nNLP\\n|\\nComputer\\nVision\\n|\\nPyTorch\\n|\\nHuggingF ace\\n|\\nTransfor mers\\n|\\nGenerati ve\\nAI\\n| \\nMulti-Ar med\\nBandit\\n|\\nREINFOR CE\\n|\\nCollaborati ve\\nFiltering\\n|\\nWord2V ec\\n|\\nGraph\\nNN\\n|\\nBayesian\\nInference\\n| \\nRAG \\nData\\nEngineering\\n&\\nMLOps:\\nFeature\\nStore\\n|\\nTrino\\nSQL\\n|\\nAirflow\\n|\\nDocker\\n|\\nKubernetes\\n|\\nArgo\\n|\\nJenkins\\n| \\nAWS\\n|\\nMLOps\\n|\\nUnit/Integ ration\\nTesting\\n|\\nCI/CD \\nTools\\n&\\nPlatf orms:\\nGit\\n|\\nGrafana\\n|\\nDatadog\\n|\\nOpenAI\\nAPI\\nInter ests\\nPlaying\\nthe\\npiano\\n(I\\nlove\\nChopin\\n),\\nplaying\\nsports\\nvideo\\ngames\\nlike\\nFIFA\\n,\\nI’ve\\nbeen\\na\\ntennis\\ncoach\\nfor\\n4\\nyears\\nas\\na \\nteenag er,\\nnow\\nI\\ncompete\\nin\\nlocal\\ncompetitions .']"
      ]
     },
     "execution_count": 50,
     "metadata": {},
     "output_type": "execute_result"
    }
   ],
   "source": [
    "batch_texts"
   ]
  },
  {
   "cell_type": "code",
   "execution_count": 54,
   "metadata": {},
   "outputs": [],
   "source": [
    "# 3) Convert the generator to a list\n",
    "embeddings_list = list(embeddings)"
   ]
  },
  {
   "cell_type": "code",
   "execution_count": 56,
   "metadata": {},
   "outputs": [
    {
     "data": {
      "text/plain": [
       "2"
      ]
     },
     "execution_count": 56,
     "metadata": {},
     "output_type": "execute_result"
    }
   ],
   "source": [
    "len(embeddings_list)"
   ]
  },
  {
   "cell_type": "code",
   "execution_count": 57,
   "metadata": {},
   "outputs": [],
   "source": [
    "emb1 = embeddings_list[0]\n",
    "emb2 = embeddings_list[1]"
   ]
  },
  {
   "cell_type": "code",
   "execution_count": 59,
   "metadata": {},
   "outputs": [
    {
     "data": {
      "text/plain": [
       "(768,)"
      ]
     },
     "execution_count": 59,
     "metadata": {},
     "output_type": "execute_result"
    }
   ],
   "source": [
    "emb1.shape"
   ]
  },
  {
   "cell_type": "code",
   "execution_count": 61,
   "metadata": {},
   "outputs": [],
   "source": [
    "ingest_data(client, collection_name, embeddings, batch_metadata)"
   ]
  },
  {
   "cell_type": "code",
   "execution_count": 62,
   "metadata": {},
   "outputs": [
    {
     "data": {
      "text/plain": [
       "[{'file_name': 'curriculum_v10.pdf',\n",
       "  'page_number': '1',\n",
       "  'text': 'David\\nAmat\\nSenior\\nData\\nScientist \\n(Glovo)\\nCAT\\n|\\xa0ENG\\n|\\nSPA\\nLocation:\\nBarcelona,\\nSpain\\nDate\\nof\\nbirth:\\n20-04-1994\\nNumber:\\n+(34)-608526629\\ndaolondrizdaolondriz@gmai.com\\nin:\\ndavid-amat-olondriz/\\ngithub:\\nDavidAmat\\nFull\\nStack\\nData\\nScientist\\nwith\\n6+\\nyears\\nof\\nexperience\\nin\\nend-to-end\\nML\\ndevelopment,\\nspecializing\\nin\\nrecommender \\nsystems ,\\ndeep\\nlearning,\\nNLP,\\ncomputer\\nvision,\\nand\\nAI/LLM\\ntechnologies .\\nCurrently\\nleading\\nprojects\\nat\\nGlovo, \\ndriving\\nimpro vements\\nin\\nML\\nplatfor m\\nlifecycle ,\\nfeature\\nengineering,\\nand\\nreal-time\\nAPI\\nserving\\nwith\\na\\nfocus\\non \\nscalable ,\\nproduct-dri ven\\nsolutions .\\nProven\\ntrack\\nrecord\\nof\\ncollaborating\\ncross-functionally\\nwith\\nProduct\\nand \\nBackend\\nteams ,\\ndelivering\\nimpactful\\ndata-dri ven\\nproducts .\\nConstantly\\nadvancing\\nskills\\nin\\nAI/ML\\nsystem\\ndesign\\nand \\nstaying\\nupdated\\nwith\\nstate-of-the-ar t\\ntechnologies .\\nWork\\nexperience\\nGlo vo\\n|\\nSenior\\nData\\nScientist\\nBarcelona,\\nSpain\\n|\\n07.2020\\n-\\nCurrent \\n●\\nLed\\nthe\\ndevelopment\\nand\\noptimization\\nof\\na\\nStock\\nPrediction\\nModel\\n(SPM)\\nfor\\nGroceries ,\\nsignificantly\\nreducing \\nProduct\\nNot\\nAvailable\\n(PNA)\\nmetrics\\nby\\n10-14%,\\nresulting\\nin\\n~€2M\\nannual\\nsavings . \\n●\\nEngineered\\na\\nnew\\nrestaurant\\nrecommender\\nsystem,\\ntransitioning\\nfrom\\ncollaborati ve\\nfiltering\\n(SVD)\\nto\\nan \\nadvanced\\nembedding-based\\nmodel\\nusing\\nWord2V ec,\\nleading\\nto\\na\\n1%\\nabsolute\\nincrease\\nin\\nCVR.\\nInteg rated\\nthe \\nsystem\\nwith\\na\\nlow-latency\\nAPI\\nutilizing\\na\\nFeature\\nStore ,\\nenabling\\nreal-time\\nrecommendations .\\nA/B\\ntest \\nexperiments\\nshowed\\n+0.8M\\nincremental\\norders\\n/\\nyear. \\n●\\nIdeation\\nand\\nproductization\\nof\\nMulti-Ar med\\nBandit\\nframew ork\\nto\\ntailor\\nrecommender\\nwidgets\\nfor\\neach\\nuser \\nuser,\\nusing\\na\\ncustom-made\\napproac h\\niterated\\nfrom\\ntypical\\nThompson\\nSampling\\napproac h\\n(in\\ntest). \\n●\\nFirst\\nprize\\nin\\nan\\ninternal\\nHackathon\\nfine-tuning\\na\\nStable\\nDiffusion\\nmodel\\nto\\ngenerate\\ndish\\nimages\\nfrom\\ntext. \\n●\\nBenc hmarking\\nCLIP\\nmodel\\non\\nour\\nreleased\\nFoodi-ML\\nmulti-modal\\ndataset \\n●\\nGained\\nML\\nEngineering\\nskills\\nmastering\\nour\\nin-house\\nML\\nPlatfor m\\narchitecture ,\\nincluding\\nproject\\nsetup\\nwith \\nPoetry,\\nscalable\\ntrainings\\nin\\nArgo\\nWorkflows\\nunder\\nK8s,\\nAPI\\ninferences\\nserving\\nwith\\nFlask,\\nDockerization\\nand \\nECR\\nmanag ement,\\nfull\\nCI/CD\\nlifecycle\\nwith\\nArgo\\nCD,\\nGitOps ,\\nJenkins ,\\nArgo\\nRollouts ,\\netc.\\nBesides ,\\nI\\nalso\\nbuild \\ndeclarati ve\\nData\\nProducts\\nrunning\\nin\\nAirflow,\\nlinking\\nthem\\nto\\nFeature\\nStore\\nfor\\nproduction\\nlow-latency\\nretriev al. \\n●\\nExperience\\nin\\nA/B\\ntest\\nanalysis ,\\nincluding\\ndesign\\non\\nour\\nExperimentation\\nPlatfor m,\\nmetric\\nselection,\\nMDE \\nanalysis ,\\nand\\nresult\\nevaluation\\nusing\\nchi-squared\\ntests,\\nz-tests ,\\nand\\np-value\\ncorrections\\nwith\\nPython\\nlibraries\\nBanc\\nSa badell\\n|\\nData\\nScientist\\nSant\\nCugat\\ndel\\nVallès,\\nSpain\\n|\\n11.2018\\n-\\n07-2020 \\n●\\nYoung\\nTalent\\nprogram\\nfocused\\non\\nData\\nScience\\nwithin\\nthe\\nBank\\n(6\\nmonths\\nrotation\\nto\\ndifferent\\nareas). \\n●\\nDeveloped\\na\\npredicti ve\\nmodel\\noptimizing\\nchannel\\nselection\\nfor\\ndebt\\nrecovery,\\nleveraging\\ndecision\\ntrees\\nto \\nidentify\\noptimal\\ncomm unication\\nstrategies ,\\nwhich\\nimpro ved\\nrecovery\\nrates\\nby\\n5% \\n●\\nCollaborated\\non\\na\\nspending\\ncateg orization\\nmodel\\nthat\\nautomatically\\nclassifies\\ntransactions\\ninto\\nbroad\\ncateg ories \\n●\\nDeveloped\\na\\ntree-based\\nfraud\\ndetection\\nmodel\\nto\\nflag\\nsuspicious\\ntransactions\\nand\\nreduce\\nFalse\\nalarms,\\nreducing \\non\\naverage\\n~60-70%\\nof\\nFalse\\npositi ve\\nalarms,\\nreducing\\nanalysts\\nworkload\\non\\nanalyzing\\nand\\nreporting\\nthem.\\nEY\\n|\\nJunior\\nConsultant\\nat\\nLife-Science\\nteam\\nBarcelona,\\nSpain\\n|\\n07.2018\\n-\\n11.2018\\nIRB/IBEC\\n|\\nMSc\\nInter nships\\nBarcelona,\\nSpain\\n|\\n06.2017\\n-\\n07.2018 \\n●\\n[IRB]\\nDeveloped\\na\\ntarget\\nprediction\\ntool\\nusing\\nSimilarity\\nEnsemble\\nApproac h\\n(SEA)\\nand\\nSiamese\\nNN, \\ninteg rating\\nbioacti vity\\ndata\\nand\\ngene\\nexpression\\nprofiles\\nto\\nenhance\\ndrug-targ et\\ninteraction\\npredictions . \\n●\\n[IBEC]\\nUsed\\nfinite-element\\nmethods\\nto\\ncompute\\nvisco-elastic\\nforces\\nfor\\nbiological\\ntissues\\n.\\nEducation\\nIMF\\nSchool\\n|\\nMaster’ s\\nDegree\\nin\\nBusiness\\nAnalytics\\n&\\nBig\\nData\\nGrade:\\n9.8\\nMadrid,\\nSpain\\n|\\n05.2019\\n-\\n10.2020 \\nUPF/UB\\n|\\nMaster’ s\\nDegree\\nin\\nBioinfor matics\\nfor\\nHealth\\nSciences\\nGrade:\\n9.1\\nBarcelona,\\nSpain\\n|\\n09.2016\\n-\\n06.2018 \\nUPC\\n|\\nBachelor’ s\\nDegree\\nin\\nEngineering\\nPhysics\\nGrade:\\n7.6\\nBarcelona,\\nSpain\\n|\\n09.2012\\n-\\n06.2016'},\n",
       " {'file_name': 'curriculum_v10.pdf',\n",
       "  'page_number': '2',\n",
       "  'text': 'Pr ofessional\\nDev elopment\\nContin uously\\ndeveloping\\nexper tise\\nin\\nAI/ML\\nthrough\\ncourses\\non\\nLLMOps ,\\nNLP,\\nand\\nBig\\nData\\ntechnologies , \\nincluding\\nhands-on\\nexperience\\nwith\\ncloud\\nplatfor ms\\nlike\\nAWS.\\nMOOCs:\\nLLMOps\\n&\\nML\\nDeployment:\\nUdemy\\n|\\nCurrent \\nNLP\\nSpecialization\\nCoursera\\n|\\n01-2022 \\nDeployment\\nof\\nML\\nmodels\\nUdemy\\n|\\n12-2020 \\nNeo4J\\nIntr oduction\\nNeo4j\\n|\\n06-2020 \\nPlotl y/Dash\\ndashboards\\nUdemy\\n|\\n02-2020 \\nBig\\nData\\nSpecialization\\nCoursera\\n|\\n03-2019 \\nMathematical\\nBiostatistics\\nCoursera\\n|\\n05-2021\\nBooks:\\nHands-On\\nGenerati ve\\nAI\\nO’Reilly\\n|\\nCurrent \\nHands-On\\nGraph\\nNN\\nO’Reilly\\n|\\n01-2023 \\nNLP\\nwith\\nTransf ormer s\\nO’Reilly\\n|\\n07-2022 \\nApplied\\nrecsys\\nwith\\nPython\\nO’Reilly\\n|\\n01-2022 \\nDeep\\nRL\\nHands-On\\nO’Reilly\\n|\\n12-2021 \\nHands-On\\nExplaina ble\\nAI\\n(XAI)\\nO’Reilly\\n|\\n07-2021 \\nBay esian\\nAnal ysis\\nwith\\nPython\\nO’Reilly\\n|\\n03-2021\\nPublications\\no\\nFooDI-ML:\\na\\nlarge\\nmulti-languag e\\ndataset\\nof\\nfood,\\ndrinks\\nand\\ngroceries\\nimages\\nand\\ndescriptions\\n|\\narXiv\\n-\\n2021\\no\\nExtending\\nthe\\nsmall-molecule\\nsimilarity\\nprinciple\\nto\\nall\\nlevels\\nof\\nbiolog y\\n|\\nNat\\nBiotechnol\\n-\\n2020\\no\\nComputation\\nof\\nforces\\nfrom\\ndefor med\\nvisco-elastic\\nbiological\\ntissues\\n|\\nInverse\\nProblems\\n-\\n2018\\no\\nPendulum\\ndynamics\\nin\\nan\\namusement\\npark\\n|\\nEuropean\\nJounral\\nof\\nPhysics\\n-\\n2017\\nPr ojects\\no\\n2048\\n:\\ndeveloped\\nin\\nPython\\na\\nclone\\nof\\nthe\\n2048\\ngame\\nand\\nused\\nREINFOR CE\\nto\\nplay\\nthe\\ngame\\noptimally\\no\\nFoodi-ml\\n:\\ntraining\\nimage-text\\nalignment\\nmodel\\n(ADAPT)\\nfor\\nFooDI-ML\\ndataset\\no\\nSoccer -Star s\\nDjango\\nWebapp:\\nclone\\nthe\\nmobile\\ngame\\nSoccer\\nStars\\nwith\\na\\nReact\\napp\\nusing\\nDjang o\\nas\\nBackend\\nto\\ncompute\\ncollisions\\nand\\ntrajectories \\no\\nFitcheck\\nAI:\\nbuild\\na\\nDjang o\\nBackend\\nconnecting\\nto\\nOpenAI\\nAPI\\nto\\nask\\nGPT -4o\\nfor\\nratings\\non\\nyour\\noutfit\\nimage\\no\\nPortfolio:\\nbuilding\\nmy\\nown\\nweb\\napp\\nportfolio\\nin\\nNext.js\\n/\\nReact\\n/\\nTailwind\\nCSS,\\netc.\\n(In\\nProgress)\\no\\nPDF\\nSearch\\nLLM\\nRAG:\\nbuilding\\na\\nlocal\\nPDF\\nsummarizer\\nwith\\nSentence\\nTransfor mers,\\nOpenSearc h\\nas\\nVector\\nDatabase ,\\nMistral\\nfine-tuning\\nwith\\nLoRA\\non\\nquestion/answ ers\\ndataset\\ngenerated\\nby\\nGPT -4o,\\nand\\nserving\\nit\\nas\\na \\nStreamlit\\napp\\nthat\\nuses\\nRAG\\nfrom\\nthe\\nembedded\\nPDFs .\\n(In\\nProgress) \\no\\nBuild\\nyour\\nown\\nMLP:\\nbuilding\\na\\nMedium\\npost\\nto\\nguide\\non\\nthe\\nset\\nup\\nof\\na\\nlocal\\nK8s\\ncluster\\nwith\\nK3d,\\nwith\\nArgo\\ninstalled\\nto\\nleverage\\nyour\\ncomputer\\nas\\na\\ncompute\\nserver\\nusing\\nArgo\\nWorkflows\\nand\\nRollouts\\nfor\\nthe\\nAPI\\n(In\\nProgress)\\nSkills\\nPr ogramming\\nLangua ges\\n:\\nPython\\n|\\nR\\n|\\nSQL \\nWeb/Back end\\nDev elopment:\\nDjang o\\n|\\nFlask\\n|\\nReact \\nMachine\\nLear ning\\n&\\nAI:\\nNLP\\n|\\nComputer\\nVision\\n|\\nPyTorch\\n|\\nHuggingF ace\\n|\\nTransfor mers\\n|\\nGenerati ve\\nAI\\n| \\nMulti-Ar med\\nBandit\\n|\\nREINFOR CE\\n|\\nCollaborati ve\\nFiltering\\n|\\nWord2V ec\\n|\\nGraph\\nNN\\n|\\nBayesian\\nInference\\n| \\nRAG \\nData\\nEngineering\\n&\\nMLOps:\\nFeature\\nStore\\n|\\nTrino\\nSQL\\n|\\nAirflow\\n|\\nDocker\\n|\\nKubernetes\\n|\\nArgo\\n|\\nJenkins\\n| \\nAWS\\n|\\nMLOps\\n|\\nUnit/Integ ration\\nTesting\\n|\\nCI/CD \\nTools\\n&\\nPlatf orms:\\nGit\\n|\\nGrafana\\n|\\nDatadog\\n|\\nOpenAI\\nAPI\\nInter ests\\nPlaying\\nthe\\npiano\\n(I\\nlove\\nChopin\\n),\\nplaying\\nsports\\nvideo\\ngames\\nlike\\nFIFA\\n,\\nI’ve\\nbeen\\na\\ntennis\\ncoach\\nfor\\n4\\nyears\\nas\\na \\nteenag er,\\nnow\\nI\\ncompete\\nin\\nlocal\\ncompetitions .'}]"
      ]
     },
     "execution_count": 62,
     "metadata": {},
     "output_type": "execute_result"
    }
   ],
   "source": [
    "batch_metadata"
   ]
  },
  {
   "cell_type": "markdown",
   "metadata": {},
   "source": [
    "### Delete a collection and create it again"
   ]
  },
  {
   "cell_type": "code",
   "execution_count": 66,
   "metadata": {},
   "outputs": [],
   "source": [
    "def recreate_collection(\n",
    "    client: QdrantClient,\n",
    "    collection_name: str\n",
    "):\n",
    "    # 1) Delete the collection if it exists\n",
    "    if client.collection_exists(collection_name=collection_name):\n",
    "        client.delete_collection(collection_name=collection_name)\n",
    "        print(f\"Deleted existing collection: {collection_name}\")\n",
    "\n",
    "    # 2) Create the collection again with desired settings\n",
    "    client.create_collection(\n",
    "        collection_name=collection_name,\n",
    "        vectors_config=VectorParams(\n",
    "            size=768,               # Dimension of your vectors\n",
    "            distance=Distance.DOT,  # Cosine similarity or dot-product metric\n",
    "            on_disk=True           # Store vectors on disk\n",
    "        ),\n",
    "        optimizers_config=OptimizersConfigDiff(\n",
    "            default_segment_number=5,\n",
    "            indexing_threshold=1000,\n",
    "        ),\n",
    "    )\n",
    "    print(f\"Re-created collection: {collection_name}\")"
   ]
  },
  {
   "cell_type": "code",
   "execution_count": 67,
   "metadata": {},
   "outputs": [
    {
     "name": "stdout",
     "output_type": "stream",
     "text": [
      "Deleted existing collection: qdrant_collection\n",
      "Re-created collection: qdrant_collection\n"
     ]
    }
   ],
   "source": [
    "# Call the function\n",
    "recreate_collection(\n",
    "    client=client,\n",
    "    collection_name=collection_name\n",
    ")"
   ]
  },
  {
   "cell_type": "markdown",
   "metadata": {},
   "source": [
    "### Upload to collection the embeddings"
   ]
  },
  {
   "cell_type": "code",
   "execution_count": 76,
   "metadata": {},
   "outputs": [],
   "source": [
    "embeddings = embedding_model.embed(batch_texts)\n",
    "client.upload_collection(\n",
    "    collection_name=collection_name,\n",
    "    vectors=embeddings,\n",
    "    payload=batch_metadata,\n",
    ")"
   ]
  },
  {
   "cell_type": "code",
   "execution_count": 73,
   "metadata": {},
   "outputs": [
    {
     "data": {
      "text/plain": [
       "<generator object TextEmbedding.embed at 0x7ece081d3a00>"
      ]
     },
     "execution_count": 73,
     "metadata": {},
     "output_type": "execute_result"
    }
   ],
   "source": [
    "embeddings"
   ]
  },
  {
   "cell_type": "markdown",
   "metadata": {},
   "source": [
    "### Retrieve embeddings from qdrant"
   ]
  },
  {
   "cell_type": "code",
   "execution_count": 12,
   "metadata": {},
   "outputs": [],
   "source": [
    "# Scroll through collection\n",
    "offset = None\n",
    "batch_size = 10\n",
    "records, next_offset = client.scroll(\n",
    "    collection_name=collection_name,\n",
    "    offset=offset,\n",
    "    limit=batch_size,\n",
    "    with_vectors=True  # Important to actually retrieve the vectors\n",
    ")"
   ]
  },
  {
   "cell_type": "code",
   "execution_count": 13,
   "metadata": {},
   "outputs": [
    {
     "data": {
      "text/plain": [
       "[Record(id='0c9a48bd-4eba-47db-84e1-bf97ad6408fc', payload={'file_name': 'curriculum_v10.pdf', 'page_number': '1', 'text': 'David\\nAmat\\nSenior\\nData\\nScientist \\n(Glovo)\\nCAT\\n|\\xa0ENG\\n|\\nSPA\\nLocation:\\nBarcelona,\\nSpain\\nDate\\nof\\nbirth:\\n20-04-1994\\nNumber:\\n+(34)-608526629\\ndaolondrizdaolondriz@gmai.com\\nin:\\ndavid-amat-olondriz/\\ngithub:\\nDavidAmat\\nFull\\nStack\\nData\\nScientist\\nwith\\n6+\\nyears\\nof\\nexperience\\nin\\nend-to-end\\nML\\ndevelopment,\\nspecializing\\nin\\nrecommender \\nsystems ,\\ndeep\\nlearning,\\nNLP,\\ncomputer\\nvision,\\nand\\nAI/LLM\\ntechnologies .\\nCurrently\\nleading\\nprojects\\nat\\nGlovo, \\ndriving\\nimpro vements\\nin\\nML\\nplatfor m\\nlifecycle ,\\nfeature\\nengineering,\\nand\\nreal-time\\nAPI\\nserving\\nwith\\na\\nfocus\\non \\nscalable ,\\nproduct-dri ven\\nsolutions .\\nProven\\ntrack\\nrecord\\nof\\ncollaborating\\ncross-functionally\\nwith\\nProduct\\nand \\nBackend\\nteams ,\\ndelivering\\nimpactful\\ndata-dri ven\\nproducts .\\nConstantly\\nadvancing\\nskills\\nin\\nAI/ML\\nsystem\\ndesign\\nand \\nstaying\\nupdated\\nwith\\nstate-of-the-ar t\\ntechnologies .\\nWork\\nexperience\\nGlo vo\\n|\\nSenior\\nData\\nScientist\\nBarcelona,\\nSpain\\n|\\n07.2020\\n-\\nCurrent \\n●\\nLed\\nthe\\ndevelopment\\nand\\noptimization\\nof\\na\\nStock\\nPrediction\\nModel\\n(SPM)\\nfor\\nGroceries ,\\nsignificantly\\nreducing \\nProduct\\nNot\\nAvailable\\n(PNA)\\nmetrics\\nby\\n10-14%,\\nresulting\\nin\\n~€2M\\nannual\\nsavings . \\n●\\nEngineered\\na\\nnew\\nrestaurant\\nrecommender\\nsystem,\\ntransitioning\\nfrom\\ncollaborati ve\\nfiltering\\n(SVD)\\nto\\nan \\nadvanced\\nembedding-based\\nmodel\\nusing\\nWord2V ec,\\nleading\\nto\\na\\n1%\\nabsolute\\nincrease\\nin\\nCVR.\\nInteg rated\\nthe \\nsystem\\nwith\\na\\nlow-latency\\nAPI\\nutilizing\\na\\nFeature\\nStore ,\\nenabling\\nreal-time\\nrecommendations .\\nA/B\\ntest \\nexperiments\\nshowed\\n+0.8M\\nincremental\\norders\\n/\\nyear. \\n●\\nIdeation\\nand\\nproductization\\nof\\nMulti-Ar med\\nBandit\\nframew ork\\nto\\ntailor\\nrecommender\\nwidgets\\nfor\\neach\\nuser \\nuser,\\nusing\\na\\ncustom-made\\napproac h\\niterated\\nfrom\\ntypical\\nThompson\\nSampling\\napproac h\\n(in\\ntest). \\n●\\nFirst\\nprize\\nin\\nan\\ninternal\\nHackathon\\nfine-tuning\\na\\nStable\\nDiffusion\\nmodel\\nto\\ngenerate\\ndish\\nimages\\nfrom\\ntext. \\n●\\nBenc hmarking\\nCLIP\\nmodel\\non\\nour\\nreleased\\nFoodi-ML\\nmulti-modal\\ndataset \\n●\\nGained\\nML\\nEngineering\\nskills\\nmastering\\nour\\nin-house\\nML\\nPlatfor m\\narchitecture ,\\nincluding\\nproject\\nsetup\\nwith \\nPoetry,\\nscalable\\ntrainings\\nin\\nArgo\\nWorkflows\\nunder\\nK8s,\\nAPI\\ninferences\\nserving\\nwith\\nFlask,\\nDockerization\\nand \\nECR\\nmanag ement,\\nfull\\nCI/CD\\nlifecycle\\nwith\\nArgo\\nCD,\\nGitOps ,\\nJenkins ,\\nArgo\\nRollouts ,\\netc.\\nBesides ,\\nI\\nalso\\nbuild \\ndeclarati ve\\nData\\nProducts\\nrunning\\nin\\nAirflow,\\nlinking\\nthem\\nto\\nFeature\\nStore\\nfor\\nproduction\\nlow-latency\\nretriev al. \\n●\\nExperience\\nin\\nA/B\\ntest\\nanalysis ,\\nincluding\\ndesign\\non\\nour\\nExperimentation\\nPlatfor m,\\nmetric\\nselection,\\nMDE \\nanalysis ,\\nand\\nresult\\nevaluation\\nusing\\nchi-squared\\ntests,\\nz-tests ,\\nand\\np-value\\ncorrections\\nwith\\nPython\\nlibraries\\nBanc\\nSa badell\\n|\\nData\\nScientist\\nSant\\nCugat\\ndel\\nVallès,\\nSpain\\n|\\n11.2018\\n-\\n07-2020 \\n●\\nYoung\\nTalent\\nprogram\\nfocused\\non\\nData\\nScience\\nwithin\\nthe\\nBank\\n(6\\nmonths\\nrotation\\nto\\ndifferent\\nareas). \\n●\\nDeveloped\\na\\npredicti ve\\nmodel\\noptimizing\\nchannel\\nselection\\nfor\\ndebt\\nrecovery,\\nleveraging\\ndecision\\ntrees\\nto \\nidentify\\noptimal\\ncomm unication\\nstrategies ,\\nwhich\\nimpro ved\\nrecovery\\nrates\\nby\\n5% \\n●\\nCollaborated\\non\\na\\nspending\\ncateg orization\\nmodel\\nthat\\nautomatically\\nclassifies\\ntransactions\\ninto\\nbroad\\ncateg ories \\n●\\nDeveloped\\na\\ntree-based\\nfraud\\ndetection\\nmodel\\nto\\nflag\\nsuspicious\\ntransactions\\nand\\nreduce\\nFalse\\nalarms,\\nreducing \\non\\naverage\\n~60-70%\\nof\\nFalse\\npositi ve\\nalarms,\\nreducing\\nanalysts\\nworkload\\non\\nanalyzing\\nand\\nreporting\\nthem.\\nEY\\n|\\nJunior\\nConsultant\\nat\\nLife-Science\\nteam\\nBarcelona,\\nSpain\\n|\\n07.2018\\n-\\n11.2018\\nIRB/IBEC\\n|\\nMSc\\nInter nships\\nBarcelona,\\nSpain\\n|\\n06.2017\\n-\\n07.2018 \\n●\\n[IRB]\\nDeveloped\\na\\ntarget\\nprediction\\ntool\\nusing\\nSimilarity\\nEnsemble\\nApproac h\\n(SEA)\\nand\\nSiamese\\nNN, \\ninteg rating\\nbioacti vity\\ndata\\nand\\ngene\\nexpression\\nprofiles\\nto\\nenhance\\ndrug-targ et\\ninteraction\\npredictions . \\n●\\n[IBEC]\\nUsed\\nfinite-element\\nmethods\\nto\\ncompute\\nvisco-elastic\\nforces\\nfor\\nbiological\\ntissues\\n.\\nEducation\\nIMF\\nSchool\\n|\\nMaster’ s\\nDegree\\nin\\nBusiness\\nAnalytics\\n&\\nBig\\nData\\nGrade:\\n9.8\\nMadrid,\\nSpain\\n|\\n05.2019\\n-\\n10.2020 \\nUPF/UB\\n|\\nMaster’ s\\nDegree\\nin\\nBioinfor matics\\nfor\\nHealth\\nSciences\\nGrade:\\n9.1\\nBarcelona,\\nSpain\\n|\\n09.2016\\n-\\n06.2018 \\nUPC\\n|\\nBachelor’ s\\nDegree\\nin\\nEngineering\\nPhysics\\nGrade:\\n7.6\\nBarcelona,\\nSpain\\n|\\n09.2012\\n-\\n06.2016'}, vector=[-0.15329383, 1.4898468, -3.332744, -0.078527756, 1.1423025, 0.31414035, 0.5076507, -0.3677959, -0.47170538, -0.37724313, -0.5949493, 0.6711028, 2.3572655, -0.8321366, -0.35050184, 0.3458341, -0.060986973, -0.52709967, -0.8831297, -0.09142202, -0.47986728, -1.0796372, 0.3696203, -1.047998, 1.1452012, 0.8875899, -0.69255894, 0.41662264, -0.45197707, 0.12769608, 0.6393927, 0.32053518, -0.6935109, 0.23586442, -0.35369462, -0.17752303, 0.9467268, 0.51109445, 0.27009517, 0.34436047, 0.6144788, 0.3321454, 0.36744013, -0.5401491, 0.34063917, -0.065246835, 0.0947327, -0.34031072, -0.11859132, -1.077031, 0.34424025, 0.35545486, 0.38822028, 0.66095144, 0.5797278, -0.5287083, -0.96867925, 0.59621006, -0.11368056, -1.3619539, 1.8465512, 1.0751842, -0.6119355, 1.3728194, 0.45398968, -0.5834009, -0.7765449, 0.32594207, 0.2510132, -0.95804304, 0.40151495, -0.15523767, 0.6232233, 0.72150385, -0.47554758, 0.21824129, -0.4579841, -0.48663154, -0.31517202, 0.81006235, 0.70788103, 0.22467838, 1.0294118, -0.4250292, 0.030691147, -0.69598275, -0.17462692, -0.23411368, 0.035675496, 1.2762839, 0.06294833, 0.88707185, 0.6718231, 0.8264936, -0.77082497, 0.063343704, -0.27449492, -0.82504326, -0.35483816, -0.40412796, -0.48647884, -0.5692631, -0.108087316, 0.7017489, 0.8695965, 0.698597, 0.477394, -0.7238727, 0.11682788, -0.24902302, -0.89535564, -0.042030368, -0.7957115, -0.6256242, -0.43234912, 0.17561689, 0.6375066, -0.5506239, -0.06763247, 0.28888193, 0.6272309, -0.27966544, -0.38438573, 0.8202572, -0.24702346, 0.55291003, -1.1021804, 0.5067946, -0.51148397, 0.2480587, -0.11233713, -0.63591695, -0.53189516, -0.13524684, 0.30104503, 0.80227935, -0.54546195, -0.2931016, 1.1492063, 0.14958093, -0.09123002, 0.2729724, -0.01416959, 0.3496394, -0.32519275, -0.81088394, 0.5844395, 0.06190684, -1.088564, -0.22497514, 0.24060401, 0.7130822, 0.07304638, -0.08814078, 0.4517988, -0.8868051, -0.89817816, 0.91271424, 0.22172578, 0.5257286, 0.5570437, 0.30870232, -0.6081347, 0.47290492, 0.1694335, -0.38840735, 0.65227574, 0.8040716, 0.16975322, 1.7183908, -0.87786984, -0.57859224, 0.39619735, -0.4140133, 0.8411562, -0.16265045, -0.42031357, -0.66724616, 0.9377836, -0.5304251, 1.1797291, -1.1186959, 0.7664459, 0.15065843, -0.31101382, -0.3609111, 0.47830087, -0.3786398, -0.5500773, -0.83536965, 0.6263464, 0.6848839, -1.1775831, -0.33845183, -0.94736135, -0.05570531, 1.038442, -0.56193, 0.00723556, -0.006356822, -1.1460166, -0.3981429, -0.66277295, 0.44429654, -0.39086828, 0.5462202, 0.37234706, 0.6110686, -0.16327848, 0.6054832, 0.52904654, -0.09856297, -0.14915365, -0.47135738, -0.013956062, -0.15782543, 0.13558835, -0.4480308, -0.24822928, 0.46621856, 0.43931857, -0.117949694, 0.25746834, 0.7997362, -0.040311452, -0.71125793, -0.43888777, -0.18090504, -0.76659197, -0.37033013, 0.030341223, -0.19932699, 1.7241918, 0.215016, 1.2067015, 0.82628363, 0.19523676, 0.30433646, -0.15807296, 0.44935066, -0.13693199, 0.85416657, -1.2575878, -0.33575252, -0.65059406, -0.39733168, -0.11657236, 0.011764554, 0.33358034, 0.51041025, 0.08676547, 0.31337252, 0.6701178, 0.4540256, 0.42095894, -0.11752772, -0.66888607, 0.6797672, 0.426291, 0.28477195, 0.89351135, -0.47917685, 0.5247649, -0.7575549, 0.7394239, -0.31578055, -0.73056495, -0.21887353, 0.06687512, 0.10886826, 0.67011017, 0.31026363, 0.090640835, 0.1712822, -0.3452598, 0.79471993, -0.14275843, -0.53194004, 0.09494063, 0.16223723, -0.6776981, -1.2932203, -1.0949959, -0.327648, -0.5638214, 0.8941687, 0.95950353, 0.35911947, 0.19569856, -0.81662637, 1.0999256, -0.16142195, -0.07593414, 0.33130315, -0.43079874, 0.17122288, 0.16597877, -0.06312479, 0.5662969, -0.92681587, 0.6596382, 0.09305828, 0.9054062, 0.49667835, 0.1607451, -0.36408627, -0.3899338, -0.5341438, -0.11072909, -0.21200174, -0.29193342, -0.16122504, -0.24620034, -0.24839813, 0.06386514, 0.18552661, 0.25714782, -0.16665871, 0.49583283, -0.16864356, 0.7335825, -1.5066321, -0.6373456, -1.2296038, 0.10520356, 1.540555, 0.3094756, 0.820652, -0.18596572, 0.026319487, 0.26668996, 0.22511822, 0.3991632, -0.7369586, -0.43188924, 0.6328873, -0.27847525, 0.45843533, 0.13399056, 0.7219276, 0.24591196, -0.10651981, 0.11509837, -0.85687566, -0.25021964, 0.01033555, -0.16199496, -0.4309142, 0.6521461, 0.7830556, 0.020078417, 0.27329198, 0.26923138, 0.5644556, 0.4696773, -0.33352375, 0.8610664, 0.4176859, 0.41438198, -0.9030913, 0.4219687, 0.46542943, -0.4299744, 0.1491085, -0.08099872, 0.13128188, 1.7269715, 0.01316201, 0.07789563, -0.0945366, 0.24598478, -0.27663058, 0.12068488, 0.6808294, 0.17047916, -0.05069475, -1.2252085, 0.1364186, -0.44374272, 0.23745346, 0.54314375, 0.26444256, -0.22686891, -0.3424752, 0.5382788, -0.5266122, -0.0037047984, -0.66630137, 0.3691478, -0.63094556, 0.2588555, -0.062726215, -0.48218337, -0.54442245, 0.38620666, -0.64460385, 0.54378045, 0.85234004, 0.20728013, 0.9968539, -1.1476249, -1.2317919, 0.40211773, -0.1907338, -0.9688583, 0.033830285, -1.3362927, -0.2684775, 0.12902752, 0.04495289, -0.1589906, 0.80485946, 0.08999137, -1.002435, 1.0916157, 0.13137908, 0.3457622, -0.25413403, -0.8787418, -0.38923207, 1.3368949, 0.25512728, -0.3843799, -0.5701819, 0.23418032, 0.26311848, 0.79605657, 0.050558295, 0.025659129, -0.3784868, 1.0787855, 0.4135336, -0.08982372, -0.13431516, -0.12756449, -0.104381874, 0.79338557, 0.39919135, 0.010735559, 0.7545624, 0.06095429, -0.50506014, -0.03945379, -0.5246397, 0.46283555, 0.62528884, 0.7475858, -0.87260044, -0.21046601, 1.820435, -0.036206327, 0.42279866, 0.58805156, 0.435875, 1.1177104, -0.03203504, 0.94536746, -0.7150535, -0.065276355, -0.04807238, -0.14591819, 0.22104193, -1.3692313, 0.20783632, 0.71920997, -0.19486503, -0.43635046, -0.7113904, 0.5079677, 0.8705508, -1.0776047, 0.69779176, -0.054532494, -0.5578647, -1.0641806, 0.2880375, -0.065297686, -0.08023713, -0.026460392, 0.8056806, 0.5911543, -0.5328272, -0.65988755, -0.9018319, 0.0049209907, 0.6945932, 0.8354692, -0.9910924, -0.2925438, -0.19686547, -0.048942786, -0.24851315, 1.0146811, -1.0834047, -1.1644624, 0.18708931, -0.9385704, -0.0696091, 0.9524492, -0.79659325, -1.084079, 0.7389861, -0.13390175, -0.8091879, 0.436643, 0.10091763, 0.7443589, -0.6213315, -0.059150077, 0.18917607, -0.13212927, 0.6591239, -0.0015432349, 0.9980746, 0.5857496, -0.18693382, 0.6481303, 0.6895013, -0.3381175, 0.05537902, 0.040957168, -0.7097815, 0.6036505, -0.12796474, -0.5729551, 0.16676939, -0.042729694, -1.3262962, 1.1320361, -0.005078967, -0.2718453, 0.32872555, -0.7907727, -0.4373824, -0.80974424, 0.4676233, -0.23412253, 0.34566697, 1.2322162, 0.62429124, 0.68004763, 0.3146455, 0.70819485, -0.16390945, 0.033404734, -0.41509703, 0.07830839, -0.028970387, 0.4909023, -1.1017609, 0.21257958, -1.0377301, 0.56497425, -0.20044774, 0.82964367, -0.31840074, -0.28990886, -0.2668354, -0.72735107, -0.7223026, -0.5829002, -0.2400305, 1.1480203, -0.3883004, -0.8265541, -0.06354478, 0.08115249, -0.1666655, 0.34950063, 0.0682313, 0.60930383, -1.6566371, -0.51231956, -0.2877363, 0.24958815, 0.24494632, 1.3197247, -0.17058435, -1.4061109, -1.4492247, 0.59086615, -0.81681055, 0.8556879, 0.75222456, 0.0691671, 0.33881295, -1.2976894, -0.5866977, -0.8729419, -1.0825614, 0.012600199, -0.23248787, 0.46942025, -0.69951886, -0.392432, -0.9150671, 0.43066317, -0.5057209, -0.8989599, -0.478693, -0.7180865, 0.07480059, 1.0981574, -0.35558426, -0.6091522, 0.7265292, -0.26083168, 0.942494, -0.28362367, -0.13777113, 0.25628465, -0.5042931, -0.6930859, 0.28689668, 0.22631729, -0.23660117, 0.49490634, 0.06687238, -0.12577315, -0.24069308, -0.58737844, -0.69663215, 0.10720757, -0.2565623, -0.52899796, -0.71666723, -0.7421148, -0.98275167, 0.21629357, 0.7444598, -0.4991432, 0.23880464, -0.43239778, -0.4199728, -0.8265306, -0.0711231, -0.35072947, 0.502952, 0.17044419, 1.094459, 0.45874482, -0.6440115, -0.7898527, 1.0033258, 0.7125409, -0.34817424, 0.4222505, 1.1019018, 0.3691407, 0.45470074, 1.2917037, 0.60022575, 0.72960156, -0.35369062, 0.4080531, -0.15370023, 0.14118978, 0.2015015, -0.34849602, -0.0394033, -0.32962567, 0.22876327, -0.41349727, -0.42618442, 0.5987685, 0.4453203, 0.5074801, -0.43243688, -1.6013485, -1.5487127, 0.6533888, 0.50608253, -0.48975873, -0.37444037, 0.006228244, 0.27953467, 0.62801766, 0.48503205, -0.5295221, -0.014374202, 0.45301268, 0.57066685, 0.410806, -0.70117074, -0.3278735, -0.9876275, 0.3095543, -0.05153545, 0.30295408, 0.24450348, -0.5301349, -1.0692627, -0.17172621, -0.05209429, 0.16102779, 0.20084254, -0.08936254, 0.3006575, -0.17062151, 1.4323139, -0.0693739, 0.33536035, 0.2625162, 0.34775373, -0.44353804, 0.40501368, 0.2163221, -0.67656153, 0.51564634, -0.32762036, -0.4878455, 0.5542189, -0.8121221, 0.6124735, 1.125565, 0.65744287, -0.65145344, -0.33293745, -0.28595647, 0.23924679, 1.3077749, -0.5733765, -0.36170653, -0.40528673, 0.36044556, 0.06448644, 0.015003295, -0.7535251, -0.23606458, -0.56154424, 0.17241152, -0.3689043, -1.3799629, 0.98925936, -0.20872405, 0.3293309, -0.22701828, 0.117636696, -0.46587804, -0.5508987, -1.1555988, 0.20787288, 0.20049, -0.052115854, 0.1551575, -0.37924474, -0.52029234, 0.31008875, -0.069434784, -0.5876416, 0.4522498, -0.59792286, -0.5456229, 0.14260489, -0.18680556, -0.02926597, 0.5690841, 0.48797727, 2.0078375, 0.6110939, 0.3814375, -1.2574096, 0.87419724, 0.6280904, -0.70258087, -0.27018315, -0.12982476, -0.08849343], shard_key=None, order_value=None),\n",
       " Record(id='da9c3221-1ae8-4632-888e-033d9ed9ceb4', payload={'file_name': 'curriculum_v10.pdf', 'page_number': '2', 'text': 'Pr ofessional\\nDev elopment\\nContin uously\\ndeveloping\\nexper tise\\nin\\nAI/ML\\nthrough\\ncourses\\non\\nLLMOps ,\\nNLP,\\nand\\nBig\\nData\\ntechnologies , \\nincluding\\nhands-on\\nexperience\\nwith\\ncloud\\nplatfor ms\\nlike\\nAWS.\\nMOOCs:\\nLLMOps\\n&\\nML\\nDeployment:\\nUdemy\\n|\\nCurrent \\nNLP\\nSpecialization\\nCoursera\\n|\\n01-2022 \\nDeployment\\nof\\nML\\nmodels\\nUdemy\\n|\\n12-2020 \\nNeo4J\\nIntr oduction\\nNeo4j\\n|\\n06-2020 \\nPlotl y/Dash\\ndashboards\\nUdemy\\n|\\n02-2020 \\nBig\\nData\\nSpecialization\\nCoursera\\n|\\n03-2019 \\nMathematical\\nBiostatistics\\nCoursera\\n|\\n05-2021\\nBooks:\\nHands-On\\nGenerati ve\\nAI\\nO’Reilly\\n|\\nCurrent \\nHands-On\\nGraph\\nNN\\nO’Reilly\\n|\\n01-2023 \\nNLP\\nwith\\nTransf ormer s\\nO’Reilly\\n|\\n07-2022 \\nApplied\\nrecsys\\nwith\\nPython\\nO’Reilly\\n|\\n01-2022 \\nDeep\\nRL\\nHands-On\\nO’Reilly\\n|\\n12-2021 \\nHands-On\\nExplaina ble\\nAI\\n(XAI)\\nO’Reilly\\n|\\n07-2021 \\nBay esian\\nAnal ysis\\nwith\\nPython\\nO’Reilly\\n|\\n03-2021\\nPublications\\no\\nFooDI-ML:\\na\\nlarge\\nmulti-languag e\\ndataset\\nof\\nfood,\\ndrinks\\nand\\ngroceries\\nimages\\nand\\ndescriptions\\n|\\narXiv\\n-\\n2021\\no\\nExtending\\nthe\\nsmall-molecule\\nsimilarity\\nprinciple\\nto\\nall\\nlevels\\nof\\nbiolog y\\n|\\nNat\\nBiotechnol\\n-\\n2020\\no\\nComputation\\nof\\nforces\\nfrom\\ndefor med\\nvisco-elastic\\nbiological\\ntissues\\n|\\nInverse\\nProblems\\n-\\n2018\\no\\nPendulum\\ndynamics\\nin\\nan\\namusement\\npark\\n|\\nEuropean\\nJounral\\nof\\nPhysics\\n-\\n2017\\nPr ojects\\no\\n2048\\n:\\ndeveloped\\nin\\nPython\\na\\nclone\\nof\\nthe\\n2048\\ngame\\nand\\nused\\nREINFOR CE\\nto\\nplay\\nthe\\ngame\\noptimally\\no\\nFoodi-ml\\n:\\ntraining\\nimage-text\\nalignment\\nmodel\\n(ADAPT)\\nfor\\nFooDI-ML\\ndataset\\no\\nSoccer -Star s\\nDjango\\nWebapp:\\nclone\\nthe\\nmobile\\ngame\\nSoccer\\nStars\\nwith\\na\\nReact\\napp\\nusing\\nDjang o\\nas\\nBackend\\nto\\ncompute\\ncollisions\\nand\\ntrajectories \\no\\nFitcheck\\nAI:\\nbuild\\na\\nDjang o\\nBackend\\nconnecting\\nto\\nOpenAI\\nAPI\\nto\\nask\\nGPT -4o\\nfor\\nratings\\non\\nyour\\noutfit\\nimage\\no\\nPortfolio:\\nbuilding\\nmy\\nown\\nweb\\napp\\nportfolio\\nin\\nNext.js\\n/\\nReact\\n/\\nTailwind\\nCSS,\\netc.\\n(In\\nProgress)\\no\\nPDF\\nSearch\\nLLM\\nRAG:\\nbuilding\\na\\nlocal\\nPDF\\nsummarizer\\nwith\\nSentence\\nTransfor mers,\\nOpenSearc h\\nas\\nVector\\nDatabase ,\\nMistral\\nfine-tuning\\nwith\\nLoRA\\non\\nquestion/answ ers\\ndataset\\ngenerated\\nby\\nGPT -4o,\\nand\\nserving\\nit\\nas\\na \\nStreamlit\\napp\\nthat\\nuses\\nRAG\\nfrom\\nthe\\nembedded\\nPDFs .\\n(In\\nProgress) \\no\\nBuild\\nyour\\nown\\nMLP:\\nbuilding\\na\\nMedium\\npost\\nto\\nguide\\non\\nthe\\nset\\nup\\nof\\na\\nlocal\\nK8s\\ncluster\\nwith\\nK3d,\\nwith\\nArgo\\ninstalled\\nto\\nleverage\\nyour\\ncomputer\\nas\\na\\ncompute\\nserver\\nusing\\nArgo\\nWorkflows\\nand\\nRollouts\\nfor\\nthe\\nAPI\\n(In\\nProgress)\\nSkills\\nPr ogramming\\nLangua ges\\n:\\nPython\\n|\\nR\\n|\\nSQL \\nWeb/Back end\\nDev elopment:\\nDjang o\\n|\\nFlask\\n|\\nReact \\nMachine\\nLear ning\\n&\\nAI:\\nNLP\\n|\\nComputer\\nVision\\n|\\nPyTorch\\n|\\nHuggingF ace\\n|\\nTransfor mers\\n|\\nGenerati ve\\nAI\\n| \\nMulti-Ar med\\nBandit\\n|\\nREINFOR CE\\n|\\nCollaborati ve\\nFiltering\\n|\\nWord2V ec\\n|\\nGraph\\nNN\\n|\\nBayesian\\nInference\\n| \\nRAG \\nData\\nEngineering\\n&\\nMLOps:\\nFeature\\nStore\\n|\\nTrino\\nSQL\\n|\\nAirflow\\n|\\nDocker\\n|\\nKubernetes\\n|\\nArgo\\n|\\nJenkins\\n| \\nAWS\\n|\\nMLOps\\n|\\nUnit/Integ ration\\nTesting\\n|\\nCI/CD \\nTools\\n&\\nPlatf orms:\\nGit\\n|\\nGrafana\\n|\\nDatadog\\n|\\nOpenAI\\nAPI\\nInter ests\\nPlaying\\nthe\\npiano\\n(I\\nlove\\nChopin\\n),\\nplaying\\nsports\\nvideo\\ngames\\nlike\\nFIFA\\n,\\nI’ve\\nbeen\\na\\ntennis\\ncoach\\nfor\\n4\\nyears\\nas\\na \\nteenag er,\\nnow\\nI\\ncompete\\nin\\nlocal\\ncompetitions .'}, vector=[-0.471868, 1.3020378, -2.9497342, -1.0302397, 0.4496349, -0.033753015, 0.19652297, -0.27863812, -0.4812309, -0.60797447, 0.07156389, 0.06967006, 2.532118, -0.30304095, -0.2789437, 0.41308442, -0.68701977, -0.85370284, -0.9888444, -0.058199823, -0.20622723, -0.61158067, -0.052508745, -0.57826746, 0.90996206, 0.26917636, -1.0711516, -0.0643721, -0.67008096, 0.1596213, 0.49573603, -0.59382135, -0.24274851, -0.59675455, -0.5996687, -0.0005690111, 1.1817217, -0.4558562, 0.09175478, 0.57802224, 0.75823325, 0.058315363, 0.6544299, 0.17745629, 0.7263848, -0.34041056, 0.46142423, -0.01562566, 0.91100717, -1.0634924, 1.086028, 0.22995155, 0.099358805, 0.117616944, 0.841343, 0.5451147, -0.3884604, 0.26846543, 0.23815481, -1.3006461, 2.2445204, 1.3669246, -1.4483812, 1.1601557, 0.33491755, -0.09282835, -0.7888926, 0.5916416, -0.46590644, -0.5343039, 0.38937598, 0.15101208, 0.08009209, 0.29861966, -0.518432, -0.33553237, -0.34247282, -0.5809514, -0.6118354, 0.9687889, 0.5866866, 0.6001251, 0.95735925, -0.0384447, 0.23997153, -0.23473422, -1.1440103, -0.052080236, -0.89463663, 1.4689224, 0.2795687, 0.7737044, 0.27887204, 0.65715474, -0.6957069, -0.06807657, -0.5441501, -0.37950042, -0.7303256, -0.7991978, -0.7903621, 0.040648784, 0.0015541775, 0.020269196, 1.2348632, 0.6286954, 0.10497435, -0.6859559, -0.038709413, 0.22070058, -0.35030696, 0.87453336, -0.67812294, 0.048032563, -1.1847646, -0.66117305, 0.82007194, 0.5630321, 0.60303324, 0.9803428, -0.15658095, -0.6811765, 0.22594145, 0.1673324, 1.2351408, 0.61201, -1.2828138, 0.13179095, -0.3928402, -0.6313252, 0.30339086, -0.16656923, -1.7476594, -0.16052152, -0.0702691, 1.0210048, -1.3263762, -0.063268326, 1.103729, 0.3640384, 0.76814526, 0.24912246, -0.5566967, -0.12628295, -0.14484443, -0.48538023, 0.39704406, -0.034755643, -0.8133659, 0.22168826, 0.090778805, 0.5056938, -0.053167805, 0.46538728, 0.8555847, 0.47069955, -0.9900948, -0.062785566, 0.2383386, 0.098570846, 0.6162946, -0.021969337, -0.2725952, 0.78520113, 0.109217785, -0.43358177, 1.0652006, 0.8457957, 0.8396645, 0.68435234, -1.477829, -0.9746399, 0.42102322, -0.39688087, 0.47819886, -0.022270635, 0.34147158, -0.2461026, 0.4847485, -0.33346906, 1.0728912, -1.3204777, 0.33624557, 0.12107282, -0.42842782, -0.21641797, 0.22773069, -0.09841144, -0.4199235, -1.0840842, 0.21361093, 1.148239, -0.95401275, -0.69236344, -0.5324732, -0.36848962, 0.86639607, -0.28540343, 0.0010617878, -0.50665003, -0.034986135, -0.22955887, -0.77473485, 0.3416818, -0.5678881, 1.0345551, 0.41237894, 0.44212016, -0.14541677, -0.18246484, 0.47609633, 0.010089766, 0.37321112, -0.69241095, 0.122842364, 0.20735353, 0.0094965305, -0.64751774, -0.13754642, 0.85752, 0.8483224, -0.22652967, 0.08371191, -0.18305063, 0.73122156, -0.24998012, -0.87339765, 0.21842758, -0.6394003, 0.3634369, -0.08096493, -0.60081875, 1.4333069, -0.32488582, 0.749005, 0.10700215, -0.06458704, 0.48445514, -0.021760058, 0.44940558, 0.76824796, 0.23028024, -0.6874233, 0.100205354, -0.53080624, -0.76105386, 0.45406726, -0.018210053, 0.029331224, 1.116, 0.5771248, 0.24036528, 0.23650618, -0.025967235, 0.06222999, 0.08619704, -0.111759804, 0.036722116, 0.26037192, 0.46983173, 0.4936222, -0.42384776, -0.17398433, -0.644389, 0.1449737, 0.039387435, -0.32250845, -0.57153493, 0.15492712, 0.46260166, 0.76577723, 0.4078663, 0.27871752, 0.5493871, 0.019155625, 0.9041768, -0.11465322, 0.19924922, 0.15905572, 0.50473666, -0.5905533, -2.1248658, -0.6928274, -0.08011592, 0.015374755, 0.24432643, 0.041293535, -0.06800005, 0.9227939, -0.5665564, 0.44267967, -0.19683646, -0.5297707, -0.09966116, -0.2784518, -0.15743679, 0.30275443, 0.038323343, 0.1357158, -0.8999053, 0.5973607, 0.6822266, 1.654285, 0.28295487, 0.470417, -0.31666207, 0.045358464, -0.17428496, 0.462832, -0.07231344, -0.6543688, -0.29675332, -0.30918086, 0.29614258, -0.22842468, 0.33403507, 0.547888, 0.36801732, 0.80255914, -1.1561512, 0.44194764, -1.0167704, -0.23827118, -1.0546575, 0.018356068, 0.90249044, -0.121161446, 0.1401781, 0.14633752, -0.25272757, 0.14830394, 0.59904134, 0.21053763, -0.5038044, -0.16295575, 0.21015519, 0.183084, -0.3720105, 0.58228827, -0.0922601, 0.5277066, -0.012852774, 0.53683734, -0.5651285, -0.60968363, -0.33716822, -0.17433307, -0.3948817, 0.49317962, 0.8390115, 0.1444912, 0.1980349, -0.28773427, 0.31362918, 0.22562867, -0.6580647, 0.86783177, 1.3252172, 0.46275598, -0.7522095, 0.21165133, -0.2985563, 0.21672273, -0.6395845, -0.13554306, -0.10622774, 0.9232463, 0.36132315, 0.21692389, 0.15202382, -0.07161693, -0.42158398, -0.094350286, 1.1688145, 0.09191713, 0.35118714, -1.2902203, -0.70059556, -0.32839742, -0.30341062, 0.19223107, 0.14656456, 0.16287468, 0.16856222, 0.16030729, -0.5778845, 0.6291153, -0.38876054, 0.67056763, 0.17249309, -0.25100154, -0.5012248, -0.78436536, -0.049542863, 0.80531955, -0.44669196, 0.06282531, -0.23093033, -0.75691175, 1.4705468, -1.4563746, -0.8132886, 0.5831648, -0.8757968, -0.42902845, -0.3358165, -0.7010542, -0.23866169, 0.1134596, -0.17880236, 0.7290445, 0.3984102, 0.053221777, -0.7504792, 0.20000002, -0.37955078, 0.5324472, -0.037424646, -1.0547829, 0.04688513, 0.456262, 0.68040985, -0.21930048, 0.19790168, 0.3721965, 0.15196367, 0.81260455, 0.41271242, -0.39464408, -0.6288873, 0.39504403, 0.19483626, 0.42766932, -0.51356596, 0.22993486, 0.14167643, 0.798959, 1.0791688, 0.56099606, -0.09022244, 0.55171007, -0.7080294, -0.16959812, -0.9810194, 0.05699582, 1.4355922, 0.9769608, -0.20094734, -1.0094793, 1.1154362, 0.3935571, 0.52560407, 0.4662395, 0.6570112, 1.2384968, -0.17163096, -0.16403566, -0.20996319, 0.44819847, 0.13930035, 0.16709122, -0.044632677, -1.0912168, -0.43904418, -0.43986252, -0.27725095, -0.08138971, -0.61579, 0.27699918, 0.9593418, -0.63190246, -0.05858482, 0.48992008, -0.3690036, -0.46142828, 0.3336885, -0.19174103, -0.7035606, 0.734103, 0.6045837, 0.3660571, -0.83479136, -0.5131681, -1.2962769, 0.18559681, 0.66953033, 0.40298355, -1.0793847, 0.3910832, -0.11067202, 0.24112019, -0.11811541, 0.39877993, 0.07073016, -1.2061507, 0.26170498, -0.07892776, 1.1275488, 1.3844332, -0.24137773, 0.34555757, 0.546983, -0.7414528, -0.16600822, 0.37262195, -0.54130006, 1.0104693, -0.6695252, -0.6086753, 0.73305804, 0.62050515, 1.1833382, 0.014170416, 0.42691356, 0.78747267, -0.96707803, 0.56948495, 0.56207544, -1.0615891, 0.48931205, -0.24063824, -0.7828028, 0.41822952, 0.37315875, -0.36903226, 0.1015143, 0.905414, -0.71955264, 0.54246396, 0.015810447, -0.6391679, 0.30237326, -0.87909, -0.75350803, -0.4835789, 0.48175633, -0.26661152, -0.24298559, 1.3030406, 0.2560782, 0.5741693, -0.011789838, 0.38845986, -0.08169851, -0.17965743, -0.44407216, 0.0069180136, 0.48319772, 0.846223, -2.0470512, 0.36793706, -1.4339179, 0.56764114, -0.23231778, 0.31086645, -0.555787, -0.9317099, -1.1480566, -0.52993286, -0.33045352, 0.23340727, -0.27536845, 1.435112, -0.103784494, -0.55853087, -0.479343, -0.21745971, -0.45961696, 0.6559327, 1.1133263, 0.3386271, -1.637464, 0.30690727, 0.12004167, 0.4500856, -0.4455067, 1.0474596, -0.05052715, -0.15441237, -0.8484356, 0.70932615, -0.9841927, 0.4730449, 0.51619595, 0.38277593, -0.101666786, -0.69072086, -0.4259515, 0.29330847, -1.2675848, -0.18849474, -0.031805776, 0.77943885, -0.363551, -0.30544975, -0.51947266, -0.31518602, 0.11264278, -0.50306225, -1.3292314, -1.016451, -0.2788139, 0.16016684, -0.53050333, -0.10191053, 0.9777501, -0.51322746, 0.6031824, 0.32449862, 0.022924343, -0.11498196, 0.00035780206, -0.2931694, 0.4066405, 0.22141027, -0.28105372, 0.6875899, -0.5606069, -0.4162963, -0.46400002, -0.81775314, -0.63026154, 0.41930047, -0.25755772, -0.47098663, 0.27092925, -1.1180023, -0.12556718, -0.271241, 0.5882677, -0.24036133, -0.093239464, -0.5721666, -0.6819143, -1.0146203, 0.5047578, -0.9218709, -0.099001266, 0.81159806, 0.8721109, 0.49152523, -0.28414702, -0.5624873, 0.9668939, 0.9912465, -0.28631255, 0.49346524, 1.516925, -0.11433204, -0.36707905, 1.3434976, 1.4852767, 0.49663883, -0.6793541, 0.17579663, 0.49066278, 0.10984126, -0.5412205, -0.09658353, -0.12235399, -0.27755362, -0.23683129, -0.4158377, -0.52631, 0.2961035, -0.11702616, -0.44132036, 0.34878543, -1.2628146, -0.5260832, 0.36664146, 1.196681, -0.37539306, -0.09914288, 0.7282751, 0.40893188, 0.6732467, 0.43777418, -0.48470002, -0.11928836, -0.43381643, -0.130848, -0.16180284, -0.4877045, 0.06317755, -1.1706123, 0.43343434, -0.08170925, -0.16185848, -0.68319947, -0.6698493, -0.16743982, -0.016988192, -0.0071529527, -0.32687086, 0.26444942, 0.41888294, -0.91562235, 0.4020241, 1.5097945, -0.56998676, 0.44497785, -0.508972, 0.4966313, 0.063981935, 0.4394589, 0.016260894, 0.502048, 0.11177828, -0.879964, -0.66547525, 0.46501717, -0.7313755, 1.445273, 0.122564256, 0.57956153, -0.17228112, -0.5360198, -0.71722263, 0.3298213, 0.63500655, -0.49715403, -0.5656368, 0.15145272, -0.48755762, -0.34277397, 0.32920206, -0.8507992, -0.26548454, -0.40311646, 0.30566227, -0.571944, -0.7631501, 0.82075167, 0.09883469, 0.063851066, -0.78419024, -0.74330163, 0.028535407, -0.37872398, -0.34689412, 0.7690636, -0.103428945, 0.326385, -0.12504284, -0.618367, -0.6336084, 0.8929886, 0.36570254, -0.6810345, 0.4227745, -0.22068289, -0.46754643, 0.16041513, -0.4610463, -0.05646833, 0.3608732, 1.4385216, 2.3778737, 0.22816838, 0.52505463, -0.8205472, 1.2760558, -0.36672986, -0.6682483, -0.7396473, -0.8158778, -0.24269417], shard_key=None, order_value=None)]"
      ]
     },
     "execution_count": 13,
     "metadata": {},
     "output_type": "execute_result"
    }
   ],
   "source": [
    "records"
   ]
  },
  {
   "cell_type": "code",
   "execution_count": 80,
   "metadata": {},
   "outputs": [],
   "source": [
    "import numpy as np"
   ]
  },
  {
   "cell_type": "code",
   "execution_count": 79,
   "metadata": {},
   "outputs": [],
   "source": [
    "all_embeddings = []\n",
    "\n",
    "for record in records:\n",
    "    all_embeddings.append(record.vector)"
   ]
  },
  {
   "cell_type": "code",
   "execution_count": 81,
   "metadata": {},
   "outputs": [],
   "source": [
    "all_embs = np.array(all_embeddings, dtype=np.float32)"
   ]
  },
  {
   "cell_type": "code",
   "execution_count": 83,
   "metadata": {},
   "outputs": [
    {
     "data": {
      "text/plain": [
       "(2, 768)"
      ]
     },
     "execution_count": 83,
     "metadata": {},
     "output_type": "execute_result"
    }
   ],
   "source": [
    "all_embs.shape"
   ]
  },
  {
   "cell_type": "markdown",
   "metadata": {},
   "source": [
    "### Retrieval example"
   ]
  },
  {
   "cell_type": "code",
   "execution_count": 88,
   "metadata": {},
   "outputs": [],
   "source": [
    "original_vector = np.array(all_embeddings[0], dtype=np.float32)\n",
    "original_record = records[0]"
   ]
  },
  {
   "cell_type": "code",
   "execution_count": 89,
   "metadata": {},
   "outputs": [
    {
     "data": {
      "text/plain": [
       "Record(id='0c9a48bd-4eba-47db-84e1-bf97ad6408fc', payload={'file_name': 'curriculum_v10.pdf', 'page_number': '1', 'text': 'David\\nAmat\\nSenior\\nData\\nScientist \\n(Glovo)\\nCAT\\n|\\xa0ENG\\n|\\nSPA\\nLocation:\\nBarcelona,\\nSpain\\nDate\\nof\\nbirth:\\n20-04-1994\\nNumber:\\n+(34)-608526629\\ndaolondrizdaolondriz@gmai.com\\nin:\\ndavid-amat-olondriz/\\ngithub:\\nDavidAmat\\nFull\\nStack\\nData\\nScientist\\nwith\\n6+\\nyears\\nof\\nexperience\\nin\\nend-to-end\\nML\\ndevelopment,\\nspecializing\\nin\\nrecommender \\nsystems ,\\ndeep\\nlearning,\\nNLP,\\ncomputer\\nvision,\\nand\\nAI/LLM\\ntechnologies .\\nCurrently\\nleading\\nprojects\\nat\\nGlovo, \\ndriving\\nimpro vements\\nin\\nML\\nplatfor m\\nlifecycle ,\\nfeature\\nengineering,\\nand\\nreal-time\\nAPI\\nserving\\nwith\\na\\nfocus\\non \\nscalable ,\\nproduct-dri ven\\nsolutions .\\nProven\\ntrack\\nrecord\\nof\\ncollaborating\\ncross-functionally\\nwith\\nProduct\\nand \\nBackend\\nteams ,\\ndelivering\\nimpactful\\ndata-dri ven\\nproducts .\\nConstantly\\nadvancing\\nskills\\nin\\nAI/ML\\nsystem\\ndesign\\nand \\nstaying\\nupdated\\nwith\\nstate-of-the-ar t\\ntechnologies .\\nWork\\nexperience\\nGlo vo\\n|\\nSenior\\nData\\nScientist\\nBarcelona,\\nSpain\\n|\\n07.2020\\n-\\nCurrent \\n●\\nLed\\nthe\\ndevelopment\\nand\\noptimization\\nof\\na\\nStock\\nPrediction\\nModel\\n(SPM)\\nfor\\nGroceries ,\\nsignificantly\\nreducing \\nProduct\\nNot\\nAvailable\\n(PNA)\\nmetrics\\nby\\n10-14%,\\nresulting\\nin\\n~€2M\\nannual\\nsavings . \\n●\\nEngineered\\na\\nnew\\nrestaurant\\nrecommender\\nsystem,\\ntransitioning\\nfrom\\ncollaborati ve\\nfiltering\\n(SVD)\\nto\\nan \\nadvanced\\nembedding-based\\nmodel\\nusing\\nWord2V ec,\\nleading\\nto\\na\\n1%\\nabsolute\\nincrease\\nin\\nCVR.\\nInteg rated\\nthe \\nsystem\\nwith\\na\\nlow-latency\\nAPI\\nutilizing\\na\\nFeature\\nStore ,\\nenabling\\nreal-time\\nrecommendations .\\nA/B\\ntest \\nexperiments\\nshowed\\n+0.8M\\nincremental\\norders\\n/\\nyear. \\n●\\nIdeation\\nand\\nproductization\\nof\\nMulti-Ar med\\nBandit\\nframew ork\\nto\\ntailor\\nrecommender\\nwidgets\\nfor\\neach\\nuser \\nuser,\\nusing\\na\\ncustom-made\\napproac h\\niterated\\nfrom\\ntypical\\nThompson\\nSampling\\napproac h\\n(in\\ntest). \\n●\\nFirst\\nprize\\nin\\nan\\ninternal\\nHackathon\\nfine-tuning\\na\\nStable\\nDiffusion\\nmodel\\nto\\ngenerate\\ndish\\nimages\\nfrom\\ntext. \\n●\\nBenc hmarking\\nCLIP\\nmodel\\non\\nour\\nreleased\\nFoodi-ML\\nmulti-modal\\ndataset \\n●\\nGained\\nML\\nEngineering\\nskills\\nmastering\\nour\\nin-house\\nML\\nPlatfor m\\narchitecture ,\\nincluding\\nproject\\nsetup\\nwith \\nPoetry,\\nscalable\\ntrainings\\nin\\nArgo\\nWorkflows\\nunder\\nK8s,\\nAPI\\ninferences\\nserving\\nwith\\nFlask,\\nDockerization\\nand \\nECR\\nmanag ement,\\nfull\\nCI/CD\\nlifecycle\\nwith\\nArgo\\nCD,\\nGitOps ,\\nJenkins ,\\nArgo\\nRollouts ,\\netc.\\nBesides ,\\nI\\nalso\\nbuild \\ndeclarati ve\\nData\\nProducts\\nrunning\\nin\\nAirflow,\\nlinking\\nthem\\nto\\nFeature\\nStore\\nfor\\nproduction\\nlow-latency\\nretriev al. \\n●\\nExperience\\nin\\nA/B\\ntest\\nanalysis ,\\nincluding\\ndesign\\non\\nour\\nExperimentation\\nPlatfor m,\\nmetric\\nselection,\\nMDE \\nanalysis ,\\nand\\nresult\\nevaluation\\nusing\\nchi-squared\\ntests,\\nz-tests ,\\nand\\np-value\\ncorrections\\nwith\\nPython\\nlibraries\\nBanc\\nSa badell\\n|\\nData\\nScientist\\nSant\\nCugat\\ndel\\nVallès,\\nSpain\\n|\\n11.2018\\n-\\n07-2020 \\n●\\nYoung\\nTalent\\nprogram\\nfocused\\non\\nData\\nScience\\nwithin\\nthe\\nBank\\n(6\\nmonths\\nrotation\\nto\\ndifferent\\nareas). \\n●\\nDeveloped\\na\\npredicti ve\\nmodel\\noptimizing\\nchannel\\nselection\\nfor\\ndebt\\nrecovery,\\nleveraging\\ndecision\\ntrees\\nto \\nidentify\\noptimal\\ncomm unication\\nstrategies ,\\nwhich\\nimpro ved\\nrecovery\\nrates\\nby\\n5% \\n●\\nCollaborated\\non\\na\\nspending\\ncateg orization\\nmodel\\nthat\\nautomatically\\nclassifies\\ntransactions\\ninto\\nbroad\\ncateg ories \\n●\\nDeveloped\\na\\ntree-based\\nfraud\\ndetection\\nmodel\\nto\\nflag\\nsuspicious\\ntransactions\\nand\\nreduce\\nFalse\\nalarms,\\nreducing \\non\\naverage\\n~60-70%\\nof\\nFalse\\npositi ve\\nalarms,\\nreducing\\nanalysts\\nworkload\\non\\nanalyzing\\nand\\nreporting\\nthem.\\nEY\\n|\\nJunior\\nConsultant\\nat\\nLife-Science\\nteam\\nBarcelona,\\nSpain\\n|\\n07.2018\\n-\\n11.2018\\nIRB/IBEC\\n|\\nMSc\\nInter nships\\nBarcelona,\\nSpain\\n|\\n06.2017\\n-\\n07.2018 \\n●\\n[IRB]\\nDeveloped\\na\\ntarget\\nprediction\\ntool\\nusing\\nSimilarity\\nEnsemble\\nApproac h\\n(SEA)\\nand\\nSiamese\\nNN, \\ninteg rating\\nbioacti vity\\ndata\\nand\\ngene\\nexpression\\nprofiles\\nto\\nenhance\\ndrug-targ et\\ninteraction\\npredictions . \\n●\\n[IBEC]\\nUsed\\nfinite-element\\nmethods\\nto\\ncompute\\nvisco-elastic\\nforces\\nfor\\nbiological\\ntissues\\n.\\nEducation\\nIMF\\nSchool\\n|\\nMaster’ s\\nDegree\\nin\\nBusiness\\nAnalytics\\n&\\nBig\\nData\\nGrade:\\n9.8\\nMadrid,\\nSpain\\n|\\n05.2019\\n-\\n10.2020 \\nUPF/UB\\n|\\nMaster’ s\\nDegree\\nin\\nBioinfor matics\\nfor\\nHealth\\nSciences\\nGrade:\\n9.1\\nBarcelona,\\nSpain\\n|\\n09.2016\\n-\\n06.2018 \\nUPC\\n|\\nBachelor’ s\\nDegree\\nin\\nEngineering\\nPhysics\\nGrade:\\n7.6\\nBarcelona,\\nSpain\\n|\\n09.2012\\n-\\n06.2016'}, vector=[-0.15329383, 1.4898468, -3.332744, -0.078527756, 1.1423025, 0.31414035, 0.5076507, -0.3677959, -0.47170538, -0.37724313, -0.5949493, 0.6711028, 2.3572655, -0.8321366, -0.35050184, 0.3458341, -0.060986973, -0.52709967, -0.8831297, -0.09142202, -0.47986728, -1.0796372, 0.3696203, -1.047998, 1.1452012, 0.8875899, -0.69255894, 0.41662264, -0.45197707, 0.12769608, 0.6393927, 0.32053518, -0.6935109, 0.23586442, -0.35369462, -0.17752303, 0.9467268, 0.51109445, 0.27009517, 0.34436047, 0.6144788, 0.3321454, 0.36744013, -0.5401491, 0.34063917, -0.065246835, 0.0947327, -0.34031072, -0.11859132, -1.077031, 0.34424025, 0.35545486, 0.38822028, 0.66095144, 0.5797278, -0.5287083, -0.96867925, 0.59621006, -0.11368056, -1.3619539, 1.8465512, 1.0751842, -0.6119355, 1.3728194, 0.45398968, -0.5834009, -0.7765449, 0.32594207, 0.2510132, -0.95804304, 0.40151495, -0.15523767, 0.6232233, 0.72150385, -0.47554758, 0.21824129, -0.4579841, -0.48663154, -0.31517202, 0.81006235, 0.70788103, 0.22467838, 1.0294118, -0.4250292, 0.030691147, -0.69598275, -0.17462692, -0.23411368, 0.035675496, 1.2762839, 0.06294833, 0.88707185, 0.6718231, 0.8264936, -0.77082497, 0.063343704, -0.27449492, -0.82504326, -0.35483816, -0.40412796, -0.48647884, -0.5692631, -0.108087316, 0.7017489, 0.8695965, 0.698597, 0.477394, -0.7238727, 0.11682788, -0.24902302, -0.89535564, -0.042030368, -0.7957115, -0.6256242, -0.43234912, 0.17561689, 0.6375066, -0.5506239, -0.06763247, 0.28888193, 0.6272309, -0.27966544, -0.38438573, 0.8202572, -0.24702346, 0.55291003, -1.1021804, 0.5067946, -0.51148397, 0.2480587, -0.11233713, -0.63591695, -0.53189516, -0.13524684, 0.30104503, 0.80227935, -0.54546195, -0.2931016, 1.1492063, 0.14958093, -0.09123002, 0.2729724, -0.01416959, 0.3496394, -0.32519275, -0.81088394, 0.5844395, 0.06190684, -1.088564, -0.22497514, 0.24060401, 0.7130822, 0.07304638, -0.08814078, 0.4517988, -0.8868051, -0.89817816, 0.91271424, 0.22172578, 0.5257286, 0.5570437, 0.30870232, -0.6081347, 0.47290492, 0.1694335, -0.38840735, 0.65227574, 0.8040716, 0.16975322, 1.7183908, -0.87786984, -0.57859224, 0.39619735, -0.4140133, 0.8411562, -0.16265045, -0.42031357, -0.66724616, 0.9377836, -0.5304251, 1.1797291, -1.1186959, 0.7664459, 0.15065843, -0.31101382, -0.3609111, 0.47830087, -0.3786398, -0.5500773, -0.83536965, 0.6263464, 0.6848839, -1.1775831, -0.33845183, -0.94736135, -0.05570531, 1.038442, -0.56193, 0.00723556, -0.006356822, -1.1460166, -0.3981429, -0.66277295, 0.44429654, -0.39086828, 0.5462202, 0.37234706, 0.6110686, -0.16327848, 0.6054832, 0.52904654, -0.09856297, -0.14915365, -0.47135738, -0.013956062, -0.15782543, 0.13558835, -0.4480308, -0.24822928, 0.46621856, 0.43931857, -0.117949694, 0.25746834, 0.7997362, -0.040311452, -0.71125793, -0.43888777, -0.18090504, -0.76659197, -0.37033013, 0.030341223, -0.19932699, 1.7241918, 0.215016, 1.2067015, 0.82628363, 0.19523676, 0.30433646, -0.15807296, 0.44935066, -0.13693199, 0.85416657, -1.2575878, -0.33575252, -0.65059406, -0.39733168, -0.11657236, 0.011764554, 0.33358034, 0.51041025, 0.08676547, 0.31337252, 0.6701178, 0.4540256, 0.42095894, -0.11752772, -0.66888607, 0.6797672, 0.426291, 0.28477195, 0.89351135, -0.47917685, 0.5247649, -0.7575549, 0.7394239, -0.31578055, -0.73056495, -0.21887353, 0.06687512, 0.10886826, 0.67011017, 0.31026363, 0.090640835, 0.1712822, -0.3452598, 0.79471993, -0.14275843, -0.53194004, 0.09494063, 0.16223723, -0.6776981, -1.2932203, -1.0949959, -0.327648, -0.5638214, 0.8941687, 0.95950353, 0.35911947, 0.19569856, -0.81662637, 1.0999256, -0.16142195, -0.07593414, 0.33130315, -0.43079874, 0.17122288, 0.16597877, -0.06312479, 0.5662969, -0.92681587, 0.6596382, 0.09305828, 0.9054062, 0.49667835, 0.1607451, -0.36408627, -0.3899338, -0.5341438, -0.11072909, -0.21200174, -0.29193342, -0.16122504, -0.24620034, -0.24839813, 0.06386514, 0.18552661, 0.25714782, -0.16665871, 0.49583283, -0.16864356, 0.7335825, -1.5066321, -0.6373456, -1.2296038, 0.10520356, 1.540555, 0.3094756, 0.820652, -0.18596572, 0.026319487, 0.26668996, 0.22511822, 0.3991632, -0.7369586, -0.43188924, 0.6328873, -0.27847525, 0.45843533, 0.13399056, 0.7219276, 0.24591196, -0.10651981, 0.11509837, -0.85687566, -0.25021964, 0.01033555, -0.16199496, -0.4309142, 0.6521461, 0.7830556, 0.020078417, 0.27329198, 0.26923138, 0.5644556, 0.4696773, -0.33352375, 0.8610664, 0.4176859, 0.41438198, -0.9030913, 0.4219687, 0.46542943, -0.4299744, 0.1491085, -0.08099872, 0.13128188, 1.7269715, 0.01316201, 0.07789563, -0.0945366, 0.24598478, -0.27663058, 0.12068488, 0.6808294, 0.17047916, -0.05069475, -1.2252085, 0.1364186, -0.44374272, 0.23745346, 0.54314375, 0.26444256, -0.22686891, -0.3424752, 0.5382788, -0.5266122, -0.0037047984, -0.66630137, 0.3691478, -0.63094556, 0.2588555, -0.062726215, -0.48218337, -0.54442245, 0.38620666, -0.64460385, 0.54378045, 0.85234004, 0.20728013, 0.9968539, -1.1476249, -1.2317919, 0.40211773, -0.1907338, -0.9688583, 0.033830285, -1.3362927, -0.2684775, 0.12902752, 0.04495289, -0.1589906, 0.80485946, 0.08999137, -1.002435, 1.0916157, 0.13137908, 0.3457622, -0.25413403, -0.8787418, -0.38923207, 1.3368949, 0.25512728, -0.3843799, -0.5701819, 0.23418032, 0.26311848, 0.79605657, 0.050558295, 0.025659129, -0.3784868, 1.0787855, 0.4135336, -0.08982372, -0.13431516, -0.12756449, -0.104381874, 0.79338557, 0.39919135, 0.010735559, 0.7545624, 0.06095429, -0.50506014, -0.03945379, -0.5246397, 0.46283555, 0.62528884, 0.7475858, -0.87260044, -0.21046601, 1.820435, -0.036206327, 0.42279866, 0.58805156, 0.435875, 1.1177104, -0.03203504, 0.94536746, -0.7150535, -0.065276355, -0.04807238, -0.14591819, 0.22104193, -1.3692313, 0.20783632, 0.71920997, -0.19486503, -0.43635046, -0.7113904, 0.5079677, 0.8705508, -1.0776047, 0.69779176, -0.054532494, -0.5578647, -1.0641806, 0.2880375, -0.065297686, -0.08023713, -0.026460392, 0.8056806, 0.5911543, -0.5328272, -0.65988755, -0.9018319, 0.0049209907, 0.6945932, 0.8354692, -0.9910924, -0.2925438, -0.19686547, -0.048942786, -0.24851315, 1.0146811, -1.0834047, -1.1644624, 0.18708931, -0.9385704, -0.0696091, 0.9524492, -0.79659325, -1.084079, 0.7389861, -0.13390175, -0.8091879, 0.436643, 0.10091763, 0.7443589, -0.6213315, -0.059150077, 0.18917607, -0.13212927, 0.6591239, -0.0015432349, 0.9980746, 0.5857496, -0.18693382, 0.6481303, 0.6895013, -0.3381175, 0.05537902, 0.040957168, -0.7097815, 0.6036505, -0.12796474, -0.5729551, 0.16676939, -0.042729694, -1.3262962, 1.1320361, -0.005078967, -0.2718453, 0.32872555, -0.7907727, -0.4373824, -0.80974424, 0.4676233, -0.23412253, 0.34566697, 1.2322162, 0.62429124, 0.68004763, 0.3146455, 0.70819485, -0.16390945, 0.033404734, -0.41509703, 0.07830839, -0.028970387, 0.4909023, -1.1017609, 0.21257958, -1.0377301, 0.56497425, -0.20044774, 0.82964367, -0.31840074, -0.28990886, -0.2668354, -0.72735107, -0.7223026, -0.5829002, -0.2400305, 1.1480203, -0.3883004, -0.8265541, -0.06354478, 0.08115249, -0.1666655, 0.34950063, 0.0682313, 0.60930383, -1.6566371, -0.51231956, -0.2877363, 0.24958815, 0.24494632, 1.3197247, -0.17058435, -1.4061109, -1.4492247, 0.59086615, -0.81681055, 0.8556879, 0.75222456, 0.0691671, 0.33881295, -1.2976894, -0.5866977, -0.8729419, -1.0825614, 0.012600199, -0.23248787, 0.46942025, -0.69951886, -0.392432, -0.9150671, 0.43066317, -0.5057209, -0.8989599, -0.478693, -0.7180865, 0.07480059, 1.0981574, -0.35558426, -0.6091522, 0.7265292, -0.26083168, 0.942494, -0.28362367, -0.13777113, 0.25628465, -0.5042931, -0.6930859, 0.28689668, 0.22631729, -0.23660117, 0.49490634, 0.06687238, -0.12577315, -0.24069308, -0.58737844, -0.69663215, 0.10720757, -0.2565623, -0.52899796, -0.71666723, -0.7421148, -0.98275167, 0.21629357, 0.7444598, -0.4991432, 0.23880464, -0.43239778, -0.4199728, -0.8265306, -0.0711231, -0.35072947, 0.502952, 0.17044419, 1.094459, 0.45874482, -0.6440115, -0.7898527, 1.0033258, 0.7125409, -0.34817424, 0.4222505, 1.1019018, 0.3691407, 0.45470074, 1.2917037, 0.60022575, 0.72960156, -0.35369062, 0.4080531, -0.15370023, 0.14118978, 0.2015015, -0.34849602, -0.0394033, -0.32962567, 0.22876327, -0.41349727, -0.42618442, 0.5987685, 0.4453203, 0.5074801, -0.43243688, -1.6013485, -1.5487127, 0.6533888, 0.50608253, -0.48975873, -0.37444037, 0.006228244, 0.27953467, 0.62801766, 0.48503205, -0.5295221, -0.014374202, 0.45301268, 0.57066685, 0.410806, -0.70117074, -0.3278735, -0.9876275, 0.3095543, -0.05153545, 0.30295408, 0.24450348, -0.5301349, -1.0692627, -0.17172621, -0.05209429, 0.16102779, 0.20084254, -0.08936254, 0.3006575, -0.17062151, 1.4323139, -0.0693739, 0.33536035, 0.2625162, 0.34775373, -0.44353804, 0.40501368, 0.2163221, -0.67656153, 0.51564634, -0.32762036, -0.4878455, 0.5542189, -0.8121221, 0.6124735, 1.125565, 0.65744287, -0.65145344, -0.33293745, -0.28595647, 0.23924679, 1.3077749, -0.5733765, -0.36170653, -0.40528673, 0.36044556, 0.06448644, 0.015003295, -0.7535251, -0.23606458, -0.56154424, 0.17241152, -0.3689043, -1.3799629, 0.98925936, -0.20872405, 0.3293309, -0.22701828, 0.117636696, -0.46587804, -0.5508987, -1.1555988, 0.20787288, 0.20049, -0.052115854, 0.1551575, -0.37924474, -0.52029234, 0.31008875, -0.069434784, -0.5876416, 0.4522498, -0.59792286, -0.5456229, 0.14260489, -0.18680556, -0.02926597, 0.5690841, 0.48797727, 2.0078375, 0.6110939, 0.3814375, -1.2574096, 0.87419724, 0.6280904, -0.70258087, -0.27018315, -0.12982476, -0.08849343], shard_key=None, order_value=None)"
      ]
     },
     "execution_count": 89,
     "metadata": {},
     "output_type": "execute_result"
    }
   ],
   "source": [
    "original_record"
   ]
  },
  {
   "cell_type": "code",
   "execution_count": 90,
   "metadata": {},
   "outputs": [],
   "source": [
    "# 2) Add small Gaussian noise\n",
    "noise_std: float = 0.01\n",
    "noisy_vector = original_vector + np.random.normal(\n",
    "    loc=0.0, \n",
    "    scale=noise_std, \n",
    "    size=original_vector.shape\n",
    ").astype(np.float32)"
   ]
  },
  {
   "cell_type": "code",
   "execution_count": 92,
   "metadata": {},
   "outputs": [
    {
     "data": {
      "text/plain": [
       "array([-0.14387539,  1.493144  , -3.3426669 ], dtype=float32)"
      ]
     },
     "execution_count": 92,
     "metadata": {},
     "output_type": "execute_result"
    }
   ],
   "source": [
    "noisy_vector[:3]"
   ]
  },
  {
   "cell_type": "code",
   "execution_count": 93,
   "metadata": {},
   "outputs": [
    {
     "data": {
      "text/plain": [
       "array([-0.15329383,  1.4898468 , -3.332744  ], dtype=float32)"
      ]
     },
     "execution_count": 93,
     "metadata": {},
     "output_type": "execute_result"
    }
   ],
   "source": [
    "original_vector[:3]"
   ]
  },
  {
   "cell_type": "code",
   "execution_count": 94,
   "metadata": {},
   "outputs": [],
   "source": [
    "# 3) Perform similarity search with the noisy vector\n",
    "search_results = client.search(\n",
    "    collection_name=collection_name,\n",
    "    query_vector=noisy_vector.tolist(),  # convert NumPy array -> Python list\n",
    "    limit=1\n",
    ")"
   ]
  },
  {
   "cell_type": "code",
   "execution_count": 95,
   "metadata": {},
   "outputs": [
    {
     "data": {
      "text/plain": [
       "[ScoredPoint(id='0c9a48bd-4eba-47db-84e1-bf97ad6408fc', version=0, score=301.38318, payload={'file_name': 'curriculum_v10.pdf', 'page_number': '1', 'text': 'David\\nAmat\\nSenior\\nData\\nScientist \\n(Glovo)\\nCAT\\n|\\xa0ENG\\n|\\nSPA\\nLocation:\\nBarcelona,\\nSpain\\nDate\\nof\\nbirth:\\n20-04-1994\\nNumber:\\n+(34)-608526629\\ndaolondrizdaolondriz@gmai.com\\nin:\\ndavid-amat-olondriz/\\ngithub:\\nDavidAmat\\nFull\\nStack\\nData\\nScientist\\nwith\\n6+\\nyears\\nof\\nexperience\\nin\\nend-to-end\\nML\\ndevelopment,\\nspecializing\\nin\\nrecommender \\nsystems ,\\ndeep\\nlearning,\\nNLP,\\ncomputer\\nvision,\\nand\\nAI/LLM\\ntechnologies .\\nCurrently\\nleading\\nprojects\\nat\\nGlovo, \\ndriving\\nimpro vements\\nin\\nML\\nplatfor m\\nlifecycle ,\\nfeature\\nengineering,\\nand\\nreal-time\\nAPI\\nserving\\nwith\\na\\nfocus\\non \\nscalable ,\\nproduct-dri ven\\nsolutions .\\nProven\\ntrack\\nrecord\\nof\\ncollaborating\\ncross-functionally\\nwith\\nProduct\\nand \\nBackend\\nteams ,\\ndelivering\\nimpactful\\ndata-dri ven\\nproducts .\\nConstantly\\nadvancing\\nskills\\nin\\nAI/ML\\nsystem\\ndesign\\nand \\nstaying\\nupdated\\nwith\\nstate-of-the-ar t\\ntechnologies .\\nWork\\nexperience\\nGlo vo\\n|\\nSenior\\nData\\nScientist\\nBarcelona,\\nSpain\\n|\\n07.2020\\n-\\nCurrent \\n●\\nLed\\nthe\\ndevelopment\\nand\\noptimization\\nof\\na\\nStock\\nPrediction\\nModel\\n(SPM)\\nfor\\nGroceries ,\\nsignificantly\\nreducing \\nProduct\\nNot\\nAvailable\\n(PNA)\\nmetrics\\nby\\n10-14%,\\nresulting\\nin\\n~€2M\\nannual\\nsavings . \\n●\\nEngineered\\na\\nnew\\nrestaurant\\nrecommender\\nsystem,\\ntransitioning\\nfrom\\ncollaborati ve\\nfiltering\\n(SVD)\\nto\\nan \\nadvanced\\nembedding-based\\nmodel\\nusing\\nWord2V ec,\\nleading\\nto\\na\\n1%\\nabsolute\\nincrease\\nin\\nCVR.\\nInteg rated\\nthe \\nsystem\\nwith\\na\\nlow-latency\\nAPI\\nutilizing\\na\\nFeature\\nStore ,\\nenabling\\nreal-time\\nrecommendations .\\nA/B\\ntest \\nexperiments\\nshowed\\n+0.8M\\nincremental\\norders\\n/\\nyear. \\n●\\nIdeation\\nand\\nproductization\\nof\\nMulti-Ar med\\nBandit\\nframew ork\\nto\\ntailor\\nrecommender\\nwidgets\\nfor\\neach\\nuser \\nuser,\\nusing\\na\\ncustom-made\\napproac h\\niterated\\nfrom\\ntypical\\nThompson\\nSampling\\napproac h\\n(in\\ntest). \\n●\\nFirst\\nprize\\nin\\nan\\ninternal\\nHackathon\\nfine-tuning\\na\\nStable\\nDiffusion\\nmodel\\nto\\ngenerate\\ndish\\nimages\\nfrom\\ntext. \\n●\\nBenc hmarking\\nCLIP\\nmodel\\non\\nour\\nreleased\\nFoodi-ML\\nmulti-modal\\ndataset \\n●\\nGained\\nML\\nEngineering\\nskills\\nmastering\\nour\\nin-house\\nML\\nPlatfor m\\narchitecture ,\\nincluding\\nproject\\nsetup\\nwith \\nPoetry,\\nscalable\\ntrainings\\nin\\nArgo\\nWorkflows\\nunder\\nK8s,\\nAPI\\ninferences\\nserving\\nwith\\nFlask,\\nDockerization\\nand \\nECR\\nmanag ement,\\nfull\\nCI/CD\\nlifecycle\\nwith\\nArgo\\nCD,\\nGitOps ,\\nJenkins ,\\nArgo\\nRollouts ,\\netc.\\nBesides ,\\nI\\nalso\\nbuild \\ndeclarati ve\\nData\\nProducts\\nrunning\\nin\\nAirflow,\\nlinking\\nthem\\nto\\nFeature\\nStore\\nfor\\nproduction\\nlow-latency\\nretriev al. \\n●\\nExperience\\nin\\nA/B\\ntest\\nanalysis ,\\nincluding\\ndesign\\non\\nour\\nExperimentation\\nPlatfor m,\\nmetric\\nselection,\\nMDE \\nanalysis ,\\nand\\nresult\\nevaluation\\nusing\\nchi-squared\\ntests,\\nz-tests ,\\nand\\np-value\\ncorrections\\nwith\\nPython\\nlibraries\\nBanc\\nSa badell\\n|\\nData\\nScientist\\nSant\\nCugat\\ndel\\nVallès,\\nSpain\\n|\\n11.2018\\n-\\n07-2020 \\n●\\nYoung\\nTalent\\nprogram\\nfocused\\non\\nData\\nScience\\nwithin\\nthe\\nBank\\n(6\\nmonths\\nrotation\\nto\\ndifferent\\nareas). \\n●\\nDeveloped\\na\\npredicti ve\\nmodel\\noptimizing\\nchannel\\nselection\\nfor\\ndebt\\nrecovery,\\nleveraging\\ndecision\\ntrees\\nto \\nidentify\\noptimal\\ncomm unication\\nstrategies ,\\nwhich\\nimpro ved\\nrecovery\\nrates\\nby\\n5% \\n●\\nCollaborated\\non\\na\\nspending\\ncateg orization\\nmodel\\nthat\\nautomatically\\nclassifies\\ntransactions\\ninto\\nbroad\\ncateg ories \\n●\\nDeveloped\\na\\ntree-based\\nfraud\\ndetection\\nmodel\\nto\\nflag\\nsuspicious\\ntransactions\\nand\\nreduce\\nFalse\\nalarms,\\nreducing \\non\\naverage\\n~60-70%\\nof\\nFalse\\npositi ve\\nalarms,\\nreducing\\nanalysts\\nworkload\\non\\nanalyzing\\nand\\nreporting\\nthem.\\nEY\\n|\\nJunior\\nConsultant\\nat\\nLife-Science\\nteam\\nBarcelona,\\nSpain\\n|\\n07.2018\\n-\\n11.2018\\nIRB/IBEC\\n|\\nMSc\\nInter nships\\nBarcelona,\\nSpain\\n|\\n06.2017\\n-\\n07.2018 \\n●\\n[IRB]\\nDeveloped\\na\\ntarget\\nprediction\\ntool\\nusing\\nSimilarity\\nEnsemble\\nApproac h\\n(SEA)\\nand\\nSiamese\\nNN, \\ninteg rating\\nbioacti vity\\ndata\\nand\\ngene\\nexpression\\nprofiles\\nto\\nenhance\\ndrug-targ et\\ninteraction\\npredictions . \\n●\\n[IBEC]\\nUsed\\nfinite-element\\nmethods\\nto\\ncompute\\nvisco-elastic\\nforces\\nfor\\nbiological\\ntissues\\n.\\nEducation\\nIMF\\nSchool\\n|\\nMaster’ s\\nDegree\\nin\\nBusiness\\nAnalytics\\n&\\nBig\\nData\\nGrade:\\n9.8\\nMadrid,\\nSpain\\n|\\n05.2019\\n-\\n10.2020 \\nUPF/UB\\n|\\nMaster’ s\\nDegree\\nin\\nBioinfor matics\\nfor\\nHealth\\nSciences\\nGrade:\\n9.1\\nBarcelona,\\nSpain\\n|\\n09.2016\\n-\\n06.2018 \\nUPC\\n|\\nBachelor’ s\\nDegree\\nin\\nEngineering\\nPhysics\\nGrade:\\n7.6\\nBarcelona,\\nSpain\\n|\\n09.2012\\n-\\n06.2016'}, vector=None, shard_key=None, order_value=None)]"
      ]
     },
     "execution_count": 95,
     "metadata": {},
     "output_type": "execute_result"
    }
   ],
   "source": [
    "search_results"
   ]
  },
  {
   "cell_type": "code",
   "execution_count": 96,
   "metadata": {},
   "outputs": [],
   "source": [
    "retrieved_record = search_results[0]\n",
    "retrieved_id = retrieved_record.id\n",
    "retrieved_vector = np.array(retrieved_record.vector, dtype=np.float32)"
   ]
  },
  {
   "cell_type": "code",
   "execution_count": 101,
   "metadata": {},
   "outputs": [
    {
     "data": {
      "text/plain": [
       "ScoredPoint(id='0c9a48bd-4eba-47db-84e1-bf97ad6408fc', version=0, score=301.38318, payload={'file_name': 'curriculum_v10.pdf', 'page_number': '1', 'text': 'David\\nAmat\\nSenior\\nData\\nScientist \\n(Glovo)\\nCAT\\n|\\xa0ENG\\n|\\nSPA\\nLocation:\\nBarcelona,\\nSpain\\nDate\\nof\\nbirth:\\n20-04-1994\\nNumber:\\n+(34)-608526629\\ndaolondrizdaolondriz@gmai.com\\nin:\\ndavid-amat-olondriz/\\ngithub:\\nDavidAmat\\nFull\\nStack\\nData\\nScientist\\nwith\\n6+\\nyears\\nof\\nexperience\\nin\\nend-to-end\\nML\\ndevelopment,\\nspecializing\\nin\\nrecommender \\nsystems ,\\ndeep\\nlearning,\\nNLP,\\ncomputer\\nvision,\\nand\\nAI/LLM\\ntechnologies .\\nCurrently\\nleading\\nprojects\\nat\\nGlovo, \\ndriving\\nimpro vements\\nin\\nML\\nplatfor m\\nlifecycle ,\\nfeature\\nengineering,\\nand\\nreal-time\\nAPI\\nserving\\nwith\\na\\nfocus\\non \\nscalable ,\\nproduct-dri ven\\nsolutions .\\nProven\\ntrack\\nrecord\\nof\\ncollaborating\\ncross-functionally\\nwith\\nProduct\\nand \\nBackend\\nteams ,\\ndelivering\\nimpactful\\ndata-dri ven\\nproducts .\\nConstantly\\nadvancing\\nskills\\nin\\nAI/ML\\nsystem\\ndesign\\nand \\nstaying\\nupdated\\nwith\\nstate-of-the-ar t\\ntechnologies .\\nWork\\nexperience\\nGlo vo\\n|\\nSenior\\nData\\nScientist\\nBarcelona,\\nSpain\\n|\\n07.2020\\n-\\nCurrent \\n●\\nLed\\nthe\\ndevelopment\\nand\\noptimization\\nof\\na\\nStock\\nPrediction\\nModel\\n(SPM)\\nfor\\nGroceries ,\\nsignificantly\\nreducing \\nProduct\\nNot\\nAvailable\\n(PNA)\\nmetrics\\nby\\n10-14%,\\nresulting\\nin\\n~€2M\\nannual\\nsavings . \\n●\\nEngineered\\na\\nnew\\nrestaurant\\nrecommender\\nsystem,\\ntransitioning\\nfrom\\ncollaborati ve\\nfiltering\\n(SVD)\\nto\\nan \\nadvanced\\nembedding-based\\nmodel\\nusing\\nWord2V ec,\\nleading\\nto\\na\\n1%\\nabsolute\\nincrease\\nin\\nCVR.\\nInteg rated\\nthe \\nsystem\\nwith\\na\\nlow-latency\\nAPI\\nutilizing\\na\\nFeature\\nStore ,\\nenabling\\nreal-time\\nrecommendations .\\nA/B\\ntest \\nexperiments\\nshowed\\n+0.8M\\nincremental\\norders\\n/\\nyear. \\n●\\nIdeation\\nand\\nproductization\\nof\\nMulti-Ar med\\nBandit\\nframew ork\\nto\\ntailor\\nrecommender\\nwidgets\\nfor\\neach\\nuser \\nuser,\\nusing\\na\\ncustom-made\\napproac h\\niterated\\nfrom\\ntypical\\nThompson\\nSampling\\napproac h\\n(in\\ntest). \\n●\\nFirst\\nprize\\nin\\nan\\ninternal\\nHackathon\\nfine-tuning\\na\\nStable\\nDiffusion\\nmodel\\nto\\ngenerate\\ndish\\nimages\\nfrom\\ntext. \\n●\\nBenc hmarking\\nCLIP\\nmodel\\non\\nour\\nreleased\\nFoodi-ML\\nmulti-modal\\ndataset \\n●\\nGained\\nML\\nEngineering\\nskills\\nmastering\\nour\\nin-house\\nML\\nPlatfor m\\narchitecture ,\\nincluding\\nproject\\nsetup\\nwith \\nPoetry,\\nscalable\\ntrainings\\nin\\nArgo\\nWorkflows\\nunder\\nK8s,\\nAPI\\ninferences\\nserving\\nwith\\nFlask,\\nDockerization\\nand \\nECR\\nmanag ement,\\nfull\\nCI/CD\\nlifecycle\\nwith\\nArgo\\nCD,\\nGitOps ,\\nJenkins ,\\nArgo\\nRollouts ,\\netc.\\nBesides ,\\nI\\nalso\\nbuild \\ndeclarati ve\\nData\\nProducts\\nrunning\\nin\\nAirflow,\\nlinking\\nthem\\nto\\nFeature\\nStore\\nfor\\nproduction\\nlow-latency\\nretriev al. \\n●\\nExperience\\nin\\nA/B\\ntest\\nanalysis ,\\nincluding\\ndesign\\non\\nour\\nExperimentation\\nPlatfor m,\\nmetric\\nselection,\\nMDE \\nanalysis ,\\nand\\nresult\\nevaluation\\nusing\\nchi-squared\\ntests,\\nz-tests ,\\nand\\np-value\\ncorrections\\nwith\\nPython\\nlibraries\\nBanc\\nSa badell\\n|\\nData\\nScientist\\nSant\\nCugat\\ndel\\nVallès,\\nSpain\\n|\\n11.2018\\n-\\n07-2020 \\n●\\nYoung\\nTalent\\nprogram\\nfocused\\non\\nData\\nScience\\nwithin\\nthe\\nBank\\n(6\\nmonths\\nrotation\\nto\\ndifferent\\nareas). \\n●\\nDeveloped\\na\\npredicti ve\\nmodel\\noptimizing\\nchannel\\nselection\\nfor\\ndebt\\nrecovery,\\nleveraging\\ndecision\\ntrees\\nto \\nidentify\\noptimal\\ncomm unication\\nstrategies ,\\nwhich\\nimpro ved\\nrecovery\\nrates\\nby\\n5% \\n●\\nCollaborated\\non\\na\\nspending\\ncateg orization\\nmodel\\nthat\\nautomatically\\nclassifies\\ntransactions\\ninto\\nbroad\\ncateg ories \\n●\\nDeveloped\\na\\ntree-based\\nfraud\\ndetection\\nmodel\\nto\\nflag\\nsuspicious\\ntransactions\\nand\\nreduce\\nFalse\\nalarms,\\nreducing \\non\\naverage\\n~60-70%\\nof\\nFalse\\npositi ve\\nalarms,\\nreducing\\nanalysts\\nworkload\\non\\nanalyzing\\nand\\nreporting\\nthem.\\nEY\\n|\\nJunior\\nConsultant\\nat\\nLife-Science\\nteam\\nBarcelona,\\nSpain\\n|\\n07.2018\\n-\\n11.2018\\nIRB/IBEC\\n|\\nMSc\\nInter nships\\nBarcelona,\\nSpain\\n|\\n06.2017\\n-\\n07.2018 \\n●\\n[IRB]\\nDeveloped\\na\\ntarget\\nprediction\\ntool\\nusing\\nSimilarity\\nEnsemble\\nApproac h\\n(SEA)\\nand\\nSiamese\\nNN, \\ninteg rating\\nbioacti vity\\ndata\\nand\\ngene\\nexpression\\nprofiles\\nto\\nenhance\\ndrug-targ et\\ninteraction\\npredictions . \\n●\\n[IBEC]\\nUsed\\nfinite-element\\nmethods\\nto\\ncompute\\nvisco-elastic\\nforces\\nfor\\nbiological\\ntissues\\n.\\nEducation\\nIMF\\nSchool\\n|\\nMaster’ s\\nDegree\\nin\\nBusiness\\nAnalytics\\n&\\nBig\\nData\\nGrade:\\n9.8\\nMadrid,\\nSpain\\n|\\n05.2019\\n-\\n10.2020 \\nUPF/UB\\n|\\nMaster’ s\\nDegree\\nin\\nBioinfor matics\\nfor\\nHealth\\nSciences\\nGrade:\\n9.1\\nBarcelona,\\nSpain\\n|\\n09.2016\\n-\\n06.2018 \\nUPC\\n|\\nBachelor’ s\\nDegree\\nin\\nEngineering\\nPhysics\\nGrade:\\n7.6\\nBarcelona,\\nSpain\\n|\\n09.2012\\n-\\n06.2016'}, vector=None, shard_key=None, order_value=None)"
      ]
     },
     "execution_count": 101,
     "metadata": {},
     "output_type": "execute_result"
    }
   ],
   "source": [
    "retrieved_record"
   ]
  },
  {
   "cell_type": "code",
   "execution_count": 98,
   "metadata": {},
   "outputs": [
    {
     "data": {
      "text/plain": [
       "True"
      ]
     },
     "execution_count": 98,
     "metadata": {},
     "output_type": "execute_result"
    }
   ],
   "source": [
    "retrieved_id == original_record.id"
   ]
  },
  {
   "cell_type": "code",
   "execution_count": 120,
   "metadata": {},
   "outputs": [
    {
     "data": {
      "text/plain": [
       "'0c9a48bd-4eba-47db-84e1-bf97ad6408fc'"
      ]
     },
     "execution_count": 120,
     "metadata": {},
     "output_type": "execute_result"
    }
   ],
   "source": [
    "original_record.id"
   ]
  },
  {
   "cell_type": "code",
   "execution_count": 102,
   "metadata": {},
   "outputs": [],
   "source": [
    "# Retrieve the vector by ID\n",
    "retrieved_by_id_records = client.retrieve(\n",
    "    collection_name=collection_name,\n",
    "    ids=[retrieved_id],  # Pass the ID(s) you want\n",
    "    with_vectors=True     # Make sure you request vectors\n",
    ")"
   ]
  },
  {
   "cell_type": "code",
   "execution_count": 103,
   "metadata": {},
   "outputs": [
    {
     "data": {
      "text/plain": [
       "[Record(id='0c9a48bd-4eba-47db-84e1-bf97ad6408fc', payload={'file_name': 'curriculum_v10.pdf', 'page_number': '1', 'text': 'David\\nAmat\\nSenior\\nData\\nScientist \\n(Glovo)\\nCAT\\n|\\xa0ENG\\n|\\nSPA\\nLocation:\\nBarcelona,\\nSpain\\nDate\\nof\\nbirth:\\n20-04-1994\\nNumber:\\n+(34)-608526629\\ndaolondrizdaolondriz@gmai.com\\nin:\\ndavid-amat-olondriz/\\ngithub:\\nDavidAmat\\nFull\\nStack\\nData\\nScientist\\nwith\\n6+\\nyears\\nof\\nexperience\\nin\\nend-to-end\\nML\\ndevelopment,\\nspecializing\\nin\\nrecommender \\nsystems ,\\ndeep\\nlearning,\\nNLP,\\ncomputer\\nvision,\\nand\\nAI/LLM\\ntechnologies .\\nCurrently\\nleading\\nprojects\\nat\\nGlovo, \\ndriving\\nimpro vements\\nin\\nML\\nplatfor m\\nlifecycle ,\\nfeature\\nengineering,\\nand\\nreal-time\\nAPI\\nserving\\nwith\\na\\nfocus\\non \\nscalable ,\\nproduct-dri ven\\nsolutions .\\nProven\\ntrack\\nrecord\\nof\\ncollaborating\\ncross-functionally\\nwith\\nProduct\\nand \\nBackend\\nteams ,\\ndelivering\\nimpactful\\ndata-dri ven\\nproducts .\\nConstantly\\nadvancing\\nskills\\nin\\nAI/ML\\nsystem\\ndesign\\nand \\nstaying\\nupdated\\nwith\\nstate-of-the-ar t\\ntechnologies .\\nWork\\nexperience\\nGlo vo\\n|\\nSenior\\nData\\nScientist\\nBarcelona,\\nSpain\\n|\\n07.2020\\n-\\nCurrent \\n●\\nLed\\nthe\\ndevelopment\\nand\\noptimization\\nof\\na\\nStock\\nPrediction\\nModel\\n(SPM)\\nfor\\nGroceries ,\\nsignificantly\\nreducing \\nProduct\\nNot\\nAvailable\\n(PNA)\\nmetrics\\nby\\n10-14%,\\nresulting\\nin\\n~€2M\\nannual\\nsavings . \\n●\\nEngineered\\na\\nnew\\nrestaurant\\nrecommender\\nsystem,\\ntransitioning\\nfrom\\ncollaborati ve\\nfiltering\\n(SVD)\\nto\\nan \\nadvanced\\nembedding-based\\nmodel\\nusing\\nWord2V ec,\\nleading\\nto\\na\\n1%\\nabsolute\\nincrease\\nin\\nCVR.\\nInteg rated\\nthe \\nsystem\\nwith\\na\\nlow-latency\\nAPI\\nutilizing\\na\\nFeature\\nStore ,\\nenabling\\nreal-time\\nrecommendations .\\nA/B\\ntest \\nexperiments\\nshowed\\n+0.8M\\nincremental\\norders\\n/\\nyear. \\n●\\nIdeation\\nand\\nproductization\\nof\\nMulti-Ar med\\nBandit\\nframew ork\\nto\\ntailor\\nrecommender\\nwidgets\\nfor\\neach\\nuser \\nuser,\\nusing\\na\\ncustom-made\\napproac h\\niterated\\nfrom\\ntypical\\nThompson\\nSampling\\napproac h\\n(in\\ntest). \\n●\\nFirst\\nprize\\nin\\nan\\ninternal\\nHackathon\\nfine-tuning\\na\\nStable\\nDiffusion\\nmodel\\nto\\ngenerate\\ndish\\nimages\\nfrom\\ntext. \\n●\\nBenc hmarking\\nCLIP\\nmodel\\non\\nour\\nreleased\\nFoodi-ML\\nmulti-modal\\ndataset \\n●\\nGained\\nML\\nEngineering\\nskills\\nmastering\\nour\\nin-house\\nML\\nPlatfor m\\narchitecture ,\\nincluding\\nproject\\nsetup\\nwith \\nPoetry,\\nscalable\\ntrainings\\nin\\nArgo\\nWorkflows\\nunder\\nK8s,\\nAPI\\ninferences\\nserving\\nwith\\nFlask,\\nDockerization\\nand \\nECR\\nmanag ement,\\nfull\\nCI/CD\\nlifecycle\\nwith\\nArgo\\nCD,\\nGitOps ,\\nJenkins ,\\nArgo\\nRollouts ,\\netc.\\nBesides ,\\nI\\nalso\\nbuild \\ndeclarati ve\\nData\\nProducts\\nrunning\\nin\\nAirflow,\\nlinking\\nthem\\nto\\nFeature\\nStore\\nfor\\nproduction\\nlow-latency\\nretriev al. \\n●\\nExperience\\nin\\nA/B\\ntest\\nanalysis ,\\nincluding\\ndesign\\non\\nour\\nExperimentation\\nPlatfor m,\\nmetric\\nselection,\\nMDE \\nanalysis ,\\nand\\nresult\\nevaluation\\nusing\\nchi-squared\\ntests,\\nz-tests ,\\nand\\np-value\\ncorrections\\nwith\\nPython\\nlibraries\\nBanc\\nSa badell\\n|\\nData\\nScientist\\nSant\\nCugat\\ndel\\nVallès,\\nSpain\\n|\\n11.2018\\n-\\n07-2020 \\n●\\nYoung\\nTalent\\nprogram\\nfocused\\non\\nData\\nScience\\nwithin\\nthe\\nBank\\n(6\\nmonths\\nrotation\\nto\\ndifferent\\nareas). \\n●\\nDeveloped\\na\\npredicti ve\\nmodel\\noptimizing\\nchannel\\nselection\\nfor\\ndebt\\nrecovery,\\nleveraging\\ndecision\\ntrees\\nto \\nidentify\\noptimal\\ncomm unication\\nstrategies ,\\nwhich\\nimpro ved\\nrecovery\\nrates\\nby\\n5% \\n●\\nCollaborated\\non\\na\\nspending\\ncateg orization\\nmodel\\nthat\\nautomatically\\nclassifies\\ntransactions\\ninto\\nbroad\\ncateg ories \\n●\\nDeveloped\\na\\ntree-based\\nfraud\\ndetection\\nmodel\\nto\\nflag\\nsuspicious\\ntransactions\\nand\\nreduce\\nFalse\\nalarms,\\nreducing \\non\\naverage\\n~60-70%\\nof\\nFalse\\npositi ve\\nalarms,\\nreducing\\nanalysts\\nworkload\\non\\nanalyzing\\nand\\nreporting\\nthem.\\nEY\\n|\\nJunior\\nConsultant\\nat\\nLife-Science\\nteam\\nBarcelona,\\nSpain\\n|\\n07.2018\\n-\\n11.2018\\nIRB/IBEC\\n|\\nMSc\\nInter nships\\nBarcelona,\\nSpain\\n|\\n06.2017\\n-\\n07.2018 \\n●\\n[IRB]\\nDeveloped\\na\\ntarget\\nprediction\\ntool\\nusing\\nSimilarity\\nEnsemble\\nApproac h\\n(SEA)\\nand\\nSiamese\\nNN, \\ninteg rating\\nbioacti vity\\ndata\\nand\\ngene\\nexpression\\nprofiles\\nto\\nenhance\\ndrug-targ et\\ninteraction\\npredictions . \\n●\\n[IBEC]\\nUsed\\nfinite-element\\nmethods\\nto\\ncompute\\nvisco-elastic\\nforces\\nfor\\nbiological\\ntissues\\n.\\nEducation\\nIMF\\nSchool\\n|\\nMaster’ s\\nDegree\\nin\\nBusiness\\nAnalytics\\n&\\nBig\\nData\\nGrade:\\n9.8\\nMadrid,\\nSpain\\n|\\n05.2019\\n-\\n10.2020 \\nUPF/UB\\n|\\nMaster’ s\\nDegree\\nin\\nBioinfor matics\\nfor\\nHealth\\nSciences\\nGrade:\\n9.1\\nBarcelona,\\nSpain\\n|\\n09.2016\\n-\\n06.2018 \\nUPC\\n|\\nBachelor’ s\\nDegree\\nin\\nEngineering\\nPhysics\\nGrade:\\n7.6\\nBarcelona,\\nSpain\\n|\\n09.2012\\n-\\n06.2016'}, vector=[-0.15329383, 1.4898468, -3.332744, -0.078527756, 1.1423025, 0.31414035, 0.5076507, -0.3677959, -0.47170538, -0.37724313, -0.5949493, 0.6711028, 2.3572655, -0.8321366, -0.35050184, 0.3458341, -0.060986973, -0.52709967, -0.8831297, -0.09142202, -0.47986728, -1.0796372, 0.3696203, -1.047998, 1.1452012, 0.8875899, -0.69255894, 0.41662264, -0.45197707, 0.12769608, 0.6393927, 0.32053518, -0.6935109, 0.23586442, -0.35369462, -0.17752303, 0.9467268, 0.51109445, 0.27009517, 0.34436047, 0.6144788, 0.3321454, 0.36744013, -0.5401491, 0.34063917, -0.065246835, 0.0947327, -0.34031072, -0.11859132, -1.077031, 0.34424025, 0.35545486, 0.38822028, 0.66095144, 0.5797278, -0.5287083, -0.96867925, 0.59621006, -0.11368056, -1.3619539, 1.8465512, 1.0751842, -0.6119355, 1.3728194, 0.45398968, -0.5834009, -0.7765449, 0.32594207, 0.2510132, -0.95804304, 0.40151495, -0.15523767, 0.6232233, 0.72150385, -0.47554758, 0.21824129, -0.4579841, -0.48663154, -0.31517202, 0.81006235, 0.70788103, 0.22467838, 1.0294118, -0.4250292, 0.030691147, -0.69598275, -0.17462692, -0.23411368, 0.035675496, 1.2762839, 0.06294833, 0.88707185, 0.6718231, 0.8264936, -0.77082497, 0.063343704, -0.27449492, -0.82504326, -0.35483816, -0.40412796, -0.48647884, -0.5692631, -0.108087316, 0.7017489, 0.8695965, 0.698597, 0.477394, -0.7238727, 0.11682788, -0.24902302, -0.89535564, -0.042030368, -0.7957115, -0.6256242, -0.43234912, 0.17561689, 0.6375066, -0.5506239, -0.06763247, 0.28888193, 0.6272309, -0.27966544, -0.38438573, 0.8202572, -0.24702346, 0.55291003, -1.1021804, 0.5067946, -0.51148397, 0.2480587, -0.11233713, -0.63591695, -0.53189516, -0.13524684, 0.30104503, 0.80227935, -0.54546195, -0.2931016, 1.1492063, 0.14958093, -0.09123002, 0.2729724, -0.01416959, 0.3496394, -0.32519275, -0.81088394, 0.5844395, 0.06190684, -1.088564, -0.22497514, 0.24060401, 0.7130822, 0.07304638, -0.08814078, 0.4517988, -0.8868051, -0.89817816, 0.91271424, 0.22172578, 0.5257286, 0.5570437, 0.30870232, -0.6081347, 0.47290492, 0.1694335, -0.38840735, 0.65227574, 0.8040716, 0.16975322, 1.7183908, -0.87786984, -0.57859224, 0.39619735, -0.4140133, 0.8411562, -0.16265045, -0.42031357, -0.66724616, 0.9377836, -0.5304251, 1.1797291, -1.1186959, 0.7664459, 0.15065843, -0.31101382, -0.3609111, 0.47830087, -0.3786398, -0.5500773, -0.83536965, 0.6263464, 0.6848839, -1.1775831, -0.33845183, -0.94736135, -0.05570531, 1.038442, -0.56193, 0.00723556, -0.006356822, -1.1460166, -0.3981429, -0.66277295, 0.44429654, -0.39086828, 0.5462202, 0.37234706, 0.6110686, -0.16327848, 0.6054832, 0.52904654, -0.09856297, -0.14915365, -0.47135738, -0.013956062, -0.15782543, 0.13558835, -0.4480308, -0.24822928, 0.46621856, 0.43931857, -0.117949694, 0.25746834, 0.7997362, -0.040311452, -0.71125793, -0.43888777, -0.18090504, -0.76659197, -0.37033013, 0.030341223, -0.19932699, 1.7241918, 0.215016, 1.2067015, 0.82628363, 0.19523676, 0.30433646, -0.15807296, 0.44935066, -0.13693199, 0.85416657, -1.2575878, -0.33575252, -0.65059406, -0.39733168, -0.11657236, 0.011764554, 0.33358034, 0.51041025, 0.08676547, 0.31337252, 0.6701178, 0.4540256, 0.42095894, -0.11752772, -0.66888607, 0.6797672, 0.426291, 0.28477195, 0.89351135, -0.47917685, 0.5247649, -0.7575549, 0.7394239, -0.31578055, -0.73056495, -0.21887353, 0.06687512, 0.10886826, 0.67011017, 0.31026363, 0.090640835, 0.1712822, -0.3452598, 0.79471993, -0.14275843, -0.53194004, 0.09494063, 0.16223723, -0.6776981, -1.2932203, -1.0949959, -0.327648, -0.5638214, 0.8941687, 0.95950353, 0.35911947, 0.19569856, -0.81662637, 1.0999256, -0.16142195, -0.07593414, 0.33130315, -0.43079874, 0.17122288, 0.16597877, -0.06312479, 0.5662969, -0.92681587, 0.6596382, 0.09305828, 0.9054062, 0.49667835, 0.1607451, -0.36408627, -0.3899338, -0.5341438, -0.11072909, -0.21200174, -0.29193342, -0.16122504, -0.24620034, -0.24839813, 0.06386514, 0.18552661, 0.25714782, -0.16665871, 0.49583283, -0.16864356, 0.7335825, -1.5066321, -0.6373456, -1.2296038, 0.10520356, 1.540555, 0.3094756, 0.820652, -0.18596572, 0.026319487, 0.26668996, 0.22511822, 0.3991632, -0.7369586, -0.43188924, 0.6328873, -0.27847525, 0.45843533, 0.13399056, 0.7219276, 0.24591196, -0.10651981, 0.11509837, -0.85687566, -0.25021964, 0.01033555, -0.16199496, -0.4309142, 0.6521461, 0.7830556, 0.020078417, 0.27329198, 0.26923138, 0.5644556, 0.4696773, -0.33352375, 0.8610664, 0.4176859, 0.41438198, -0.9030913, 0.4219687, 0.46542943, -0.4299744, 0.1491085, -0.08099872, 0.13128188, 1.7269715, 0.01316201, 0.07789563, -0.0945366, 0.24598478, -0.27663058, 0.12068488, 0.6808294, 0.17047916, -0.05069475, -1.2252085, 0.1364186, -0.44374272, 0.23745346, 0.54314375, 0.26444256, -0.22686891, -0.3424752, 0.5382788, -0.5266122, -0.0037047984, -0.66630137, 0.3691478, -0.63094556, 0.2588555, -0.062726215, -0.48218337, -0.54442245, 0.38620666, -0.64460385, 0.54378045, 0.85234004, 0.20728013, 0.9968539, -1.1476249, -1.2317919, 0.40211773, -0.1907338, -0.9688583, 0.033830285, -1.3362927, -0.2684775, 0.12902752, 0.04495289, -0.1589906, 0.80485946, 0.08999137, -1.002435, 1.0916157, 0.13137908, 0.3457622, -0.25413403, -0.8787418, -0.38923207, 1.3368949, 0.25512728, -0.3843799, -0.5701819, 0.23418032, 0.26311848, 0.79605657, 0.050558295, 0.025659129, -0.3784868, 1.0787855, 0.4135336, -0.08982372, -0.13431516, -0.12756449, -0.104381874, 0.79338557, 0.39919135, 0.010735559, 0.7545624, 0.06095429, -0.50506014, -0.03945379, -0.5246397, 0.46283555, 0.62528884, 0.7475858, -0.87260044, -0.21046601, 1.820435, -0.036206327, 0.42279866, 0.58805156, 0.435875, 1.1177104, -0.03203504, 0.94536746, -0.7150535, -0.065276355, -0.04807238, -0.14591819, 0.22104193, -1.3692313, 0.20783632, 0.71920997, -0.19486503, -0.43635046, -0.7113904, 0.5079677, 0.8705508, -1.0776047, 0.69779176, -0.054532494, -0.5578647, -1.0641806, 0.2880375, -0.065297686, -0.08023713, -0.026460392, 0.8056806, 0.5911543, -0.5328272, -0.65988755, -0.9018319, 0.0049209907, 0.6945932, 0.8354692, -0.9910924, -0.2925438, -0.19686547, -0.048942786, -0.24851315, 1.0146811, -1.0834047, -1.1644624, 0.18708931, -0.9385704, -0.0696091, 0.9524492, -0.79659325, -1.084079, 0.7389861, -0.13390175, -0.8091879, 0.436643, 0.10091763, 0.7443589, -0.6213315, -0.059150077, 0.18917607, -0.13212927, 0.6591239, -0.0015432349, 0.9980746, 0.5857496, -0.18693382, 0.6481303, 0.6895013, -0.3381175, 0.05537902, 0.040957168, -0.7097815, 0.6036505, -0.12796474, -0.5729551, 0.16676939, -0.042729694, -1.3262962, 1.1320361, -0.005078967, -0.2718453, 0.32872555, -0.7907727, -0.4373824, -0.80974424, 0.4676233, -0.23412253, 0.34566697, 1.2322162, 0.62429124, 0.68004763, 0.3146455, 0.70819485, -0.16390945, 0.033404734, -0.41509703, 0.07830839, -0.028970387, 0.4909023, -1.1017609, 0.21257958, -1.0377301, 0.56497425, -0.20044774, 0.82964367, -0.31840074, -0.28990886, -0.2668354, -0.72735107, -0.7223026, -0.5829002, -0.2400305, 1.1480203, -0.3883004, -0.8265541, -0.06354478, 0.08115249, -0.1666655, 0.34950063, 0.0682313, 0.60930383, -1.6566371, -0.51231956, -0.2877363, 0.24958815, 0.24494632, 1.3197247, -0.17058435, -1.4061109, -1.4492247, 0.59086615, -0.81681055, 0.8556879, 0.75222456, 0.0691671, 0.33881295, -1.2976894, -0.5866977, -0.8729419, -1.0825614, 0.012600199, -0.23248787, 0.46942025, -0.69951886, -0.392432, -0.9150671, 0.43066317, -0.5057209, -0.8989599, -0.478693, -0.7180865, 0.07480059, 1.0981574, -0.35558426, -0.6091522, 0.7265292, -0.26083168, 0.942494, -0.28362367, -0.13777113, 0.25628465, -0.5042931, -0.6930859, 0.28689668, 0.22631729, -0.23660117, 0.49490634, 0.06687238, -0.12577315, -0.24069308, -0.58737844, -0.69663215, 0.10720757, -0.2565623, -0.52899796, -0.71666723, -0.7421148, -0.98275167, 0.21629357, 0.7444598, -0.4991432, 0.23880464, -0.43239778, -0.4199728, -0.8265306, -0.0711231, -0.35072947, 0.502952, 0.17044419, 1.094459, 0.45874482, -0.6440115, -0.7898527, 1.0033258, 0.7125409, -0.34817424, 0.4222505, 1.1019018, 0.3691407, 0.45470074, 1.2917037, 0.60022575, 0.72960156, -0.35369062, 0.4080531, -0.15370023, 0.14118978, 0.2015015, -0.34849602, -0.0394033, -0.32962567, 0.22876327, -0.41349727, -0.42618442, 0.5987685, 0.4453203, 0.5074801, -0.43243688, -1.6013485, -1.5487127, 0.6533888, 0.50608253, -0.48975873, -0.37444037, 0.006228244, 0.27953467, 0.62801766, 0.48503205, -0.5295221, -0.014374202, 0.45301268, 0.57066685, 0.410806, -0.70117074, -0.3278735, -0.9876275, 0.3095543, -0.05153545, 0.30295408, 0.24450348, -0.5301349, -1.0692627, -0.17172621, -0.05209429, 0.16102779, 0.20084254, -0.08936254, 0.3006575, -0.17062151, 1.4323139, -0.0693739, 0.33536035, 0.2625162, 0.34775373, -0.44353804, 0.40501368, 0.2163221, -0.67656153, 0.51564634, -0.32762036, -0.4878455, 0.5542189, -0.8121221, 0.6124735, 1.125565, 0.65744287, -0.65145344, -0.33293745, -0.28595647, 0.23924679, 1.3077749, -0.5733765, -0.36170653, -0.40528673, 0.36044556, 0.06448644, 0.015003295, -0.7535251, -0.23606458, -0.56154424, 0.17241152, -0.3689043, -1.3799629, 0.98925936, -0.20872405, 0.3293309, -0.22701828, 0.117636696, -0.46587804, -0.5508987, -1.1555988, 0.20787288, 0.20049, -0.052115854, 0.1551575, -0.37924474, -0.52029234, 0.31008875, -0.069434784, -0.5876416, 0.4522498, -0.59792286, -0.5456229, 0.14260489, -0.18680556, -0.02926597, 0.5690841, 0.48797727, 2.0078375, 0.6110939, 0.3814375, -1.2574096, 0.87419724, 0.6280904, -0.70258087, -0.27018315, -0.12982476, -0.08849343], shard_key=None, order_value=None)]"
      ]
     },
     "execution_count": 103,
     "metadata": {},
     "output_type": "execute_result"
    }
   ],
   "source": [
    "retrieved_by_id_records"
   ]
  },
  {
   "cell_type": "code",
   "execution_count": 107,
   "metadata": {},
   "outputs": [
    {
     "data": {
      "text/plain": [
       "array([-0.15329383,  1.4898468 , -3.332744  ], dtype=float32)"
      ]
     },
     "execution_count": 107,
     "metadata": {},
     "output_type": "execute_result"
    }
   ],
   "source": [
    "np.array(retrieved_by_id_records[0].vector, dtype=np.float32)[:3]"
   ]
  },
  {
   "cell_type": "code",
   "execution_count": 106,
   "metadata": {},
   "outputs": [
    {
     "data": {
      "text/plain": [
       "array([-0.15329383,  1.4898468 , -3.332744  ], dtype=float32)"
      ]
     },
     "execution_count": 106,
     "metadata": {},
     "output_type": "execute_result"
    }
   ],
   "source": [
    "original_vector[:3]"
   ]
  },
  {
   "cell_type": "markdown",
   "metadata": {},
   "source": [
    "# Retriever"
   ]
  },
  {
   "cell_type": "markdown",
   "metadata": {},
   "source": [
    "Quantization in Qdrant refers to the process of approximating or compressing vector representations to reduce memory and computational requirements during vector search."
   ]
  },
  {
   "cell_type": "code",
   "execution_count": 11,
   "metadata": {},
   "outputs": [],
   "source": [
    "from qdrant_client import models"
   ]
  },
  {
   "cell_type": "code",
   "execution_count": 12,
   "metadata": {},
   "outputs": [],
   "source": [
    "search_params = models.SearchParams(\n",
    "    quantization=models.QuantizationSearchParams(\n",
    "        ignore=True,\n",
    "        rescore=True,\n",
    "        oversampling=2.0,\n",
    "    )\n",
    "),"
   ]
  },
  {
   "cell_type": "code",
   "execution_count": 13,
   "metadata": {},
   "outputs": [
    {
     "data": {
      "text/plain": [
       "(SearchParams(hnsw_ef=None, exact=False, quantization=QuantizationSearchParams(ignore=True, rescore=True, oversampling=2.0), indexed_only=False),)"
      ]
     },
     "execution_count": 13,
     "metadata": {},
     "output_type": "execute_result"
    }
   ],
   "source": [
    "search_params"
   ]
  },
  {
   "cell_type": "code",
   "execution_count": 14,
   "metadata": {},
   "outputs": [],
   "source": [
    "quant = models.QuantizationSearchParams(\n",
    "        ignore=True,\n",
    "        rescore=True,\n",
    "        oversampling=2.0,\n",
    "    )"
   ]
  },
  {
   "cell_type": "code",
   "execution_count": 15,
   "metadata": {},
   "outputs": [
    {
     "data": {
      "text/plain": [
       "QuantizationSearchParams(ignore=True, rescore=True, oversampling=2.0)"
      ]
     },
     "execution_count": 15,
     "metadata": {},
     "output_type": "execute_result"
    }
   ],
   "source": [
    "quant"
   ]
  },
  {
   "cell_type": "code",
   "execution_count": 114,
   "metadata": {},
   "outputs": [],
   "source": [
    "collection_info = client.get_collection(collection_name=collection_name)\n"
   ]
  },
  {
   "cell_type": "code",
   "execution_count": 116,
   "metadata": {},
   "outputs": [
    {
     "name": "stdout",
     "output_type": "stream",
     "text": [
      "vectors=VectorParams(size=768, distance=<Distance.DOT: 'Dot'>, hnsw_config=None, quantization_config=None, on_disk=True, datatype=None, multivector_config=None) shard_number=1 sharding_method=None replication_factor=1 write_consistency_factor=1 read_fan_out_factor=None on_disk_payload=True sparse_vectors=None\n"
     ]
    }
   ],
   "source": [
    "print(collection_info.config.params)\n"
   ]
  },
  {
   "cell_type": "code",
   "execution_count": 118,
   "metadata": {},
   "outputs": [],
   "source": [
    "result = client.search(\n",
    "    collection_name=collection_name,\n",
    "    query_vector=noisy_vector.tolist(),\n",
    "    search_params=models.SearchParams(\n",
    "        quantization=models.QuantizationSearchParams(\n",
    "            ignore=True,\n",
    "            rescore=True,\n",
    "            oversampling=2.0,\n",
    "        )\n",
    "    ),\n",
    "    timeout=1000,\n",
    ")"
   ]
  },
  {
   "cell_type": "code",
   "execution_count": 119,
   "metadata": {},
   "outputs": [
    {
     "data": {
      "text/plain": [
       "[ScoredPoint(id='0c9a48bd-4eba-47db-84e1-bf97ad6408fc', version=0, score=301.38318, payload={'file_name': 'curriculum_v10.pdf', 'page_number': '1', 'text': 'David\\nAmat\\nSenior\\nData\\nScientist \\n(Glovo)\\nCAT\\n|\\xa0ENG\\n|\\nSPA\\nLocation:\\nBarcelona,\\nSpain\\nDate\\nof\\nbirth:\\n20-04-1994\\nNumber:\\n+(34)-608526629\\ndaolondrizdaolondriz@gmai.com\\nin:\\ndavid-amat-olondriz/\\ngithub:\\nDavidAmat\\nFull\\nStack\\nData\\nScientist\\nwith\\n6+\\nyears\\nof\\nexperience\\nin\\nend-to-end\\nML\\ndevelopment,\\nspecializing\\nin\\nrecommender \\nsystems ,\\ndeep\\nlearning,\\nNLP,\\ncomputer\\nvision,\\nand\\nAI/LLM\\ntechnologies .\\nCurrently\\nleading\\nprojects\\nat\\nGlovo, \\ndriving\\nimpro vements\\nin\\nML\\nplatfor m\\nlifecycle ,\\nfeature\\nengineering,\\nand\\nreal-time\\nAPI\\nserving\\nwith\\na\\nfocus\\non \\nscalable ,\\nproduct-dri ven\\nsolutions .\\nProven\\ntrack\\nrecord\\nof\\ncollaborating\\ncross-functionally\\nwith\\nProduct\\nand \\nBackend\\nteams ,\\ndelivering\\nimpactful\\ndata-dri ven\\nproducts .\\nConstantly\\nadvancing\\nskills\\nin\\nAI/ML\\nsystem\\ndesign\\nand \\nstaying\\nupdated\\nwith\\nstate-of-the-ar t\\ntechnologies .\\nWork\\nexperience\\nGlo vo\\n|\\nSenior\\nData\\nScientist\\nBarcelona,\\nSpain\\n|\\n07.2020\\n-\\nCurrent \\n●\\nLed\\nthe\\ndevelopment\\nand\\noptimization\\nof\\na\\nStock\\nPrediction\\nModel\\n(SPM)\\nfor\\nGroceries ,\\nsignificantly\\nreducing \\nProduct\\nNot\\nAvailable\\n(PNA)\\nmetrics\\nby\\n10-14%,\\nresulting\\nin\\n~€2M\\nannual\\nsavings . \\n●\\nEngineered\\na\\nnew\\nrestaurant\\nrecommender\\nsystem,\\ntransitioning\\nfrom\\ncollaborati ve\\nfiltering\\n(SVD)\\nto\\nan \\nadvanced\\nembedding-based\\nmodel\\nusing\\nWord2V ec,\\nleading\\nto\\na\\n1%\\nabsolute\\nincrease\\nin\\nCVR.\\nInteg rated\\nthe \\nsystem\\nwith\\na\\nlow-latency\\nAPI\\nutilizing\\na\\nFeature\\nStore ,\\nenabling\\nreal-time\\nrecommendations .\\nA/B\\ntest \\nexperiments\\nshowed\\n+0.8M\\nincremental\\norders\\n/\\nyear. \\n●\\nIdeation\\nand\\nproductization\\nof\\nMulti-Ar med\\nBandit\\nframew ork\\nto\\ntailor\\nrecommender\\nwidgets\\nfor\\neach\\nuser \\nuser,\\nusing\\na\\ncustom-made\\napproac h\\niterated\\nfrom\\ntypical\\nThompson\\nSampling\\napproac h\\n(in\\ntest). \\n●\\nFirst\\nprize\\nin\\nan\\ninternal\\nHackathon\\nfine-tuning\\na\\nStable\\nDiffusion\\nmodel\\nto\\ngenerate\\ndish\\nimages\\nfrom\\ntext. \\n●\\nBenc hmarking\\nCLIP\\nmodel\\non\\nour\\nreleased\\nFoodi-ML\\nmulti-modal\\ndataset \\n●\\nGained\\nML\\nEngineering\\nskills\\nmastering\\nour\\nin-house\\nML\\nPlatfor m\\narchitecture ,\\nincluding\\nproject\\nsetup\\nwith \\nPoetry,\\nscalable\\ntrainings\\nin\\nArgo\\nWorkflows\\nunder\\nK8s,\\nAPI\\ninferences\\nserving\\nwith\\nFlask,\\nDockerization\\nand \\nECR\\nmanag ement,\\nfull\\nCI/CD\\nlifecycle\\nwith\\nArgo\\nCD,\\nGitOps ,\\nJenkins ,\\nArgo\\nRollouts ,\\netc.\\nBesides ,\\nI\\nalso\\nbuild \\ndeclarati ve\\nData\\nProducts\\nrunning\\nin\\nAirflow,\\nlinking\\nthem\\nto\\nFeature\\nStore\\nfor\\nproduction\\nlow-latency\\nretriev al. \\n●\\nExperience\\nin\\nA/B\\ntest\\nanalysis ,\\nincluding\\ndesign\\non\\nour\\nExperimentation\\nPlatfor m,\\nmetric\\nselection,\\nMDE \\nanalysis ,\\nand\\nresult\\nevaluation\\nusing\\nchi-squared\\ntests,\\nz-tests ,\\nand\\np-value\\ncorrections\\nwith\\nPython\\nlibraries\\nBanc\\nSa badell\\n|\\nData\\nScientist\\nSant\\nCugat\\ndel\\nVallès,\\nSpain\\n|\\n11.2018\\n-\\n07-2020 \\n●\\nYoung\\nTalent\\nprogram\\nfocused\\non\\nData\\nScience\\nwithin\\nthe\\nBank\\n(6\\nmonths\\nrotation\\nto\\ndifferent\\nareas). \\n●\\nDeveloped\\na\\npredicti ve\\nmodel\\noptimizing\\nchannel\\nselection\\nfor\\ndebt\\nrecovery,\\nleveraging\\ndecision\\ntrees\\nto \\nidentify\\noptimal\\ncomm unication\\nstrategies ,\\nwhich\\nimpro ved\\nrecovery\\nrates\\nby\\n5% \\n●\\nCollaborated\\non\\na\\nspending\\ncateg orization\\nmodel\\nthat\\nautomatically\\nclassifies\\ntransactions\\ninto\\nbroad\\ncateg ories \\n●\\nDeveloped\\na\\ntree-based\\nfraud\\ndetection\\nmodel\\nto\\nflag\\nsuspicious\\ntransactions\\nand\\nreduce\\nFalse\\nalarms,\\nreducing \\non\\naverage\\n~60-70%\\nof\\nFalse\\npositi ve\\nalarms,\\nreducing\\nanalysts\\nworkload\\non\\nanalyzing\\nand\\nreporting\\nthem.\\nEY\\n|\\nJunior\\nConsultant\\nat\\nLife-Science\\nteam\\nBarcelona,\\nSpain\\n|\\n07.2018\\n-\\n11.2018\\nIRB/IBEC\\n|\\nMSc\\nInter nships\\nBarcelona,\\nSpain\\n|\\n06.2017\\n-\\n07.2018 \\n●\\n[IRB]\\nDeveloped\\na\\ntarget\\nprediction\\ntool\\nusing\\nSimilarity\\nEnsemble\\nApproac h\\n(SEA)\\nand\\nSiamese\\nNN, \\ninteg rating\\nbioacti vity\\ndata\\nand\\ngene\\nexpression\\nprofiles\\nto\\nenhance\\ndrug-targ et\\ninteraction\\npredictions . \\n●\\n[IBEC]\\nUsed\\nfinite-element\\nmethods\\nto\\ncompute\\nvisco-elastic\\nforces\\nfor\\nbiological\\ntissues\\n.\\nEducation\\nIMF\\nSchool\\n|\\nMaster’ s\\nDegree\\nin\\nBusiness\\nAnalytics\\n&\\nBig\\nData\\nGrade:\\n9.8\\nMadrid,\\nSpain\\n|\\n05.2019\\n-\\n10.2020 \\nUPF/UB\\n|\\nMaster’ s\\nDegree\\nin\\nBioinfor matics\\nfor\\nHealth\\nSciences\\nGrade:\\n9.1\\nBarcelona,\\nSpain\\n|\\n09.2016\\n-\\n06.2018 \\nUPC\\n|\\nBachelor’ s\\nDegree\\nin\\nEngineering\\nPhysics\\nGrade:\\n7.6\\nBarcelona,\\nSpain\\n|\\n09.2012\\n-\\n06.2016'}, vector=None, shard_key=None, order_value=None),\n",
       " ScoredPoint(id='da9c3221-1ae8-4632-888e-033d9ed9ceb4', version=0, score=222.24664, payload={'file_name': 'curriculum_v10.pdf', 'page_number': '2', 'text': 'Pr ofessional\\nDev elopment\\nContin uously\\ndeveloping\\nexper tise\\nin\\nAI/ML\\nthrough\\ncourses\\non\\nLLMOps ,\\nNLP,\\nand\\nBig\\nData\\ntechnologies , \\nincluding\\nhands-on\\nexperience\\nwith\\ncloud\\nplatfor ms\\nlike\\nAWS.\\nMOOCs:\\nLLMOps\\n&\\nML\\nDeployment:\\nUdemy\\n|\\nCurrent \\nNLP\\nSpecialization\\nCoursera\\n|\\n01-2022 \\nDeployment\\nof\\nML\\nmodels\\nUdemy\\n|\\n12-2020 \\nNeo4J\\nIntr oduction\\nNeo4j\\n|\\n06-2020 \\nPlotl y/Dash\\ndashboards\\nUdemy\\n|\\n02-2020 \\nBig\\nData\\nSpecialization\\nCoursera\\n|\\n03-2019 \\nMathematical\\nBiostatistics\\nCoursera\\n|\\n05-2021\\nBooks:\\nHands-On\\nGenerati ve\\nAI\\nO’Reilly\\n|\\nCurrent \\nHands-On\\nGraph\\nNN\\nO’Reilly\\n|\\n01-2023 \\nNLP\\nwith\\nTransf ormer s\\nO’Reilly\\n|\\n07-2022 \\nApplied\\nrecsys\\nwith\\nPython\\nO’Reilly\\n|\\n01-2022 \\nDeep\\nRL\\nHands-On\\nO’Reilly\\n|\\n12-2021 \\nHands-On\\nExplaina ble\\nAI\\n(XAI)\\nO’Reilly\\n|\\n07-2021 \\nBay esian\\nAnal ysis\\nwith\\nPython\\nO’Reilly\\n|\\n03-2021\\nPublications\\no\\nFooDI-ML:\\na\\nlarge\\nmulti-languag e\\ndataset\\nof\\nfood,\\ndrinks\\nand\\ngroceries\\nimages\\nand\\ndescriptions\\n|\\narXiv\\n-\\n2021\\no\\nExtending\\nthe\\nsmall-molecule\\nsimilarity\\nprinciple\\nto\\nall\\nlevels\\nof\\nbiolog y\\n|\\nNat\\nBiotechnol\\n-\\n2020\\no\\nComputation\\nof\\nforces\\nfrom\\ndefor med\\nvisco-elastic\\nbiological\\ntissues\\n|\\nInverse\\nProblems\\n-\\n2018\\no\\nPendulum\\ndynamics\\nin\\nan\\namusement\\npark\\n|\\nEuropean\\nJounral\\nof\\nPhysics\\n-\\n2017\\nPr ojects\\no\\n2048\\n:\\ndeveloped\\nin\\nPython\\na\\nclone\\nof\\nthe\\n2048\\ngame\\nand\\nused\\nREINFOR CE\\nto\\nplay\\nthe\\ngame\\noptimally\\no\\nFoodi-ml\\n:\\ntraining\\nimage-text\\nalignment\\nmodel\\n(ADAPT)\\nfor\\nFooDI-ML\\ndataset\\no\\nSoccer -Star s\\nDjango\\nWebapp:\\nclone\\nthe\\nmobile\\ngame\\nSoccer\\nStars\\nwith\\na\\nReact\\napp\\nusing\\nDjang o\\nas\\nBackend\\nto\\ncompute\\ncollisions\\nand\\ntrajectories \\no\\nFitcheck\\nAI:\\nbuild\\na\\nDjang o\\nBackend\\nconnecting\\nto\\nOpenAI\\nAPI\\nto\\nask\\nGPT -4o\\nfor\\nratings\\non\\nyour\\noutfit\\nimage\\no\\nPortfolio:\\nbuilding\\nmy\\nown\\nweb\\napp\\nportfolio\\nin\\nNext.js\\n/\\nReact\\n/\\nTailwind\\nCSS,\\netc.\\n(In\\nProgress)\\no\\nPDF\\nSearch\\nLLM\\nRAG:\\nbuilding\\na\\nlocal\\nPDF\\nsummarizer\\nwith\\nSentence\\nTransfor mers,\\nOpenSearc h\\nas\\nVector\\nDatabase ,\\nMistral\\nfine-tuning\\nwith\\nLoRA\\non\\nquestion/answ ers\\ndataset\\ngenerated\\nby\\nGPT -4o,\\nand\\nserving\\nit\\nas\\na \\nStreamlit\\napp\\nthat\\nuses\\nRAG\\nfrom\\nthe\\nembedded\\nPDFs .\\n(In\\nProgress) \\no\\nBuild\\nyour\\nown\\nMLP:\\nbuilding\\na\\nMedium\\npost\\nto\\nguide\\non\\nthe\\nset\\nup\\nof\\na\\nlocal\\nK8s\\ncluster\\nwith\\nK3d,\\nwith\\nArgo\\ninstalled\\nto\\nleverage\\nyour\\ncomputer\\nas\\na\\ncompute\\nserver\\nusing\\nArgo\\nWorkflows\\nand\\nRollouts\\nfor\\nthe\\nAPI\\n(In\\nProgress)\\nSkills\\nPr ogramming\\nLangua ges\\n:\\nPython\\n|\\nR\\n|\\nSQL \\nWeb/Back end\\nDev elopment:\\nDjang o\\n|\\nFlask\\n|\\nReact \\nMachine\\nLear ning\\n&\\nAI:\\nNLP\\n|\\nComputer\\nVision\\n|\\nPyTorch\\n|\\nHuggingF ace\\n|\\nTransfor mers\\n|\\nGenerati ve\\nAI\\n| \\nMulti-Ar med\\nBandit\\n|\\nREINFOR CE\\n|\\nCollaborati ve\\nFiltering\\n|\\nWord2V ec\\n|\\nGraph\\nNN\\n|\\nBayesian\\nInference\\n| \\nRAG \\nData\\nEngineering\\n&\\nMLOps:\\nFeature\\nStore\\n|\\nTrino\\nSQL\\n|\\nAirflow\\n|\\nDocker\\n|\\nKubernetes\\n|\\nArgo\\n|\\nJenkins\\n| \\nAWS\\n|\\nMLOps\\n|\\nUnit/Integ ration\\nTesting\\n|\\nCI/CD \\nTools\\n&\\nPlatf orms:\\nGit\\n|\\nGrafana\\n|\\nDatadog\\n|\\nOpenAI\\nAPI\\nInter ests\\nPlaying\\nthe\\npiano\\n(I\\nlove\\nChopin\\n),\\nplaying\\nsports\\nvideo\\ngames\\nlike\\nFIFA\\n,\\nI’ve\\nbeen\\na\\ntennis\\ncoach\\nfor\\n4\\nyears\\nas\\na \\nteenag er,\\nnow\\nI\\ncompete\\nin\\nlocal\\ncompetitions .'}, vector=None, shard_key=None, order_value=None)]"
      ]
     },
     "execution_count": 119,
     "metadata": {},
     "output_type": "execute_result"
    }
   ],
   "source": [
    "result"
   ]
  },
  {
   "cell_type": "code",
   "execution_count": 121,
   "metadata": {},
   "outputs": [],
   "source": [
    "collection_info = client.get_collection(collection_name=collection_name)\n"
   ]
  },
  {
   "cell_type": "markdown",
   "metadata": {},
   "source": [
    "# Replicate Quantization with FAISS"
   ]
  },
  {
   "cell_type": "code",
   "execution_count": 126,
   "metadata": {},
   "outputs": [
    {
     "name": "stderr",
     "output_type": "stream",
     "text": [
      "huggingface/tokenizers: The current process just got forked, after parallelism has already been used. Disabling parallelism to avoid deadlocks...\n",
      "To disable this warning, you can either:\n",
      "\t- Avoid using `tokenizers` before the fork if possible\n",
      "\t- Explicitly set the environment variable TOKENIZERS_PARALLELISM=(true | false)\n"
     ]
    },
    {
     "name": "stdout",
     "output_type": "stream",
     "text": [
      "Collecting faiss-cpu\n",
      "  Downloading faiss_cpu-1.9.0.post1-cp310-cp310-manylinux_2_17_x86_64.manylinux2014_x86_64.whl.metadata (4.4 kB)\n",
      "Requirement already satisfied: numpy<3.0,>=1.25.0 in /home/david/anaconda3/envs/r_apirag/lib/python3.10/site-packages (from faiss-cpu) (1.26.4)\n",
      "Requirement already satisfied: packaging in /home/david/anaconda3/envs/r_apirag/lib/python3.10/site-packages (from faiss-cpu) (24.2)\n",
      "Downloading faiss_cpu-1.9.0.post1-cp310-cp310-manylinux_2_17_x86_64.manylinux2014_x86_64.whl (27.5 MB)\n",
      "\u001b[2K   \u001b[38;2;114;156;31m━━━━━━━━━━━━━━━━━━━━━━━━━━━━━━━━━━━━━━━━\u001b[0m \u001b[32m27.5/27.5 MB\u001b[0m \u001b[31m20.6 MB/s\u001b[0m eta \u001b[36m0:00:00\u001b[0m MB/s\u001b[0m eta \u001b[36m0:00:01\u001b[0m\n",
      "\u001b[?25hInstalling collected packages: faiss-cpu\n",
      "Successfully installed faiss-cpu-1.9.0.post1\n"
     ]
    }
   ],
   "source": [
    "!pip install -U faiss-cpu"
   ]
  },
  {
   "cell_type": "code",
   "execution_count": 127,
   "metadata": {},
   "outputs": [],
   "source": [
    "import numpy as np\n",
    "import faiss"
   ]
  },
  {
   "cell_type": "code",
   "execution_count": 130,
   "metadata": {},
   "outputs": [],
   "source": [
    "# Example: Simulate Product Quantization with FAISS\n",
    "dimension = 768  # Example vector size\n",
    "num_centroids = 256  # Number of clusters for each subspace\n",
    "subvector_count = 8  # Split the vector into 8 subspaces\n"
   ]
  },
  {
   "cell_type": "code",
   "execution_count": 133,
   "metadata": {},
   "outputs": [],
   "source": [
    "# Create random training data\n",
    "num_train_vectors = 10000\n",
    "train_vectors = np.random.random((num_train_vectors, dimension)).astype('float32')"
   ]
  },
  {
   "cell_type": "code",
   "execution_count": 134,
   "metadata": {},
   "outputs": [],
   "source": [
    "pq = faiss.ProductQuantizer(dimension, subvector_count, 8)  # 8 bits per subvector"
   ]
  },
  {
   "cell_type": "code",
   "execution_count": 135,
   "metadata": {},
   "outputs": [],
   "source": [
    "# Train the product quantizer\n",
    "pq.train(train_vectors)"
   ]
  },
  {
   "cell_type": "code",
   "execution_count": 136,
   "metadata": {},
   "outputs": [],
   "source": [
    "# Create some test vectors to encode\n",
    "num_test_vectors = 1000\n",
    "test_vectors = np.random.random((num_test_vectors, dimension)).astype('float32')"
   ]
  },
  {
   "cell_type": "code",
   "execution_count": 138,
   "metadata": {},
   "outputs": [],
   "source": [
    "# Encode vectors - corrected version\n",
    "codes = pq.compute_codes(test_vectors)"
   ]
  },
  {
   "cell_type": "code",
   "execution_count": 146,
   "metadata": {},
   "outputs": [],
   "source": [
    "# Decode vectors\n",
    "reconstructed_vectors = pq.decode(codes)"
   ]
  },
  {
   "cell_type": "code",
   "execution_count": 140,
   "metadata": {},
   "outputs": [
    {
     "name": "stdout",
     "output_type": "stream",
     "text": [
      "Mean Squared Error: 0.077343\n"
     ]
    }
   ],
   "source": [
    "# Calculate reconstruction error\n",
    "mse = np.mean((test_vectors - reconstructed_vectors) ** 2)\n",
    "print(f\"Mean Squared Error: {mse:.6f}\")\n",
    "\n",
    "\n",
    "# Example of how to compute distances between vectors using the PQ codes\n",
    "# Select two vectors to compare\n",
    "vector1 = test_vectors[0:1]  # Take first vector\n",
    "vector2 = test_vectors[1:2]  # Take second vecto\n",
    "\n",
    "# Compute their codes\n",
    "code1 = pq.compute_codes(vector1)\n",
    "code2 = pq.compute_codes(vector2)\n"
   ]
  },
  {
   "cell_type": "code",
   "execution_count": 149,
   "metadata": {},
   "outputs": [],
   "source": [
    "# Compute approximate distance between encoded vectors using decoded vectors\n",
    "decoded_vector1 = pq.decode(code1)\n",
    "decoded_vector2 = pq.decode(code2)"
   ]
  },
  {
   "cell_type": "code",
   "execution_count": 150,
   "metadata": {},
   "outputs": [
    {
     "name": "stdout",
     "output_type": "stream",
     "text": [
      "Approximate L2 Distance using decoded vectors: 4.147590\n",
      "True L2 Distance: 11.538622\n"
     ]
    }
   ],
   "source": [
    "# Calculate the approximate L2 distance using decoded vectors\n",
    "approx_distance = np.linalg.norm(decoded_vector1 - decoded_vector2)\n",
    "print(f\"Approximate L2 Distance using decoded vectors: {approx_distance:.6f}\")\n",
    "\n",
    "# Compare with the true L2 distance for validation\n",
    "true_distance = np.linalg.norm(vector1 - vector2)\n",
    "print(f\"True L2 Distance: {true_distance:.6f}\")"
   ]
  },
  {
   "cell_type": "markdown",
   "metadata": {},
   "source": [
    "# Retriever Generate Context"
   ]
  },
  {
   "cell_type": "code",
   "execution_count": 16,
   "metadata": {},
   "outputs": [],
   "source": [
    "from qdrant_client import models"
   ]
  },
  {
   "cell_type": "code",
   "execution_count": 17,
   "metadata": {},
   "outputs": [],
   "source": [
    "def search(query, top_k=10):\n",
    "    result = client.search(\n",
    "            collection_name=collection_name,\n",
    "            query_vector=query,\n",
    "            search_params=models.SearchParams(\n",
    "                quantization=models.QuantizationSearchParams(\n",
    "                    ignore=True,\n",
    "                    rescore=True,\n",
    "                    oversampling=2.0,\n",
    "                )\n",
    "            ),\n",
    "            timeout=1000,\n",
    "        )\n",
    "    return result"
   ]
  },
  {
   "cell_type": "code",
   "execution_count": 19,
   "metadata": {},
   "outputs": [],
   "source": [
    "query = \"hello\"\n",
    "query_embedding = next(embed_model.embed(query))"
   ]
  },
  {
   "cell_type": "code",
   "execution_count": 20,
   "metadata": {},
   "outputs": [
    {
     "data": {
      "text/plain": [
       "numpy.ndarray"
      ]
     },
     "execution_count": 20,
     "metadata": {},
     "output_type": "execute_result"
    }
   ],
   "source": [
    "type(query_embedding)"
   ]
  },
  {
   "cell_type": "code",
   "execution_count": 21,
   "metadata": {},
   "outputs": [],
   "source": [
    "query = \"Location\"\n",
    "result = search(query=query_embedding, top_k=2)"
   ]
  },
  {
   "cell_type": "code",
   "execution_count": 22,
   "metadata": {},
   "outputs": [
    {
     "data": {
      "text/plain": [
       "[ScoredPoint(id='da9c3221-1ae8-4632-888e-033d9ed9ceb4', version=0, score=188.23242, payload={'file_name': 'curriculum_v10.pdf', 'page_number': '2', 'text': 'Pr ofessional\\nDev elopment\\nContin uously\\ndeveloping\\nexper tise\\nin\\nAI/ML\\nthrough\\ncourses\\non\\nLLMOps ,\\nNLP,\\nand\\nBig\\nData\\ntechnologies , \\nincluding\\nhands-on\\nexperience\\nwith\\ncloud\\nplatfor ms\\nlike\\nAWS.\\nMOOCs:\\nLLMOps\\n&\\nML\\nDeployment:\\nUdemy\\n|\\nCurrent \\nNLP\\nSpecialization\\nCoursera\\n|\\n01-2022 \\nDeployment\\nof\\nML\\nmodels\\nUdemy\\n|\\n12-2020 \\nNeo4J\\nIntr oduction\\nNeo4j\\n|\\n06-2020 \\nPlotl y/Dash\\ndashboards\\nUdemy\\n|\\n02-2020 \\nBig\\nData\\nSpecialization\\nCoursera\\n|\\n03-2019 \\nMathematical\\nBiostatistics\\nCoursera\\n|\\n05-2021\\nBooks:\\nHands-On\\nGenerati ve\\nAI\\nO’Reilly\\n|\\nCurrent \\nHands-On\\nGraph\\nNN\\nO’Reilly\\n|\\n01-2023 \\nNLP\\nwith\\nTransf ormer s\\nO’Reilly\\n|\\n07-2022 \\nApplied\\nrecsys\\nwith\\nPython\\nO’Reilly\\n|\\n01-2022 \\nDeep\\nRL\\nHands-On\\nO’Reilly\\n|\\n12-2021 \\nHands-On\\nExplaina ble\\nAI\\n(XAI)\\nO’Reilly\\n|\\n07-2021 \\nBay esian\\nAnal ysis\\nwith\\nPython\\nO’Reilly\\n|\\n03-2021\\nPublications\\no\\nFooDI-ML:\\na\\nlarge\\nmulti-languag e\\ndataset\\nof\\nfood,\\ndrinks\\nand\\ngroceries\\nimages\\nand\\ndescriptions\\n|\\narXiv\\n-\\n2021\\no\\nExtending\\nthe\\nsmall-molecule\\nsimilarity\\nprinciple\\nto\\nall\\nlevels\\nof\\nbiolog y\\n|\\nNat\\nBiotechnol\\n-\\n2020\\no\\nComputation\\nof\\nforces\\nfrom\\ndefor med\\nvisco-elastic\\nbiological\\ntissues\\n|\\nInverse\\nProblems\\n-\\n2018\\no\\nPendulum\\ndynamics\\nin\\nan\\namusement\\npark\\n|\\nEuropean\\nJounral\\nof\\nPhysics\\n-\\n2017\\nPr ojects\\no\\n2048\\n:\\ndeveloped\\nin\\nPython\\na\\nclone\\nof\\nthe\\n2048\\ngame\\nand\\nused\\nREINFOR CE\\nto\\nplay\\nthe\\ngame\\noptimally\\no\\nFoodi-ml\\n:\\ntraining\\nimage-text\\nalignment\\nmodel\\n(ADAPT)\\nfor\\nFooDI-ML\\ndataset\\no\\nSoccer -Star s\\nDjango\\nWebapp:\\nclone\\nthe\\nmobile\\ngame\\nSoccer\\nStars\\nwith\\na\\nReact\\napp\\nusing\\nDjang o\\nas\\nBackend\\nto\\ncompute\\ncollisions\\nand\\ntrajectories \\no\\nFitcheck\\nAI:\\nbuild\\na\\nDjang o\\nBackend\\nconnecting\\nto\\nOpenAI\\nAPI\\nto\\nask\\nGPT -4o\\nfor\\nratings\\non\\nyour\\noutfit\\nimage\\no\\nPortfolio:\\nbuilding\\nmy\\nown\\nweb\\napp\\nportfolio\\nin\\nNext.js\\n/\\nReact\\n/\\nTailwind\\nCSS,\\netc.\\n(In\\nProgress)\\no\\nPDF\\nSearch\\nLLM\\nRAG:\\nbuilding\\na\\nlocal\\nPDF\\nsummarizer\\nwith\\nSentence\\nTransfor mers,\\nOpenSearc h\\nas\\nVector\\nDatabase ,\\nMistral\\nfine-tuning\\nwith\\nLoRA\\non\\nquestion/answ ers\\ndataset\\ngenerated\\nby\\nGPT -4o,\\nand\\nserving\\nit\\nas\\na \\nStreamlit\\napp\\nthat\\nuses\\nRAG\\nfrom\\nthe\\nembedded\\nPDFs .\\n(In\\nProgress) \\no\\nBuild\\nyour\\nown\\nMLP:\\nbuilding\\na\\nMedium\\npost\\nto\\nguide\\non\\nthe\\nset\\nup\\nof\\na\\nlocal\\nK8s\\ncluster\\nwith\\nK3d,\\nwith\\nArgo\\ninstalled\\nto\\nleverage\\nyour\\ncomputer\\nas\\na\\ncompute\\nserver\\nusing\\nArgo\\nWorkflows\\nand\\nRollouts\\nfor\\nthe\\nAPI\\n(In\\nProgress)\\nSkills\\nPr ogramming\\nLangua ges\\n:\\nPython\\n|\\nR\\n|\\nSQL \\nWeb/Back end\\nDev elopment:\\nDjang o\\n|\\nFlask\\n|\\nReact \\nMachine\\nLear ning\\n&\\nAI:\\nNLP\\n|\\nComputer\\nVision\\n|\\nPyTorch\\n|\\nHuggingF ace\\n|\\nTransfor mers\\n|\\nGenerati ve\\nAI\\n| \\nMulti-Ar med\\nBandit\\n|\\nREINFOR CE\\n|\\nCollaborati ve\\nFiltering\\n|\\nWord2V ec\\n|\\nGraph\\nNN\\n|\\nBayesian\\nInference\\n| \\nRAG \\nData\\nEngineering\\n&\\nMLOps:\\nFeature\\nStore\\n|\\nTrino\\nSQL\\n|\\nAirflow\\n|\\nDocker\\n|\\nKubernetes\\n|\\nArgo\\n|\\nJenkins\\n| \\nAWS\\n|\\nMLOps\\n|\\nUnit/Integ ration\\nTesting\\n|\\nCI/CD \\nTools\\n&\\nPlatf orms:\\nGit\\n|\\nGrafana\\n|\\nDatadog\\n|\\nOpenAI\\nAPI\\nInter ests\\nPlaying\\nthe\\npiano\\n(I\\nlove\\nChopin\\n),\\nplaying\\nsports\\nvideo\\ngames\\nlike\\nFIFA\\n,\\nI’ve\\nbeen\\na\\ntennis\\ncoach\\nfor\\n4\\nyears\\nas\\na \\nteenag er,\\nnow\\nI\\ncompete\\nin\\nlocal\\ncompetitions .'}, vector=None, shard_key=None, order_value=None),\n",
       " ScoredPoint(id='0c9a48bd-4eba-47db-84e1-bf97ad6408fc', version=0, score=178.42776, payload={'file_name': 'curriculum_v10.pdf', 'page_number': '1', 'text': 'David\\nAmat\\nSenior\\nData\\nScientist \\n(Glovo)\\nCAT\\n|\\xa0ENG\\n|\\nSPA\\nLocation:\\nBarcelona,\\nSpain\\nDate\\nof\\nbirth:\\n20-04-1994\\nNumber:\\n+(34)-608526629\\ndaolondrizdaolondriz@gmai.com\\nin:\\ndavid-amat-olondriz/\\ngithub:\\nDavidAmat\\nFull\\nStack\\nData\\nScientist\\nwith\\n6+\\nyears\\nof\\nexperience\\nin\\nend-to-end\\nML\\ndevelopment,\\nspecializing\\nin\\nrecommender \\nsystems ,\\ndeep\\nlearning,\\nNLP,\\ncomputer\\nvision,\\nand\\nAI/LLM\\ntechnologies .\\nCurrently\\nleading\\nprojects\\nat\\nGlovo, \\ndriving\\nimpro vements\\nin\\nML\\nplatfor m\\nlifecycle ,\\nfeature\\nengineering,\\nand\\nreal-time\\nAPI\\nserving\\nwith\\na\\nfocus\\non \\nscalable ,\\nproduct-dri ven\\nsolutions .\\nProven\\ntrack\\nrecord\\nof\\ncollaborating\\ncross-functionally\\nwith\\nProduct\\nand \\nBackend\\nteams ,\\ndelivering\\nimpactful\\ndata-dri ven\\nproducts .\\nConstantly\\nadvancing\\nskills\\nin\\nAI/ML\\nsystem\\ndesign\\nand \\nstaying\\nupdated\\nwith\\nstate-of-the-ar t\\ntechnologies .\\nWork\\nexperience\\nGlo vo\\n|\\nSenior\\nData\\nScientist\\nBarcelona,\\nSpain\\n|\\n07.2020\\n-\\nCurrent \\n●\\nLed\\nthe\\ndevelopment\\nand\\noptimization\\nof\\na\\nStock\\nPrediction\\nModel\\n(SPM)\\nfor\\nGroceries ,\\nsignificantly\\nreducing \\nProduct\\nNot\\nAvailable\\n(PNA)\\nmetrics\\nby\\n10-14%,\\nresulting\\nin\\n~€2M\\nannual\\nsavings . \\n●\\nEngineered\\na\\nnew\\nrestaurant\\nrecommender\\nsystem,\\ntransitioning\\nfrom\\ncollaborati ve\\nfiltering\\n(SVD)\\nto\\nan \\nadvanced\\nembedding-based\\nmodel\\nusing\\nWord2V ec,\\nleading\\nto\\na\\n1%\\nabsolute\\nincrease\\nin\\nCVR.\\nInteg rated\\nthe \\nsystem\\nwith\\na\\nlow-latency\\nAPI\\nutilizing\\na\\nFeature\\nStore ,\\nenabling\\nreal-time\\nrecommendations .\\nA/B\\ntest \\nexperiments\\nshowed\\n+0.8M\\nincremental\\norders\\n/\\nyear. \\n●\\nIdeation\\nand\\nproductization\\nof\\nMulti-Ar med\\nBandit\\nframew ork\\nto\\ntailor\\nrecommender\\nwidgets\\nfor\\neach\\nuser \\nuser,\\nusing\\na\\ncustom-made\\napproac h\\niterated\\nfrom\\ntypical\\nThompson\\nSampling\\napproac h\\n(in\\ntest). \\n●\\nFirst\\nprize\\nin\\nan\\ninternal\\nHackathon\\nfine-tuning\\na\\nStable\\nDiffusion\\nmodel\\nto\\ngenerate\\ndish\\nimages\\nfrom\\ntext. \\n●\\nBenc hmarking\\nCLIP\\nmodel\\non\\nour\\nreleased\\nFoodi-ML\\nmulti-modal\\ndataset \\n●\\nGained\\nML\\nEngineering\\nskills\\nmastering\\nour\\nin-house\\nML\\nPlatfor m\\narchitecture ,\\nincluding\\nproject\\nsetup\\nwith \\nPoetry,\\nscalable\\ntrainings\\nin\\nArgo\\nWorkflows\\nunder\\nK8s,\\nAPI\\ninferences\\nserving\\nwith\\nFlask,\\nDockerization\\nand \\nECR\\nmanag ement,\\nfull\\nCI/CD\\nlifecycle\\nwith\\nArgo\\nCD,\\nGitOps ,\\nJenkins ,\\nArgo\\nRollouts ,\\netc.\\nBesides ,\\nI\\nalso\\nbuild \\ndeclarati ve\\nData\\nProducts\\nrunning\\nin\\nAirflow,\\nlinking\\nthem\\nto\\nFeature\\nStore\\nfor\\nproduction\\nlow-latency\\nretriev al. \\n●\\nExperience\\nin\\nA/B\\ntest\\nanalysis ,\\nincluding\\ndesign\\non\\nour\\nExperimentation\\nPlatfor m,\\nmetric\\nselection,\\nMDE \\nanalysis ,\\nand\\nresult\\nevaluation\\nusing\\nchi-squared\\ntests,\\nz-tests ,\\nand\\np-value\\ncorrections\\nwith\\nPython\\nlibraries\\nBanc\\nSa badell\\n|\\nData\\nScientist\\nSant\\nCugat\\ndel\\nVallès,\\nSpain\\n|\\n11.2018\\n-\\n07-2020 \\n●\\nYoung\\nTalent\\nprogram\\nfocused\\non\\nData\\nScience\\nwithin\\nthe\\nBank\\n(6\\nmonths\\nrotation\\nto\\ndifferent\\nareas). \\n●\\nDeveloped\\na\\npredicti ve\\nmodel\\noptimizing\\nchannel\\nselection\\nfor\\ndebt\\nrecovery,\\nleveraging\\ndecision\\ntrees\\nto \\nidentify\\noptimal\\ncomm unication\\nstrategies ,\\nwhich\\nimpro ved\\nrecovery\\nrates\\nby\\n5% \\n●\\nCollaborated\\non\\na\\nspending\\ncateg orization\\nmodel\\nthat\\nautomatically\\nclassifies\\ntransactions\\ninto\\nbroad\\ncateg ories \\n●\\nDeveloped\\na\\ntree-based\\nfraud\\ndetection\\nmodel\\nto\\nflag\\nsuspicious\\ntransactions\\nand\\nreduce\\nFalse\\nalarms,\\nreducing \\non\\naverage\\n~60-70%\\nof\\nFalse\\npositi ve\\nalarms,\\nreducing\\nanalysts\\nworkload\\non\\nanalyzing\\nand\\nreporting\\nthem.\\nEY\\n|\\nJunior\\nConsultant\\nat\\nLife-Science\\nteam\\nBarcelona,\\nSpain\\n|\\n07.2018\\n-\\n11.2018\\nIRB/IBEC\\n|\\nMSc\\nInter nships\\nBarcelona,\\nSpain\\n|\\n06.2017\\n-\\n07.2018 \\n●\\n[IRB]\\nDeveloped\\na\\ntarget\\nprediction\\ntool\\nusing\\nSimilarity\\nEnsemble\\nApproac h\\n(SEA)\\nand\\nSiamese\\nNN, \\ninteg rating\\nbioacti vity\\ndata\\nand\\ngene\\nexpression\\nprofiles\\nto\\nenhance\\ndrug-targ et\\ninteraction\\npredictions . \\n●\\n[IBEC]\\nUsed\\nfinite-element\\nmethods\\nto\\ncompute\\nvisco-elastic\\nforces\\nfor\\nbiological\\ntissues\\n.\\nEducation\\nIMF\\nSchool\\n|\\nMaster’ s\\nDegree\\nin\\nBusiness\\nAnalytics\\n&\\nBig\\nData\\nGrade:\\n9.8\\nMadrid,\\nSpain\\n|\\n05.2019\\n-\\n10.2020 \\nUPF/UB\\n|\\nMaster’ s\\nDegree\\nin\\nBioinfor matics\\nfor\\nHealth\\nSciences\\nGrade:\\n9.1\\nBarcelona,\\nSpain\\n|\\n09.2016\\n-\\n06.2018 \\nUPC\\n|\\nBachelor’ s\\nDegree\\nin\\nEngineering\\nPhysics\\nGrade:\\n7.6\\nBarcelona,\\nSpain\\n|\\n09.2012\\n-\\n06.2016'}, vector=None, shard_key=None, order_value=None)]"
      ]
     },
     "execution_count": 22,
     "metadata": {},
     "output_type": "execute_result"
    }
   ],
   "source": [
    "result"
   ]
  },
  {
   "cell_type": "code",
   "execution_count": 23,
   "metadata": {},
   "outputs": [],
   "source": [
    "text_top = result[0].payload[\"text\"]\n",
    "text_sec = result[1].payload[\"text\"]"
   ]
  },
  {
   "cell_type": "code",
   "execution_count": 24,
   "metadata": {},
   "outputs": [
    {
     "data": {
      "text/plain": [
       "False"
      ]
     },
     "execution_count": 24,
     "metadata": {},
     "output_type": "execute_result"
    }
   ],
   "source": [
    "\"ocation\" in text_top"
   ]
  },
  {
   "cell_type": "code",
   "execution_count": 25,
   "metadata": {},
   "outputs": [
    {
     "data": {
      "text/plain": [
       "True"
      ]
     },
     "execution_count": 25,
     "metadata": {},
     "output_type": "execute_result"
    }
   ],
   "source": [
    "\"ocation\" in text_sec"
   ]
  },
  {
   "cell_type": "code",
   "execution_count": 26,
   "metadata": {},
   "outputs": [],
   "source": [
    "context = [dict(data) for data in result]"
   ]
  },
  {
   "cell_type": "code",
   "execution_count": 27,
   "metadata": {},
   "outputs": [
    {
     "data": {
      "text/plain": [
       "[{'id': 'da9c3221-1ae8-4632-888e-033d9ed9ceb4',\n",
       "  'version': 0,\n",
       "  'score': 188.23242,\n",
       "  'payload': {'file_name': 'curriculum_v10.pdf',\n",
       "   'page_number': '2',\n",
       "   'text': 'Pr ofessional\\nDev elopment\\nContin uously\\ndeveloping\\nexper tise\\nin\\nAI/ML\\nthrough\\ncourses\\non\\nLLMOps ,\\nNLP,\\nand\\nBig\\nData\\ntechnologies , \\nincluding\\nhands-on\\nexperience\\nwith\\ncloud\\nplatfor ms\\nlike\\nAWS.\\nMOOCs:\\nLLMOps\\n&\\nML\\nDeployment:\\nUdemy\\n|\\nCurrent \\nNLP\\nSpecialization\\nCoursera\\n|\\n01-2022 \\nDeployment\\nof\\nML\\nmodels\\nUdemy\\n|\\n12-2020 \\nNeo4J\\nIntr oduction\\nNeo4j\\n|\\n06-2020 \\nPlotl y/Dash\\ndashboards\\nUdemy\\n|\\n02-2020 \\nBig\\nData\\nSpecialization\\nCoursera\\n|\\n03-2019 \\nMathematical\\nBiostatistics\\nCoursera\\n|\\n05-2021\\nBooks:\\nHands-On\\nGenerati ve\\nAI\\nO’Reilly\\n|\\nCurrent \\nHands-On\\nGraph\\nNN\\nO’Reilly\\n|\\n01-2023 \\nNLP\\nwith\\nTransf ormer s\\nO’Reilly\\n|\\n07-2022 \\nApplied\\nrecsys\\nwith\\nPython\\nO’Reilly\\n|\\n01-2022 \\nDeep\\nRL\\nHands-On\\nO’Reilly\\n|\\n12-2021 \\nHands-On\\nExplaina ble\\nAI\\n(XAI)\\nO’Reilly\\n|\\n07-2021 \\nBay esian\\nAnal ysis\\nwith\\nPython\\nO’Reilly\\n|\\n03-2021\\nPublications\\no\\nFooDI-ML:\\na\\nlarge\\nmulti-languag e\\ndataset\\nof\\nfood,\\ndrinks\\nand\\ngroceries\\nimages\\nand\\ndescriptions\\n|\\narXiv\\n-\\n2021\\no\\nExtending\\nthe\\nsmall-molecule\\nsimilarity\\nprinciple\\nto\\nall\\nlevels\\nof\\nbiolog y\\n|\\nNat\\nBiotechnol\\n-\\n2020\\no\\nComputation\\nof\\nforces\\nfrom\\ndefor med\\nvisco-elastic\\nbiological\\ntissues\\n|\\nInverse\\nProblems\\n-\\n2018\\no\\nPendulum\\ndynamics\\nin\\nan\\namusement\\npark\\n|\\nEuropean\\nJounral\\nof\\nPhysics\\n-\\n2017\\nPr ojects\\no\\n2048\\n:\\ndeveloped\\nin\\nPython\\na\\nclone\\nof\\nthe\\n2048\\ngame\\nand\\nused\\nREINFOR CE\\nto\\nplay\\nthe\\ngame\\noptimally\\no\\nFoodi-ml\\n:\\ntraining\\nimage-text\\nalignment\\nmodel\\n(ADAPT)\\nfor\\nFooDI-ML\\ndataset\\no\\nSoccer -Star s\\nDjango\\nWebapp:\\nclone\\nthe\\nmobile\\ngame\\nSoccer\\nStars\\nwith\\na\\nReact\\napp\\nusing\\nDjang o\\nas\\nBackend\\nto\\ncompute\\ncollisions\\nand\\ntrajectories \\no\\nFitcheck\\nAI:\\nbuild\\na\\nDjang o\\nBackend\\nconnecting\\nto\\nOpenAI\\nAPI\\nto\\nask\\nGPT -4o\\nfor\\nratings\\non\\nyour\\noutfit\\nimage\\no\\nPortfolio:\\nbuilding\\nmy\\nown\\nweb\\napp\\nportfolio\\nin\\nNext.js\\n/\\nReact\\n/\\nTailwind\\nCSS,\\netc.\\n(In\\nProgress)\\no\\nPDF\\nSearch\\nLLM\\nRAG:\\nbuilding\\na\\nlocal\\nPDF\\nsummarizer\\nwith\\nSentence\\nTransfor mers,\\nOpenSearc h\\nas\\nVector\\nDatabase ,\\nMistral\\nfine-tuning\\nwith\\nLoRA\\non\\nquestion/answ ers\\ndataset\\ngenerated\\nby\\nGPT -4o,\\nand\\nserving\\nit\\nas\\na \\nStreamlit\\napp\\nthat\\nuses\\nRAG\\nfrom\\nthe\\nembedded\\nPDFs .\\n(In\\nProgress) \\no\\nBuild\\nyour\\nown\\nMLP:\\nbuilding\\na\\nMedium\\npost\\nto\\nguide\\non\\nthe\\nset\\nup\\nof\\na\\nlocal\\nK8s\\ncluster\\nwith\\nK3d,\\nwith\\nArgo\\ninstalled\\nto\\nleverage\\nyour\\ncomputer\\nas\\na\\ncompute\\nserver\\nusing\\nArgo\\nWorkflows\\nand\\nRollouts\\nfor\\nthe\\nAPI\\n(In\\nProgress)\\nSkills\\nPr ogramming\\nLangua ges\\n:\\nPython\\n|\\nR\\n|\\nSQL \\nWeb/Back end\\nDev elopment:\\nDjang o\\n|\\nFlask\\n|\\nReact \\nMachine\\nLear ning\\n&\\nAI:\\nNLP\\n|\\nComputer\\nVision\\n|\\nPyTorch\\n|\\nHuggingF ace\\n|\\nTransfor mers\\n|\\nGenerati ve\\nAI\\n| \\nMulti-Ar med\\nBandit\\n|\\nREINFOR CE\\n|\\nCollaborati ve\\nFiltering\\n|\\nWord2V ec\\n|\\nGraph\\nNN\\n|\\nBayesian\\nInference\\n| \\nRAG \\nData\\nEngineering\\n&\\nMLOps:\\nFeature\\nStore\\n|\\nTrino\\nSQL\\n|\\nAirflow\\n|\\nDocker\\n|\\nKubernetes\\n|\\nArgo\\n|\\nJenkins\\n| \\nAWS\\n|\\nMLOps\\n|\\nUnit/Integ ration\\nTesting\\n|\\nCI/CD \\nTools\\n&\\nPlatf orms:\\nGit\\n|\\nGrafana\\n|\\nDatadog\\n|\\nOpenAI\\nAPI\\nInter ests\\nPlaying\\nthe\\npiano\\n(I\\nlove\\nChopin\\n),\\nplaying\\nsports\\nvideo\\ngames\\nlike\\nFIFA\\n,\\nI’ve\\nbeen\\na\\ntennis\\ncoach\\nfor\\n4\\nyears\\nas\\na \\nteenag er,\\nnow\\nI\\ncompete\\nin\\nlocal\\ncompetitions .'},\n",
       "  'vector': None,\n",
       "  'shard_key': None,\n",
       "  'order_value': None},\n",
       " {'id': '0c9a48bd-4eba-47db-84e1-bf97ad6408fc',\n",
       "  'version': 0,\n",
       "  'score': 178.42776,\n",
       "  'payload': {'file_name': 'curriculum_v10.pdf',\n",
       "   'page_number': '1',\n",
       "   'text': 'David\\nAmat\\nSenior\\nData\\nScientist \\n(Glovo)\\nCAT\\n|\\xa0ENG\\n|\\nSPA\\nLocation:\\nBarcelona,\\nSpain\\nDate\\nof\\nbirth:\\n20-04-1994\\nNumber:\\n+(34)-608526629\\ndaolondrizdaolondriz@gmai.com\\nin:\\ndavid-amat-olondriz/\\ngithub:\\nDavidAmat\\nFull\\nStack\\nData\\nScientist\\nwith\\n6+\\nyears\\nof\\nexperience\\nin\\nend-to-end\\nML\\ndevelopment,\\nspecializing\\nin\\nrecommender \\nsystems ,\\ndeep\\nlearning,\\nNLP,\\ncomputer\\nvision,\\nand\\nAI/LLM\\ntechnologies .\\nCurrently\\nleading\\nprojects\\nat\\nGlovo, \\ndriving\\nimpro vements\\nin\\nML\\nplatfor m\\nlifecycle ,\\nfeature\\nengineering,\\nand\\nreal-time\\nAPI\\nserving\\nwith\\na\\nfocus\\non \\nscalable ,\\nproduct-dri ven\\nsolutions .\\nProven\\ntrack\\nrecord\\nof\\ncollaborating\\ncross-functionally\\nwith\\nProduct\\nand \\nBackend\\nteams ,\\ndelivering\\nimpactful\\ndata-dri ven\\nproducts .\\nConstantly\\nadvancing\\nskills\\nin\\nAI/ML\\nsystem\\ndesign\\nand \\nstaying\\nupdated\\nwith\\nstate-of-the-ar t\\ntechnologies .\\nWork\\nexperience\\nGlo vo\\n|\\nSenior\\nData\\nScientist\\nBarcelona,\\nSpain\\n|\\n07.2020\\n-\\nCurrent \\n●\\nLed\\nthe\\ndevelopment\\nand\\noptimization\\nof\\na\\nStock\\nPrediction\\nModel\\n(SPM)\\nfor\\nGroceries ,\\nsignificantly\\nreducing \\nProduct\\nNot\\nAvailable\\n(PNA)\\nmetrics\\nby\\n10-14%,\\nresulting\\nin\\n~€2M\\nannual\\nsavings . \\n●\\nEngineered\\na\\nnew\\nrestaurant\\nrecommender\\nsystem,\\ntransitioning\\nfrom\\ncollaborati ve\\nfiltering\\n(SVD)\\nto\\nan \\nadvanced\\nembedding-based\\nmodel\\nusing\\nWord2V ec,\\nleading\\nto\\na\\n1%\\nabsolute\\nincrease\\nin\\nCVR.\\nInteg rated\\nthe \\nsystem\\nwith\\na\\nlow-latency\\nAPI\\nutilizing\\na\\nFeature\\nStore ,\\nenabling\\nreal-time\\nrecommendations .\\nA/B\\ntest \\nexperiments\\nshowed\\n+0.8M\\nincremental\\norders\\n/\\nyear. \\n●\\nIdeation\\nand\\nproductization\\nof\\nMulti-Ar med\\nBandit\\nframew ork\\nto\\ntailor\\nrecommender\\nwidgets\\nfor\\neach\\nuser \\nuser,\\nusing\\na\\ncustom-made\\napproac h\\niterated\\nfrom\\ntypical\\nThompson\\nSampling\\napproac h\\n(in\\ntest). \\n●\\nFirst\\nprize\\nin\\nan\\ninternal\\nHackathon\\nfine-tuning\\na\\nStable\\nDiffusion\\nmodel\\nto\\ngenerate\\ndish\\nimages\\nfrom\\ntext. \\n●\\nBenc hmarking\\nCLIP\\nmodel\\non\\nour\\nreleased\\nFoodi-ML\\nmulti-modal\\ndataset \\n●\\nGained\\nML\\nEngineering\\nskills\\nmastering\\nour\\nin-house\\nML\\nPlatfor m\\narchitecture ,\\nincluding\\nproject\\nsetup\\nwith \\nPoetry,\\nscalable\\ntrainings\\nin\\nArgo\\nWorkflows\\nunder\\nK8s,\\nAPI\\ninferences\\nserving\\nwith\\nFlask,\\nDockerization\\nand \\nECR\\nmanag ement,\\nfull\\nCI/CD\\nlifecycle\\nwith\\nArgo\\nCD,\\nGitOps ,\\nJenkins ,\\nArgo\\nRollouts ,\\netc.\\nBesides ,\\nI\\nalso\\nbuild \\ndeclarati ve\\nData\\nProducts\\nrunning\\nin\\nAirflow,\\nlinking\\nthem\\nto\\nFeature\\nStore\\nfor\\nproduction\\nlow-latency\\nretriev al. \\n●\\nExperience\\nin\\nA/B\\ntest\\nanalysis ,\\nincluding\\ndesign\\non\\nour\\nExperimentation\\nPlatfor m,\\nmetric\\nselection,\\nMDE \\nanalysis ,\\nand\\nresult\\nevaluation\\nusing\\nchi-squared\\ntests,\\nz-tests ,\\nand\\np-value\\ncorrections\\nwith\\nPython\\nlibraries\\nBanc\\nSa badell\\n|\\nData\\nScientist\\nSant\\nCugat\\ndel\\nVallès,\\nSpain\\n|\\n11.2018\\n-\\n07-2020 \\n●\\nYoung\\nTalent\\nprogram\\nfocused\\non\\nData\\nScience\\nwithin\\nthe\\nBank\\n(6\\nmonths\\nrotation\\nto\\ndifferent\\nareas). \\n●\\nDeveloped\\na\\npredicti ve\\nmodel\\noptimizing\\nchannel\\nselection\\nfor\\ndebt\\nrecovery,\\nleveraging\\ndecision\\ntrees\\nto \\nidentify\\noptimal\\ncomm unication\\nstrategies ,\\nwhich\\nimpro ved\\nrecovery\\nrates\\nby\\n5% \\n●\\nCollaborated\\non\\na\\nspending\\ncateg orization\\nmodel\\nthat\\nautomatically\\nclassifies\\ntransactions\\ninto\\nbroad\\ncateg ories \\n●\\nDeveloped\\na\\ntree-based\\nfraud\\ndetection\\nmodel\\nto\\nflag\\nsuspicious\\ntransactions\\nand\\nreduce\\nFalse\\nalarms,\\nreducing \\non\\naverage\\n~60-70%\\nof\\nFalse\\npositi ve\\nalarms,\\nreducing\\nanalysts\\nworkload\\non\\nanalyzing\\nand\\nreporting\\nthem.\\nEY\\n|\\nJunior\\nConsultant\\nat\\nLife-Science\\nteam\\nBarcelona,\\nSpain\\n|\\n07.2018\\n-\\n11.2018\\nIRB/IBEC\\n|\\nMSc\\nInter nships\\nBarcelona,\\nSpain\\n|\\n06.2017\\n-\\n07.2018 \\n●\\n[IRB]\\nDeveloped\\na\\ntarget\\nprediction\\ntool\\nusing\\nSimilarity\\nEnsemble\\nApproac h\\n(SEA)\\nand\\nSiamese\\nNN, \\ninteg rating\\nbioacti vity\\ndata\\nand\\ngene\\nexpression\\nprofiles\\nto\\nenhance\\ndrug-targ et\\ninteraction\\npredictions . \\n●\\n[IBEC]\\nUsed\\nfinite-element\\nmethods\\nto\\ncompute\\nvisco-elastic\\nforces\\nfor\\nbiological\\ntissues\\n.\\nEducation\\nIMF\\nSchool\\n|\\nMaster’ s\\nDegree\\nin\\nBusiness\\nAnalytics\\n&\\nBig\\nData\\nGrade:\\n9.8\\nMadrid,\\nSpain\\n|\\n05.2019\\n-\\n10.2020 \\nUPF/UB\\n|\\nMaster’ s\\nDegree\\nin\\nBioinfor matics\\nfor\\nHealth\\nSciences\\nGrade:\\n9.1\\nBarcelona,\\nSpain\\n|\\n09.2016\\n-\\n06.2018 \\nUPC\\n|\\nBachelor’ s\\nDegree\\nin\\nEngineering\\nPhysics\\nGrade:\\n7.6\\nBarcelona,\\nSpain\\n|\\n09.2012\\n-\\n06.2016'},\n",
       "  'vector': None,\n",
       "  'shard_key': None,\n",
       "  'order_value': None}]"
      ]
     },
     "execution_count": 27,
     "metadata": {},
     "output_type": "execute_result"
    }
   ],
   "source": [
    "context"
   ]
  },
  {
   "cell_type": "code",
   "execution_count": 28,
   "metadata": {},
   "outputs": [],
   "source": [
    "combined_prompt = []\n",
    "\n",
    "for entry in context:\n",
    "    text = entry[\"payload\"][\"text\"]\n",
    "    prompt = \"\" if text is None else text\n",
    "    combined_prompt.append(prompt)\n",
    "\n",
    "context = \"\\n\\n---\\n\\n\".join(combined_prompt)"
   ]
  },
  {
   "cell_type": "code",
   "execution_count": 29,
   "metadata": {},
   "outputs": [
    {
     "name": "stdout",
     "output_type": "stream",
     "text": [
      "7048\n"
     ]
    }
   ],
   "source": [
    "print(len(context))"
   ]
  },
  {
   "cell_type": "code",
   "execution_count": 30,
   "metadata": {},
   "outputs": [
    {
     "name": "stdout",
     "output_type": "stream",
     "text": [
      "4053\n",
      "2988\n"
     ]
    }
   ],
   "source": [
    "print(len(text_sec))\n",
    "print(len(text_top))"
   ]
  },
  {
   "cell_type": "code",
   "execution_count": 31,
   "metadata": {},
   "outputs": [],
   "source": [
    "from prompt_template import qa_prompt_tmpl_str"
   ]
  },
  {
   "cell_type": "code",
   "execution_count": 32,
   "metadata": {},
   "outputs": [
    {
     "name": "stdout",
     "output_type": "stream",
     "text": [
      "Context information is below.\n",
      "---------------------\n",
      "{context}\n",
      "---------------------\n",
      "Given the context information above I want you to think step by step to answer the query in a crisp manner, incase case you don't know the answer say 'I don't know!'.\n",
      "Query: {query}\n",
      "Answer: \n"
     ]
    }
   ],
   "source": [
    "print(qa_prompt_tmpl_str)"
   ]
  },
  {
   "cell_type": "code",
   "execution_count": 33,
   "metadata": {},
   "outputs": [],
   "source": [
    "query = \"What is the Localtion of the person of this CV ?\"\n",
    "prompt = qa_prompt_tmpl_str.format(context=context, query=query)"
   ]
  },
  {
   "cell_type": "code",
   "execution_count": 34,
   "metadata": {},
   "outputs": [
    {
     "name": "stdout",
     "output_type": "stream",
     "text": [
      "rade:\n",
      "7.6\n",
      "Barcelona,\n",
      "Spain\n",
      "|\n",
      "09.2012\n",
      "-\n",
      "06.2016\n",
      "---------------------\n",
      "Given the context information above I want you to think step by step to answer the query in a crisp manner, incase case you don't know the answer say 'I don't know!'.\n",
      "Query: What is the Localtion of the person of this CV ?\n",
      "Answer: \n"
     ]
    }
   ],
   "source": [
    "print(prompt[-300:])"
   ]
  },
  {
   "cell_type": "code",
   "execution_count": 35,
   "metadata": {},
   "outputs": [],
   "source": [
    "messages = [{\"role\": \"user\", \"content\": [\n",
    "    {\"type\": \"text\", \"text\": prompt}\n",
    "]}]"
   ]
  },
  {
   "cell_type": "markdown",
   "metadata": {},
   "source": [
    "## Llama 3.2"
   ]
  },
  {
   "cell_type": "code",
   "execution_count": 36,
   "metadata": {},
   "outputs": [],
   "source": [
    "import transformers\n",
    "import torch"
   ]
  },
  {
   "cell_type": "code",
   "execution_count": 37,
   "metadata": {},
   "outputs": [
    {
     "data": {
      "application/vnd.jupyter.widget-view+json": {
       "model_id": "4a5c6812ac3b4675a7a487bde79aec1b",
       "version_major": 2,
       "version_minor": 0
      },
      "text/plain": [
       "Loading checkpoint shards:   0%|          | 0/4 [00:00<?, ?it/s]"
      ]
     },
     "metadata": {},
     "output_type": "display_data"
    },
    {
     "name": "stderr",
     "output_type": "stream",
     "text": [
      "Device set to use cuda:0\n"
     ]
    }
   ],
   "source": [
    "model_id = \"meta-llama/Meta-Llama-3.1-8B-Instruct\"\n",
    "\n",
    "pipeline = transformers.pipeline(\n",
    "    \"text-generation\",\n",
    "    model=model_id,\n",
    "    model_kwargs={\"torch_dtype\": torch.bfloat16},\n",
    "    device_map=\"auto\",\n",
    ")"
   ]
  },
  {
   "cell_type": "code",
   "execution_count": 38,
   "metadata": {},
   "outputs": [
    {
     "name": "stderr",
     "output_type": "stream",
     "text": [
      "Setting `pad_token_id` to `eos_token_id`:128001 for open-end generation.\n"
     ]
    }
   ],
   "source": [
    "outputs = pipeline(\n",
    "    messages,\n",
    "    max_new_tokens=256,\n",
    ")"
   ]
  },
  {
   "cell_type": "code",
   "execution_count": 39,
   "metadata": {},
   "outputs": [
    {
     "data": {
      "text/plain": [
       "[{'generated_text': [{'role': 'user',\n",
       "    'content': [{'type': 'text',\n",
       "      'text': \"Context information is below.\\n---------------------\\nPr ofessional\\nDev elopment\\nContin uously\\ndeveloping\\nexper tise\\nin\\nAI/ML\\nthrough\\ncourses\\non\\nLLMOps ,\\nNLP,\\nand\\nBig\\nData\\ntechnologies , \\nincluding\\nhands-on\\nexperience\\nwith\\ncloud\\nplatfor ms\\nlike\\nAWS.\\nMOOCs:\\nLLMOps\\n&\\nML\\nDeployment:\\nUdemy\\n|\\nCurrent \\nNLP\\nSpecialization\\nCoursera\\n|\\n01-2022 \\nDeployment\\nof\\nML\\nmodels\\nUdemy\\n|\\n12-2020 \\nNeo4J\\nIntr oduction\\nNeo4j\\n|\\n06-2020 \\nPlotl y/Dash\\ndashboards\\nUdemy\\n|\\n02-2020 \\nBig\\nData\\nSpecialization\\nCoursera\\n|\\n03-2019 \\nMathematical\\nBiostatistics\\nCoursera\\n|\\n05-2021\\nBooks:\\nHands-On\\nGenerati ve\\nAI\\nO’Reilly\\n|\\nCurrent \\nHands-On\\nGraph\\nNN\\nO’Reilly\\n|\\n01-2023 \\nNLP\\nwith\\nTransf ormer s\\nO’Reilly\\n|\\n07-2022 \\nApplied\\nrecsys\\nwith\\nPython\\nO’Reilly\\n|\\n01-2022 \\nDeep\\nRL\\nHands-On\\nO’Reilly\\n|\\n12-2021 \\nHands-On\\nExplaina ble\\nAI\\n(XAI)\\nO’Reilly\\n|\\n07-2021 \\nBay esian\\nAnal ysis\\nwith\\nPython\\nO’Reilly\\n|\\n03-2021\\nPublications\\no\\nFooDI-ML:\\na\\nlarge\\nmulti-languag e\\ndataset\\nof\\nfood,\\ndrinks\\nand\\ngroceries\\nimages\\nand\\ndescriptions\\n|\\narXiv\\n-\\n2021\\no\\nExtending\\nthe\\nsmall-molecule\\nsimilarity\\nprinciple\\nto\\nall\\nlevels\\nof\\nbiolog y\\n|\\nNat\\nBiotechnol\\n-\\n2020\\no\\nComputation\\nof\\nforces\\nfrom\\ndefor med\\nvisco-elastic\\nbiological\\ntissues\\n|\\nInverse\\nProblems\\n-\\n2018\\no\\nPendulum\\ndynamics\\nin\\nan\\namusement\\npark\\n|\\nEuropean\\nJounral\\nof\\nPhysics\\n-\\n2017\\nPr ojects\\no\\n2048\\n:\\ndeveloped\\nin\\nPython\\na\\nclone\\nof\\nthe\\n2048\\ngame\\nand\\nused\\nREINFOR CE\\nto\\nplay\\nthe\\ngame\\noptimally\\no\\nFoodi-ml\\n:\\ntraining\\nimage-text\\nalignment\\nmodel\\n(ADAPT)\\nfor\\nFooDI-ML\\ndataset\\no\\nSoccer -Star s\\nDjango\\nWebapp:\\nclone\\nthe\\nmobile\\ngame\\nSoccer\\nStars\\nwith\\na\\nReact\\napp\\nusing\\nDjang o\\nas\\nBackend\\nto\\ncompute\\ncollisions\\nand\\ntrajectories \\no\\nFitcheck\\nAI:\\nbuild\\na\\nDjang o\\nBackend\\nconnecting\\nto\\nOpenAI\\nAPI\\nto\\nask\\nGPT -4o\\nfor\\nratings\\non\\nyour\\noutfit\\nimage\\no\\nPortfolio:\\nbuilding\\nmy\\nown\\nweb\\napp\\nportfolio\\nin\\nNext.js\\n/\\nReact\\n/\\nTailwind\\nCSS,\\netc.\\n(In\\nProgress)\\no\\nPDF\\nSearch\\nLLM\\nRAG:\\nbuilding\\na\\nlocal\\nPDF\\nsummarizer\\nwith\\nSentence\\nTransfor mers,\\nOpenSearc h\\nas\\nVector\\nDatabase ,\\nMistral\\nfine-tuning\\nwith\\nLoRA\\non\\nquestion/answ ers\\ndataset\\ngenerated\\nby\\nGPT -4o,\\nand\\nserving\\nit\\nas\\na \\nStreamlit\\napp\\nthat\\nuses\\nRAG\\nfrom\\nthe\\nembedded\\nPDFs .\\n(In\\nProgress) \\no\\nBuild\\nyour\\nown\\nMLP:\\nbuilding\\na\\nMedium\\npost\\nto\\nguide\\non\\nthe\\nset\\nup\\nof\\na\\nlocal\\nK8s\\ncluster\\nwith\\nK3d,\\nwith\\nArgo\\ninstalled\\nto\\nleverage\\nyour\\ncomputer\\nas\\na\\ncompute\\nserver\\nusing\\nArgo\\nWorkflows\\nand\\nRollouts\\nfor\\nthe\\nAPI\\n(In\\nProgress)\\nSkills\\nPr ogramming\\nLangua ges\\n:\\nPython\\n|\\nR\\n|\\nSQL \\nWeb/Back end\\nDev elopment:\\nDjang o\\n|\\nFlask\\n|\\nReact \\nMachine\\nLear ning\\n&\\nAI:\\nNLP\\n|\\nComputer\\nVision\\n|\\nPyTorch\\n|\\nHuggingF ace\\n|\\nTransfor mers\\n|\\nGenerati ve\\nAI\\n| \\nMulti-Ar med\\nBandit\\n|\\nREINFOR CE\\n|\\nCollaborati ve\\nFiltering\\n|\\nWord2V ec\\n|\\nGraph\\nNN\\n|\\nBayesian\\nInference\\n| \\nRAG \\nData\\nEngineering\\n&\\nMLOps:\\nFeature\\nStore\\n|\\nTrino\\nSQL\\n|\\nAirflow\\n|\\nDocker\\n|\\nKubernetes\\n|\\nArgo\\n|\\nJenkins\\n| \\nAWS\\n|\\nMLOps\\n|\\nUnit/Integ ration\\nTesting\\n|\\nCI/CD \\nTools\\n&\\nPlatf orms:\\nGit\\n|\\nGrafana\\n|\\nDatadog\\n|\\nOpenAI\\nAPI\\nInter ests\\nPlaying\\nthe\\npiano\\n(I\\nlove\\nChopin\\n),\\nplaying\\nsports\\nvideo\\ngames\\nlike\\nFIFA\\n,\\nI’ve\\nbeen\\na\\ntennis\\ncoach\\nfor\\n4\\nyears\\nas\\na \\nteenag er,\\nnow\\nI\\ncompete\\nin\\nlocal\\ncompetitions .\\n\\n---\\n\\nDavid\\nAmat\\nSenior\\nData\\nScientist \\n(Glovo)\\nCAT\\n|\\xa0ENG\\n|\\nSPA\\nLocation:\\nBarcelona,\\nSpain\\nDate\\nof\\nbirth:\\n20-04-1994\\nNumber:\\n+(34)-608526629\\ndaolondrizdaolondriz@gmai.com\\nin:\\ndavid-amat-olondriz/\\ngithub:\\nDavidAmat\\nFull\\nStack\\nData\\nScientist\\nwith\\n6+\\nyears\\nof\\nexperience\\nin\\nend-to-end\\nML\\ndevelopment,\\nspecializing\\nin\\nrecommender \\nsystems ,\\ndeep\\nlearning,\\nNLP,\\ncomputer\\nvision,\\nand\\nAI/LLM\\ntechnologies .\\nCurrently\\nleading\\nprojects\\nat\\nGlovo, \\ndriving\\nimpro vements\\nin\\nML\\nplatfor m\\nlifecycle ,\\nfeature\\nengineering,\\nand\\nreal-time\\nAPI\\nserving\\nwith\\na\\nfocus\\non \\nscalable ,\\nproduct-dri ven\\nsolutions .\\nProven\\ntrack\\nrecord\\nof\\ncollaborating\\ncross-functionally\\nwith\\nProduct\\nand \\nBackend\\nteams ,\\ndelivering\\nimpactful\\ndata-dri ven\\nproducts .\\nConstantly\\nadvancing\\nskills\\nin\\nAI/ML\\nsystem\\ndesign\\nand \\nstaying\\nupdated\\nwith\\nstate-of-the-ar t\\ntechnologies .\\nWork\\nexperience\\nGlo vo\\n|\\nSenior\\nData\\nScientist\\nBarcelona,\\nSpain\\n|\\n07.2020\\n-\\nCurrent \\n●\\nLed\\nthe\\ndevelopment\\nand\\noptimization\\nof\\na\\nStock\\nPrediction\\nModel\\n(SPM)\\nfor\\nGroceries ,\\nsignificantly\\nreducing \\nProduct\\nNot\\nAvailable\\n(PNA)\\nmetrics\\nby\\n10-14%,\\nresulting\\nin\\n~€2M\\nannual\\nsavings . \\n●\\nEngineered\\na\\nnew\\nrestaurant\\nrecommender\\nsystem,\\ntransitioning\\nfrom\\ncollaborati ve\\nfiltering\\n(SVD)\\nto\\nan \\nadvanced\\nembedding-based\\nmodel\\nusing\\nWord2V ec,\\nleading\\nto\\na\\n1%\\nabsolute\\nincrease\\nin\\nCVR.\\nInteg rated\\nthe \\nsystem\\nwith\\na\\nlow-latency\\nAPI\\nutilizing\\na\\nFeature\\nStore ,\\nenabling\\nreal-time\\nrecommendations .\\nA/B\\ntest \\nexperiments\\nshowed\\n+0.8M\\nincremental\\norders\\n/\\nyear. \\n●\\nIdeation\\nand\\nproductization\\nof\\nMulti-Ar med\\nBandit\\nframew ork\\nto\\ntailor\\nrecommender\\nwidgets\\nfor\\neach\\nuser \\nuser,\\nusing\\na\\ncustom-made\\napproac h\\niterated\\nfrom\\ntypical\\nThompson\\nSampling\\napproac h\\n(in\\ntest). \\n●\\nFirst\\nprize\\nin\\nan\\ninternal\\nHackathon\\nfine-tuning\\na\\nStable\\nDiffusion\\nmodel\\nto\\ngenerate\\ndish\\nimages\\nfrom\\ntext. \\n●\\nBenc hmarking\\nCLIP\\nmodel\\non\\nour\\nreleased\\nFoodi-ML\\nmulti-modal\\ndataset \\n●\\nGained\\nML\\nEngineering\\nskills\\nmastering\\nour\\nin-house\\nML\\nPlatfor m\\narchitecture ,\\nincluding\\nproject\\nsetup\\nwith \\nPoetry,\\nscalable\\ntrainings\\nin\\nArgo\\nWorkflows\\nunder\\nK8s,\\nAPI\\ninferences\\nserving\\nwith\\nFlask,\\nDockerization\\nand \\nECR\\nmanag ement,\\nfull\\nCI/CD\\nlifecycle\\nwith\\nArgo\\nCD,\\nGitOps ,\\nJenkins ,\\nArgo\\nRollouts ,\\netc.\\nBesides ,\\nI\\nalso\\nbuild \\ndeclarati ve\\nData\\nProducts\\nrunning\\nin\\nAirflow,\\nlinking\\nthem\\nto\\nFeature\\nStore\\nfor\\nproduction\\nlow-latency\\nretriev al. \\n●\\nExperience\\nin\\nA/B\\ntest\\nanalysis ,\\nincluding\\ndesign\\non\\nour\\nExperimentation\\nPlatfor m,\\nmetric\\nselection,\\nMDE \\nanalysis ,\\nand\\nresult\\nevaluation\\nusing\\nchi-squared\\ntests,\\nz-tests ,\\nand\\np-value\\ncorrections\\nwith\\nPython\\nlibraries\\nBanc\\nSa badell\\n|\\nData\\nScientist\\nSant\\nCugat\\ndel\\nVallès,\\nSpain\\n|\\n11.2018\\n-\\n07-2020 \\n●\\nYoung\\nTalent\\nprogram\\nfocused\\non\\nData\\nScience\\nwithin\\nthe\\nBank\\n(6\\nmonths\\nrotation\\nto\\ndifferent\\nareas). \\n●\\nDeveloped\\na\\npredicti ve\\nmodel\\noptimizing\\nchannel\\nselection\\nfor\\ndebt\\nrecovery,\\nleveraging\\ndecision\\ntrees\\nto \\nidentify\\noptimal\\ncomm unication\\nstrategies ,\\nwhich\\nimpro ved\\nrecovery\\nrates\\nby\\n5% \\n●\\nCollaborated\\non\\na\\nspending\\ncateg orization\\nmodel\\nthat\\nautomatically\\nclassifies\\ntransactions\\ninto\\nbroad\\ncateg ories \\n●\\nDeveloped\\na\\ntree-based\\nfraud\\ndetection\\nmodel\\nto\\nflag\\nsuspicious\\ntransactions\\nand\\nreduce\\nFalse\\nalarms,\\nreducing \\non\\naverage\\n~60-70%\\nof\\nFalse\\npositi ve\\nalarms,\\nreducing\\nanalysts\\nworkload\\non\\nanalyzing\\nand\\nreporting\\nthem.\\nEY\\n|\\nJunior\\nConsultant\\nat\\nLife-Science\\nteam\\nBarcelona,\\nSpain\\n|\\n07.2018\\n-\\n11.2018\\nIRB/IBEC\\n|\\nMSc\\nInter nships\\nBarcelona,\\nSpain\\n|\\n06.2017\\n-\\n07.2018 \\n●\\n[IRB]\\nDeveloped\\na\\ntarget\\nprediction\\ntool\\nusing\\nSimilarity\\nEnsemble\\nApproac h\\n(SEA)\\nand\\nSiamese\\nNN, \\ninteg rating\\nbioacti vity\\ndata\\nand\\ngene\\nexpression\\nprofiles\\nto\\nenhance\\ndrug-targ et\\ninteraction\\npredictions . \\n●\\n[IBEC]\\nUsed\\nfinite-element\\nmethods\\nto\\ncompute\\nvisco-elastic\\nforces\\nfor\\nbiological\\ntissues\\n.\\nEducation\\nIMF\\nSchool\\n|\\nMaster’ s\\nDegree\\nin\\nBusiness\\nAnalytics\\n&\\nBig\\nData\\nGrade:\\n9.8\\nMadrid,\\nSpain\\n|\\n05.2019\\n-\\n10.2020 \\nUPF/UB\\n|\\nMaster’ s\\nDegree\\nin\\nBioinfor matics\\nfor\\nHealth\\nSciences\\nGrade:\\n9.1\\nBarcelona,\\nSpain\\n|\\n09.2016\\n-\\n06.2018 \\nUPC\\n|\\nBachelor’ s\\nDegree\\nin\\nEngineering\\nPhysics\\nGrade:\\n7.6\\nBarcelona,\\nSpain\\n|\\n09.2012\\n-\\n06.2016\\n---------------------\\nGiven the context information above I want you to think step by step to answer the query in a crisp manner, incase case you don't know the answer say 'I don't know!'.\\nQuery: What is the Localtion of the person of this CV ?\\nAnswer: \"}]},\n",
       "   {'role': 'assistant',\n",
       "    'content': 'To find the location of the person in the CV, I will look for the relevant information in the given context. \\n\\nThe relevant line in the context is:\\n\\n\"Location: Barcelona, Spain\"\\n\\nTherefore, the answer is: \"Barcelona, Spain\"'}]}]"
      ]
     },
     "execution_count": 39,
     "metadata": {},
     "output_type": "execute_result"
    }
   ],
   "source": [
    "outputs"
   ]
  },
  {
   "cell_type": "code",
   "execution_count": 42,
   "metadata": {},
   "outputs": [
    {
     "name": "stdout",
     "output_type": "stream",
     "text": [
      "To find the location of the person in the CV, I will look for the relevant information in the given context. \n",
      "\n",
      "The relevant line in the context is:\n",
      "\n",
      "\"Location: Barcelona, Spain\"\n",
      "\n",
      "Therefore, the answer is: \"Barcelona, Spain\"\n"
     ]
    }
   ],
   "source": [
    "print(outputs[0][\"generated_text\"][-1][\"content\"])"
   ]
  },
  {
   "cell_type": "code",
   "execution_count": null,
   "metadata": {},
   "outputs": [],
   "source": []
  }
 ],
 "metadata": {
  "kernelspec": {
   "display_name": "kr_apirag",
   "language": "python",
   "name": "kr_apirag"
  },
  "language_info": {
   "codemirror_mode": {
    "name": "ipython",
    "version": 3
   },
   "file_extension": ".py",
   "mimetype": "text/x-python",
   "name": "python",
   "nbconvert_exporter": "python",
   "pygments_lexer": "ipython3",
   "version": "3.10.14"
  }
 },
 "nbformat": 4,
 "nbformat_minor": 2
}
